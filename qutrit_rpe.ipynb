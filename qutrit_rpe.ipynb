{
 "cells": [
  {
   "cell_type": "code",
   "execution_count": 176,
   "metadata": {},
   "outputs": [
    {
     "name": "stdout",
     "output_type": "stream",
     "text": [
      "The autoreload extension is already loaded. To reload it, use:\n",
      "  %reload_ext autoreload\n"
     ]
    }
   ],
   "source": [
    "\n",
    "\n",
    "import numpy as np\n",
    "from matplotlib import pyplot as plt\n",
    "\n",
    "from qutrit_rpe import *\n",
    "\n",
    "%load_ext autoreload \n",
    "%autoreload 2\n"
   ]
  },
  {
   "cell_type": "code",
   "execution_count": 177,
   "metadata": {},
   "outputs": [],
   "source": [
    "xvec = random_error_vector(0.001, 0.01)\n",
    "qids = ['Q0', 'Q1']\n",
    "depol_rates = [0.001, 0.01] # 1 and 2 qubit depolarizing rates"
   ]
  },
  {
   "cell_type": "code",
   "execution_count": 178,
   "metadata": {},
   "outputs": [
    {
     "data": {
      "text/plain": [
       "{'single_qutrit': {'Q0': {'X01': -0.026485686422796296,\n",
       "   'phase01': 0.04233818371753959,\n",
       "   'X12': 0.025244382112121707,\n",
       "   'phase12': -0.01108740099847887},\n",
       "  'Q1': {'X01': -0.012701203704893256,\n",
       "   'phase01': 0.019331365742392224,\n",
       "   'X12': 0.022335606059599986,\n",
       "   'phase12': -0.051140980602201694}},\n",
       " 'two_qutrit': {'phi1': -0.07294154615391833,\n",
       "  'phi2': -0.19647825481536127,\n",
       "  'phi3': 0.026841823634807183,\n",
       "  'phi4': -0.06829027518388735,\n",
       "  'phi5': 0.08930114994562333,\n",
       "  'phi6': 0.024752636743452988,\n",
       "  'phi7': 0.044429863582980574,\n",
       "  'phi8': -0.010193917403466646}}"
      ]
     },
     "execution_count": 178,
     "metadata": {},
     "output_type": "execute_result"
    }
   ],
   "source": [
    "parse_error_vector(xvec, qids)"
   ]
  },
  {
   "cell_type": "code",
   "execution_count": 179,
   "metadata": {},
   "outputs": [],
   "source": [
    "target_model = make_two_qutrit_model(np.zeros(16), single_qutrit_depol=0.0, two_qutrit_depol=0.0, qids=qids)\n",
    "noise_model = make_two_qutrit_model(xvec, single_qutrit_depol=depol_rates[0], two_qutrit_depol=depol_rates[1], qids=qids)"
   ]
  },
  {
   "cell_type": "code",
   "execution_count": 185,
   "metadata": {},
   "outputs": [
    {
     "name": "stdout",
     "output_type": "stream",
     "text": [
      "True\n",
      "True\n",
      "True\n",
      "True\n"
     ]
    }
   ],
   "source": [
    "from numpy.linalg import matrix_power\n",
    "\n",
    "def gX01(qid):\n",
    "    return [(f'Gx01', qid)]\n",
    "\n",
    "def gY01(qid):\n",
    "    return [(f'Gz01', qid)] + [(f'Gx01', qid)] + [(f'Gx01', qid)]*3\n",
    "\n",
    "def gX12(qid):\n",
    "    return [(f'Gx12', qid)]\n",
    "\n",
    "def gY12(qid):\n",
    "    return [(f'Gz12', qid)] + [(f'Gx12', qid)] + [(f'Gx12', qid)]*3\n",
    "\n",
    "def gZ01(qid):\n",
    "    return [(f'Gz01', qid)]\n",
    "\n",
    "def gZ12(qid):\n",
    "    return [(f'Gz12', qid)]\n",
    "\n",
    "def gX01_inv(qid):\n",
    "    return [(f'Gx01', qid)]*3 + [(f'Gz12', qid)]*2\n",
    "\n",
    "def gX12_inv(qid):\n",
    "    return [(f'Gx12', qid)]*3 + [(f'Gz01', qid)]*2\n",
    "\n",
    "def gY01_inv(qid):\n",
    "    return gY01(qid)*3 + [(f'Gz12', qid)]*2\n",
    "\n",
    "def gY12_inv(qid):\n",
    "    return gY12(qid)*3 + [(f'Gz01', qid)]*2\n",
    "\n",
    "def check_inverse_defs():\n",
    "    ux01 = modelX01(0,0)\n",
    "    uz01 = modelZ01()\n",
    "    ux12 = modelX12(0,0)\n",
    "    uz12 = modelZ12()\n",
    "    uy01 = matrix_power(uz01, 3)@ux01@uz01\n",
    "    uy12 = matrix_power(uz12, 3)@ux12@uz12\n",
    "\n",
    "    print(np.all(np.isclose(ux01@(ux01@ux01@ux01@uz12@uz12), -np.eye(3))))\n",
    "    print(np.all(np.isclose(ux12@(ux12@ux12@ux12@uz01@uz01), -np.eye(3))))\n",
    "    print(np.all(np.isclose(uy01@(uy01@uy01@uy01@uz12@uz12), -np.eye(3))))\n",
    "    print(np.all(np.isclose(uy12@(uy12@uy12@uy12@uz01@uz01), -np.eye(3))))\n",
    "check_inverse_defs()"
   ]
  },
  {
   "cell_type": "code",
   "execution_count": 186,
   "metadata": {},
   "outputs": [
    {
     "data": {
      "text/plain": [
       "array([[0.70710678+0.j        , 0.        -0.70710678j,\n",
       "        0.        +0.j        ],\n",
       "       [0.        -0.70710678j, 0.70710678+0.j        ,\n",
       "        0.        +0.j        ],\n",
       "       [0.        +0.j        , 0.        +0.j        ,\n",
       "        1.        +0.j        ]])"
      ]
     },
     "execution_count": 186,
     "metadata": {},
     "output_type": "execute_result"
    }
   ],
   "source": [
    "ux01"
   ]
  },
  {
   "cell_type": "code",
   "execution_count": 187,
   "metadata": {},
   "outputs": [
    {
     "data": {
      "text/plain": [
       "array([[ 0.70710678+0.j, -0.70710678+0.j],\n",
       "       [ 0.70710678+0.j,  0.70710678+0.j]])"
      ]
     },
     "execution_count": 187,
     "metadata": {},
     "output_type": "execute_result"
    }
   ],
   "source": [
    "sigY = np.array([[0, -1j], [1j, 0]])\n",
    "expm(-1j*np.pi/4*sigY)"
   ]
  },
  {
   "cell_type": "code",
   "execution_count": 201,
   "metadata": {},
   "outputs": [
    {
     "name": "stdout",
     "output_type": "stream",
     "text": [
      "phase12 cos prep [0.707-0.j 0.5  -0.j 0.5  +0.j]\n",
      "phase12 sin prep [0.707+0.j  0.   -0.5j 0.   -0.5j]\n",
      "phase01 cos prep [0.+0.5j   0.-0.5j   0.-0.707j]\n",
      "phase01 sin prep [ 0.   +0.5j  0.   -0.5j -0.707+0.j ]\n"
     ]
    }
   ],
   "source": [
    "ux01 = modelX01(0,0)\n",
    "uz01 = modelZ01()\n",
    "ux12 = modelX12(0,0)\n",
    "uz12 = modelZ12()\n",
    "uy01 = matrix_power(uz01, 3)@ux01@uz01\n",
    "uy12 = matrix_power(uz12, 3)@ux12@uz12\n",
    "\n",
    "print('phase12 cos prep', np.round(uy12@uy01@np.array([1,0,0]), 3))\n",
    "print('phase12 sin prep', np.round(uy12@ux01@np.array([1,0,0]), 3))\n",
    "\n",
    "print('phase01 cos prep', np.round(uy01@uy12@ux01@ux01@np.array([1,0,0]), 3))\n",
    "print('phase01 sin prep', np.round(uy01@ux12@ux01@ux01@np.array([1,0,0]), 3))"
   ]
  },
  {
   "cell_type": "code",
   "execution_count": 140,
   "metadata": {},
   "outputs": [],
   "source": [
    "from pygsti.circuits import Circuit\n",
    "\n",
    "def make_rpe_circuit(germ, prep, meas, depth, line_labels):\n",
    "    prep_circ = Circuit(prep, line_labels=line_labels)\n",
    "    germ_circ = Circuit(germ, line_labels=line_labels)\n",
    "    meas_circ = Circuit(meas, line_labels=line_labels)\n",
    "    return prep_circ + germ_circ * depth + meas_circ\n",
    "\n",
    "class RPEDesign1QT:\n",
    "    def __init__(self, depths, qid, line_labels=None):\n",
    "        self.depths = depths\n",
    "        self.qid = qid\n",
    "        if line_labels is None:\n",
    "            line_labels = [qid]\n",
    "        self.line_labels = line_labels\n",
    "        self.circuit_dict = self._construct()\n",
    "        self.circ_list = self._make_circuit_list()\n",
    "\n",
    "\n",
    "    def _make_circuit_list(self):\n",
    "        circs = []\n",
    "        for param_label in self.circuit_dict.keys():\n",
    "            for type_label in self.circuit_dict[param_label].keys():\n",
    "                circs.extend(self.circuit_dict[param_label][type_label])\n",
    "        return pygsti.remove_duplicates(circs)\n",
    "\n",
    "    \n",
    "\n",
    "    def _construct(self):\n",
    "        circ_dict = {\n",
    "            'Phase01': {},\n",
    "            'Phase12': {},\n",
    "            'X01 overrot': {},\n",
    "            'X12 overrot': {}\n",
    "        }\n",
    "        circ_dict['X01 overrot']['I'] = self.make_x01_overrot_cos_circuits(self.depths, self.qid, self.line_labels)\n",
    "        circ_dict['X01 overrot']['Q'] = self.make_x01_overrot_sin_circuits(self.depths, self.qid, self.line_labels)\n",
    "        circ_dict['X12 overrot']['I'] = self.make_x12_overrot_cos_circuits(self.depths, self.qid, self.line_labels)\n",
    "        circ_dict['X12 overrot']['Q'] = self.make_x12_overrot_sin_circuits(self.depths, self.qid, self.line_labels)\n",
    "        circ_dict['Phase01']['I'] = self.make_phase01_cos_circuits(self.depths, self.qid, self.line_labels)\n",
    "        circ_dict['Phase01']['Q'] = self.make_phase01_sin_circuits(self.depths, self.qid, self.line_labels)\n",
    "        return circ_dict\n",
    "\n",
    "    def make_x01_overrot_cos_circuits(self, depths, qid, line_labels):\n",
    "        return [make_rpe_circuit(gX01(qid), [], [], depth, line_labels) for depth in depths]\n",
    "    \n",
    "    def make_x01_overrot_sin_circuits(self, depths, qid, line_labels):\n",
    "        return [make_rpe_circuit(gX01(qid), gX01(qid), [], depth, line_labels) for depth in depths]\n",
    "    \n",
    "    def make_x12_overrot_cos_circuits(self, depths, qid, line_labels):\n",
    "        return [make_rpe_circuit(gX12(qid), [], [], depth, line_labels) for depth in depths]\n",
    "    \n",
    "    def make_x12_overrot_sin_circuits(self, depths, qid, line_labels):\n",
    "        return [make_rpe_circuit(gX12(qid), gX12(qid), [], depth, line_labels) for depth in depths]\n",
    "    \n",
    "    def make_phase01_cos_circuits(self, depths, qid, line_labels):\n",
    "        prep = gX01(qid) + gX01(qid) + gX12(qid) + gY01(qid) \n",
    "        meas = gY01_inv(qid) + gX12_inv(qid) + gX01(qid)*6\n",
    "        return [make_rpe_circuit(gX01(qid), prep, meas, depth, line_labels) for depth in depths]\n",
    "\n",
    "    def make_phase01_sin_circuits(self, depths, qid, line_labels):\n",
    "        prep = gX01(qid) + gX01(qid) + gX12(qid) + gY01(qid) \n",
    "        meas = gY01_inv(qid) + gY12_inv(qid) + gX01(qid)*6\n",
    "        return [make_rpe_circuit(gX01(qid), prep, meas, depth, line_labels) for depth in depths]\n",
    "\n",
    "    \n"
   ]
  },
  {
   "cell_type": "code",
   "execution_count": 123,
   "metadata": {},
   "outputs": [
    {
     "data": {
      "text/plain": [
       "{'Phase01': {'I': [Circuit(Gx01:Q0Gx01:Q0Gx12:Q0Gz01:Q0Gz01:Q0Gx01:Q0Gx01:Q0Gx01:Q0Gx01:Q0Gx01:Q0Gx01:Q0Gx01:Q0Gx01:Q0Gz01:Q0Gz01:Q0Gx01:Q0Gx01:Q0Gx01:Q0Gx01:Q0Gx01:Q0Gx01:Q0Gx01:Q0Gz01:Q0Gz01:Q0Gx01:Q0Gx01:Q0Gx01:Q0Gx01:Q0Gx01:Q0Gx01:Q0Gx01:Q0Gz01:Q0Gz01:Q0Gx01:Q0Gx01:Q0Gx01:Q0Gx01:Q0Gx01:Q0Gx01:Q0Gx01:Q0Gz12:Q0Gz12:Q0Gz12:Q0Gz12:Q0Gx12:Q0Gx12:Q0Gx12:Q0Gz01:Q0Gz01:Q0Gz01:Q0Gz01:Q0Gx01:Q0Gx01:Q0Gx01:Q0Gx01:Q0Gx01:Q0Gx01:Q0@(Q0,Q1)),\n",
       "   Circuit(Gx01:Q0Gx01:Q0Gx12:Q0Gz01:Q0Gz01:Q0Gx01:Q0Gx01:Q0Gx01:Q0Gx01:Q0Gx01:Q0Gx01:Q0Gx01:Q0Gx01:Q0Gx01:Q0Gz01:Q0Gz01:Q0Gx01:Q0Gx01:Q0Gx01:Q0Gx01:Q0Gx01:Q0Gx01:Q0Gx01:Q0Gz01:Q0Gz01:Q0Gx01:Q0Gx01:Q0Gx01:Q0Gx01:Q0Gx01:Q0Gx01:Q0Gx01:Q0Gz01:Q0Gz01:Q0Gx01:Q0Gx01:Q0Gx01:Q0Gx01:Q0Gx01:Q0Gx01:Q0Gx01:Q0Gz12:Q0Gz12:Q0Gz12:Q0Gz12:Q0Gx12:Q0Gx12:Q0Gx12:Q0Gz01:Q0Gz01:Q0Gz01:Q0Gz01:Q0Gx01:Q0Gx01:Q0Gx01:Q0Gx01:Q0Gx01:Q0Gx01:Q0@(Q0,Q1)),\n",
       "   Circuit(Gx01:Q0Gx01:Q0Gx12:Q0Gz01:Q0Gz01:Q0Gx01:Q0Gx01:Q0Gx01:Q0Gx01:Q0Gx01:Q0Gx01:Q0Gx01:Q0Gx01:Q0Gx01:Q0Gx01:Q0Gx01:Q0Gz01:Q0Gz01:Q0Gx01:Q0Gx01:Q0Gx01:Q0Gx01:Q0Gx01:Q0Gx01:Q0Gx01:Q0Gz01:Q0Gz01:Q0Gx01:Q0Gx01:Q0Gx01:Q0Gx01:Q0Gx01:Q0Gx01:Q0Gx01:Q0Gz01:Q0Gz01:Q0Gx01:Q0Gx01:Q0Gx01:Q0Gx01:Q0Gx01:Q0Gx01:Q0Gx01:Q0Gz12:Q0Gz12:Q0Gz12:Q0Gz12:Q0Gx12:Q0Gx12:Q0Gx12:Q0Gz01:Q0Gz01:Q0Gz01:Q0Gz01:Q0Gx01:Q0Gx01:Q0Gx01:Q0Gx01:Q0Gx01:Q0Gx01:Q0@(Q0,Q1)),\n",
       "   Circuit(Gx01:Q0Gx01:Q0Gx12:Q0Gz01:Q0Gz01:Q0Gx01:Q0Gx01:Q0Gx01:Q0Gx01:Q0Gx01:Q0Gx01:Q0Gx01:Q0Gx01:Q0Gx01:Q0Gx01:Q0Gx01:Q0Gx01:Q0Gx01:Q0Gx01:Q0Gx01:Q0Gz01:Q0Gz01:Q0Gx01:Q0Gx01:Q0Gx01:Q0Gx01:Q0Gx01:Q0Gx01:Q0Gx01:Q0Gz01:Q0Gz01:Q0Gx01:Q0Gx01:Q0Gx01:Q0Gx01:Q0Gx01:Q0Gx01:Q0Gx01:Q0Gz01:Q0Gz01:Q0Gx01:Q0Gx01:Q0Gx01:Q0Gx01:Q0Gx01:Q0Gx01:Q0Gx01:Q0Gz12:Q0Gz12:Q0Gz12:Q0Gz12:Q0Gx12:Q0Gx12:Q0Gx12:Q0Gz01:Q0Gz01:Q0Gz01:Q0Gz01:Q0Gx01:Q0Gx01:Q0Gx01:Q0Gx01:Q0Gx01:Q0Gx01:Q0@(Q0,Q1)),\n",
       "   Circuit(Gx01:Q0Gx01:Q0Gx12:Q0Gz01:Q0Gz01:Q0Gx01:Q0Gx01:Q0Gx01:Q0Gx01:Q0Gx01:Q0Gx01:Q0Gx01:Q0Gx01:Q0Gx01:Q0Gx01:Q0Gx01:Q0Gx01:Q0Gx01:Q0Gx01:Q0Gx01:Q0Gx01:Q0Gx01:Q0Gx01:Q0Gx01:Q0Gx01:Q0Gx01:Q0Gx01:Q0Gx01:Q0Gz01:Q0Gz01:Q0Gx01:Q0Gx01:Q0Gx01:Q0Gx01:Q0Gx01:Q0Gx01:Q0Gx01:Q0Gz01:Q0Gz01:Q0Gx01:Q0Gx01:Q0Gx01:Q0Gx01:Q0Gx01:Q0Gx01:Q0Gx01:Q0Gz01:Q0Gz01:Q0Gx01:Q0Gx01:Q0Gx01:Q0Gx01:Q0Gx01:Q0Gx01:Q0Gx01:Q0Gz12:Q0Gz12:Q0Gz12:Q0Gz12:Q0Gx12:Q0Gx12:Q0Gx12:Q0Gz01:Q0Gz01:Q0Gz01:Q0Gz01:Q0Gx01:Q0Gx01:Q0Gx01:Q0Gx01:Q0Gx01:Q0Gx01:Q0@(Q0,Q1)),\n",
       "   Circuit(Gx01:Q0Gx01:Q0Gx12:Q0Gz01:Q0Gz01:Q0Gx01:Q0Gx01:Q0Gx01:Q0Gx01:Q0Gx01:Q0Gx01:Q0Gx01:Q0Gx01:Q0Gx01:Q0Gx01:Q0Gx01:Q0Gx01:Q0Gx01:Q0Gx01:Q0Gx01:Q0Gx01:Q0Gx01:Q0Gx01:Q0Gx01:Q0Gx01:Q0Gx01:Q0Gx01:Q0Gx01:Q0Gx01:Q0Gx01:Q0Gx01:Q0Gx01:Q0Gx01:Q0Gx01:Q0Gx01:Q0Gx01:Q0Gx01:Q0Gx01:Q0Gx01:Q0Gx01:Q0Gx01:Q0Gx01:Q0Gx01:Q0Gx01:Q0Gz01:Q0Gz01:Q0Gx01:Q0Gx01:Q0Gx01:Q0Gx01:Q0Gx01:Q0Gx01:Q0Gx01:Q0Gz01:Q0Gz01:Q0Gx01:Q0Gx01:Q0Gx01:Q0Gx01:Q0Gx01:Q0Gx01:Q0Gx01:Q0Gz01:Q0Gz01:Q0Gx01:Q0Gx01:Q0Gx01:Q0Gx01:Q0Gx01:Q0Gx01:Q0Gx01:Q0Gz12:Q0Gz12:Q0Gz12:Q0Gz12:Q0Gx12:Q0Gx12:Q0Gx12:Q0Gz01:Q0Gz01:Q0Gz01:Q0Gz01:Q0Gx01:Q0Gx01:Q0Gx01:Q0Gx01:Q0Gx01:Q0Gx01:Q0@(Q0,Q1))],\n",
       "  'Q': [Circuit(Gx01:Q0Gx01:Q0Gx12:Q0Gz01:Q0Gz01:Q0Gx01:Q0Gx01:Q0Gx01:Q0Gx01:Q0Gx01:Q0Gx01:Q0Gx01:Q0Gx01:Q0Gz01:Q0Gz01:Q0Gx01:Q0Gx01:Q0Gx01:Q0Gx01:Q0Gx01:Q0Gx01:Q0Gx01:Q0Gz01:Q0Gz01:Q0Gx01:Q0Gx01:Q0Gx01:Q0Gx01:Q0Gx01:Q0Gx01:Q0Gx01:Q0Gz01:Q0Gz01:Q0Gx01:Q0Gx01:Q0Gx01:Q0Gx01:Q0Gx01:Q0Gx01:Q0Gx01:Q0Gz12:Q0Gz12:Q0Gz12:Q0Gz12:Q0Gz12:Q0Gz12:Q0Gx12:Q0Gx12:Q0Gx12:Q0Gx12:Q0Gx12:Q0Gx12:Q0Gx12:Q0Gz12:Q0Gz12:Q0Gx12:Q0Gx12:Q0Gx12:Q0Gx12:Q0Gx12:Q0Gx12:Q0Gx12:Q0Gz12:Q0Gz12:Q0Gx12:Q0Gx12:Q0Gx12:Q0Gx12:Q0Gx12:Q0Gx12:Q0Gx12:Q0Gz01:Q0Gz01:Q0Gz01:Q0Gz01:Q0Gx01:Q0Gx01:Q0Gx01:Q0Gx01:Q0Gx01:Q0Gx01:Q0@(Q0,Q1)),\n",
       "   Circuit(Gx01:Q0Gx01:Q0Gx12:Q0Gz01:Q0Gz01:Q0Gx01:Q0Gx01:Q0Gx01:Q0Gx01:Q0Gx01:Q0Gx01:Q0Gx01:Q0Gx01:Q0Gx01:Q0Gz01:Q0Gz01:Q0Gx01:Q0Gx01:Q0Gx01:Q0Gx01:Q0Gx01:Q0Gx01:Q0Gx01:Q0Gz01:Q0Gz01:Q0Gx01:Q0Gx01:Q0Gx01:Q0Gx01:Q0Gx01:Q0Gx01:Q0Gx01:Q0Gz01:Q0Gz01:Q0Gx01:Q0Gx01:Q0Gx01:Q0Gx01:Q0Gx01:Q0Gx01:Q0Gx01:Q0Gz12:Q0Gz12:Q0Gz12:Q0Gz12:Q0Gz12:Q0Gz12:Q0Gx12:Q0Gx12:Q0Gx12:Q0Gx12:Q0Gx12:Q0Gx12:Q0Gx12:Q0Gz12:Q0Gz12:Q0Gx12:Q0Gx12:Q0Gx12:Q0Gx12:Q0Gx12:Q0Gx12:Q0Gx12:Q0Gz12:Q0Gz12:Q0Gx12:Q0Gx12:Q0Gx12:Q0Gx12:Q0Gx12:Q0Gx12:Q0Gx12:Q0Gz01:Q0Gz01:Q0Gz01:Q0Gz01:Q0Gx01:Q0Gx01:Q0Gx01:Q0Gx01:Q0Gx01:Q0Gx01:Q0@(Q0,Q1)),\n",
       "   Circuit(Gx01:Q0Gx01:Q0Gx12:Q0Gz01:Q0Gz01:Q0Gx01:Q0Gx01:Q0Gx01:Q0Gx01:Q0Gx01:Q0Gx01:Q0Gx01:Q0Gx01:Q0Gx01:Q0Gx01:Q0Gx01:Q0Gz01:Q0Gz01:Q0Gx01:Q0Gx01:Q0Gx01:Q0Gx01:Q0Gx01:Q0Gx01:Q0Gx01:Q0Gz01:Q0Gz01:Q0Gx01:Q0Gx01:Q0Gx01:Q0Gx01:Q0Gx01:Q0Gx01:Q0Gx01:Q0Gz01:Q0Gz01:Q0Gx01:Q0Gx01:Q0Gx01:Q0Gx01:Q0Gx01:Q0Gx01:Q0Gx01:Q0Gz12:Q0Gz12:Q0Gz12:Q0Gz12:Q0Gz12:Q0Gz12:Q0Gx12:Q0Gx12:Q0Gx12:Q0Gx12:Q0Gx12:Q0Gx12:Q0Gx12:Q0Gz12:Q0Gz12:Q0Gx12:Q0Gx12:Q0Gx12:Q0Gx12:Q0Gx12:Q0Gx12:Q0Gx12:Q0Gz12:Q0Gz12:Q0Gx12:Q0Gx12:Q0Gx12:Q0Gx12:Q0Gx12:Q0Gx12:Q0Gx12:Q0Gz01:Q0Gz01:Q0Gz01:Q0Gz01:Q0Gx01:Q0Gx01:Q0Gx01:Q0Gx01:Q0Gx01:Q0Gx01:Q0@(Q0,Q1)),\n",
       "   Circuit(Gx01:Q0Gx01:Q0Gx12:Q0Gz01:Q0Gz01:Q0Gx01:Q0Gx01:Q0Gx01:Q0Gx01:Q0Gx01:Q0Gx01:Q0Gx01:Q0Gx01:Q0Gx01:Q0Gx01:Q0Gx01:Q0Gx01:Q0Gx01:Q0Gx01:Q0Gx01:Q0Gz01:Q0Gz01:Q0Gx01:Q0Gx01:Q0Gx01:Q0Gx01:Q0Gx01:Q0Gx01:Q0Gx01:Q0Gz01:Q0Gz01:Q0Gx01:Q0Gx01:Q0Gx01:Q0Gx01:Q0Gx01:Q0Gx01:Q0Gx01:Q0Gz01:Q0Gz01:Q0Gx01:Q0Gx01:Q0Gx01:Q0Gx01:Q0Gx01:Q0Gx01:Q0Gx01:Q0Gz12:Q0Gz12:Q0Gz12:Q0Gz12:Q0Gz12:Q0Gz12:Q0Gx12:Q0Gx12:Q0Gx12:Q0Gx12:Q0Gx12:Q0Gx12:Q0Gx12:Q0Gz12:Q0Gz12:Q0Gx12:Q0Gx12:Q0Gx12:Q0Gx12:Q0Gx12:Q0Gx12:Q0Gx12:Q0Gz12:Q0Gz12:Q0Gx12:Q0Gx12:Q0Gx12:Q0Gx12:Q0Gx12:Q0Gx12:Q0Gx12:Q0Gz01:Q0Gz01:Q0Gz01:Q0Gz01:Q0Gx01:Q0Gx01:Q0Gx01:Q0Gx01:Q0Gx01:Q0Gx01:Q0@(Q0,Q1)),\n",
       "   Circuit(Gx01:Q0Gx01:Q0Gx12:Q0Gz01:Q0Gz01:Q0Gx01:Q0Gx01:Q0Gx01:Q0Gx01:Q0Gx01:Q0Gx01:Q0Gx01:Q0Gx01:Q0Gx01:Q0Gx01:Q0Gx01:Q0Gx01:Q0Gx01:Q0Gx01:Q0Gx01:Q0Gx01:Q0Gx01:Q0Gx01:Q0Gx01:Q0Gx01:Q0Gx01:Q0Gx01:Q0Gx01:Q0Gz01:Q0Gz01:Q0Gx01:Q0Gx01:Q0Gx01:Q0Gx01:Q0Gx01:Q0Gx01:Q0Gx01:Q0Gz01:Q0Gz01:Q0Gx01:Q0Gx01:Q0Gx01:Q0Gx01:Q0Gx01:Q0Gx01:Q0Gx01:Q0Gz01:Q0Gz01:Q0Gx01:Q0Gx01:Q0Gx01:Q0Gx01:Q0Gx01:Q0Gx01:Q0Gx01:Q0Gz12:Q0Gz12:Q0Gz12:Q0Gz12:Q0Gz12:Q0Gz12:Q0Gx12:Q0Gx12:Q0Gx12:Q0Gx12:Q0Gx12:Q0Gx12:Q0Gx12:Q0Gz12:Q0Gz12:Q0Gx12:Q0Gx12:Q0Gx12:Q0Gx12:Q0Gx12:Q0Gx12:Q0Gx12:Q0Gz12:Q0Gz12:Q0Gx12:Q0Gx12:Q0Gx12:Q0Gx12:Q0Gx12:Q0Gx12:Q0Gx12:Q0Gz01:Q0Gz01:Q0Gz01:Q0Gz01:Q0Gx01:Q0Gx01:Q0Gx01:Q0Gx01:Q0Gx01:Q0Gx01:Q0@(Q0,Q1)),\n",
       "   Circuit(Gx01:Q0Gx01:Q0Gx12:Q0Gz01:Q0Gz01:Q0Gx01:Q0Gx01:Q0Gx01:Q0Gx01:Q0Gx01:Q0Gx01:Q0Gx01:Q0Gx01:Q0Gx01:Q0Gx01:Q0Gx01:Q0Gx01:Q0Gx01:Q0Gx01:Q0Gx01:Q0Gx01:Q0Gx01:Q0Gx01:Q0Gx01:Q0Gx01:Q0Gx01:Q0Gx01:Q0Gx01:Q0Gx01:Q0Gx01:Q0Gx01:Q0Gx01:Q0Gx01:Q0Gx01:Q0Gx01:Q0Gx01:Q0Gx01:Q0Gx01:Q0Gx01:Q0Gx01:Q0Gx01:Q0Gx01:Q0Gx01:Q0Gx01:Q0Gz01:Q0Gz01:Q0Gx01:Q0Gx01:Q0Gx01:Q0Gx01:Q0Gx01:Q0Gx01:Q0Gx01:Q0Gz01:Q0Gz01:Q0Gx01:Q0Gx01:Q0Gx01:Q0Gx01:Q0Gx01:Q0Gx01:Q0Gx01:Q0Gz01:Q0Gz01:Q0Gx01:Q0Gx01:Q0Gx01:Q0Gx01:Q0Gx01:Q0Gx01:Q0Gx01:Q0Gz12:Q0Gz12:Q0Gz12:Q0Gz12:Q0Gz12:Q0Gz12:Q0Gx12:Q0Gx12:Q0Gx12:Q0Gx12:Q0Gx12:Q0Gx12:Q0Gx12:Q0Gz12:Q0Gz12:Q0Gx12:Q0Gx12:Q0Gx12:Q0Gx12:Q0Gx12:Q0Gx12:Q0Gx12:Q0Gz12:Q0Gz12:Q0Gx12:Q0Gx12:Q0Gx12:Q0Gx12:Q0Gx12:Q0Gx12:Q0Gx12:Q0Gz01:Q0Gz01:Q0Gz01:Q0Gz01:Q0Gx01:Q0Gx01:Q0Gx01:Q0Gx01:Q0Gx01:Q0Gx01:Q0@(Q0,Q1))]},\n",
       " 'Phase12': {},\n",
       " 'X01 overrot': {'I': [Circuit(Gx01:Q0@(Q0,Q1)),\n",
       "   Circuit(Gx01:Q0Gx01:Q0@(Q0,Q1)),\n",
       "   Circuit(Gx01:Q0Gx01:Q0Gx01:Q0Gx01:Q0@(Q0,Q1)),\n",
       "   Circuit(Gx01:Q0Gx01:Q0Gx01:Q0Gx01:Q0Gx01:Q0Gx01:Q0Gx01:Q0Gx01:Q0@(Q0,Q1)),\n",
       "   Circuit(Gx01:Q0Gx01:Q0Gx01:Q0Gx01:Q0Gx01:Q0Gx01:Q0Gx01:Q0Gx01:Q0Gx01:Q0Gx01:Q0Gx01:Q0Gx01:Q0Gx01:Q0Gx01:Q0Gx01:Q0Gx01:Q0@(Q0,Q1)),\n",
       "   Circuit(Gx01:Q0Gx01:Q0Gx01:Q0Gx01:Q0Gx01:Q0Gx01:Q0Gx01:Q0Gx01:Q0Gx01:Q0Gx01:Q0Gx01:Q0Gx01:Q0Gx01:Q0Gx01:Q0Gx01:Q0Gx01:Q0Gx01:Q0Gx01:Q0Gx01:Q0Gx01:Q0Gx01:Q0Gx01:Q0Gx01:Q0Gx01:Q0Gx01:Q0Gx01:Q0Gx01:Q0Gx01:Q0Gx01:Q0Gx01:Q0Gx01:Q0Gx01:Q0@(Q0,Q1))],\n",
       "  'Q': [Circuit(Gx01:Q0Gx01:Q0@(Q0,Q1)),\n",
       "   Circuit(Gx01:Q0Gx01:Q0Gx01:Q0@(Q0,Q1)),\n",
       "   Circuit(Gx01:Q0Gx01:Q0Gx01:Q0Gx01:Q0Gx01:Q0@(Q0,Q1)),\n",
       "   Circuit(Gx01:Q0Gx01:Q0Gx01:Q0Gx01:Q0Gx01:Q0Gx01:Q0Gx01:Q0Gx01:Q0Gx01:Q0@(Q0,Q1)),\n",
       "   Circuit(Gx01:Q0Gx01:Q0Gx01:Q0Gx01:Q0Gx01:Q0Gx01:Q0Gx01:Q0Gx01:Q0Gx01:Q0Gx01:Q0Gx01:Q0Gx01:Q0Gx01:Q0Gx01:Q0Gx01:Q0Gx01:Q0Gx01:Q0@(Q0,Q1)),\n",
       "   Circuit(Gx01:Q0Gx01:Q0Gx01:Q0Gx01:Q0Gx01:Q0Gx01:Q0Gx01:Q0Gx01:Q0Gx01:Q0Gx01:Q0Gx01:Q0Gx01:Q0Gx01:Q0Gx01:Q0Gx01:Q0Gx01:Q0Gx01:Q0Gx01:Q0Gx01:Q0Gx01:Q0Gx01:Q0Gx01:Q0Gx01:Q0Gx01:Q0Gx01:Q0Gx01:Q0Gx01:Q0Gx01:Q0Gx01:Q0Gx01:Q0Gx01:Q0Gx01:Q0Gx01:Q0@(Q0,Q1))]},\n",
       " 'X12 overrot': {'I': [Circuit(Gx12:Q0@(Q0,Q1)),\n",
       "   Circuit(Gx12:Q0Gx12:Q0@(Q0,Q1)),\n",
       "   Circuit(Gx12:Q0Gx12:Q0Gx12:Q0Gx12:Q0@(Q0,Q1)),\n",
       "   Circuit(Gx12:Q0Gx12:Q0Gx12:Q0Gx12:Q0Gx12:Q0Gx12:Q0Gx12:Q0Gx12:Q0@(Q0,Q1)),\n",
       "   Circuit(Gx12:Q0Gx12:Q0Gx12:Q0Gx12:Q0Gx12:Q0Gx12:Q0Gx12:Q0Gx12:Q0Gx12:Q0Gx12:Q0Gx12:Q0Gx12:Q0Gx12:Q0Gx12:Q0Gx12:Q0Gx12:Q0@(Q0,Q1)),\n",
       "   Circuit(Gx12:Q0Gx12:Q0Gx12:Q0Gx12:Q0Gx12:Q0Gx12:Q0Gx12:Q0Gx12:Q0Gx12:Q0Gx12:Q0Gx12:Q0Gx12:Q0Gx12:Q0Gx12:Q0Gx12:Q0Gx12:Q0Gx12:Q0Gx12:Q0Gx12:Q0Gx12:Q0Gx12:Q0Gx12:Q0Gx12:Q0Gx12:Q0Gx12:Q0Gx12:Q0Gx12:Q0Gx12:Q0Gx12:Q0Gx12:Q0Gx12:Q0Gx12:Q0@(Q0,Q1))],\n",
       "  'Q': [Circuit(Gx12:Q0Gx12:Q0@(Q0,Q1)),\n",
       "   Circuit(Gx12:Q0Gx12:Q0Gx12:Q0@(Q0,Q1)),\n",
       "   Circuit(Gx12:Q0Gx12:Q0Gx12:Q0Gx12:Q0Gx12:Q0@(Q0,Q1)),\n",
       "   Circuit(Gx12:Q0Gx12:Q0Gx12:Q0Gx12:Q0Gx12:Q0Gx12:Q0Gx12:Q0Gx12:Q0Gx12:Q0@(Q0,Q1)),\n",
       "   Circuit(Gx12:Q0Gx12:Q0Gx12:Q0Gx12:Q0Gx12:Q0Gx12:Q0Gx12:Q0Gx12:Q0Gx12:Q0Gx12:Q0Gx12:Q0Gx12:Q0Gx12:Q0Gx12:Q0Gx12:Q0Gx12:Q0Gx12:Q0@(Q0,Q1)),\n",
       "   Circuit(Gx12:Q0Gx12:Q0Gx12:Q0Gx12:Q0Gx12:Q0Gx12:Q0Gx12:Q0Gx12:Q0Gx12:Q0Gx12:Q0Gx12:Q0Gx12:Q0Gx12:Q0Gx12:Q0Gx12:Q0Gx12:Q0Gx12:Q0Gx12:Q0Gx12:Q0Gx12:Q0Gx12:Q0Gx12:Q0Gx12:Q0Gx12:Q0Gx12:Q0Gx12:Q0Gx12:Q0Gx12:Q0Gx12:Q0Gx12:Q0Gx12:Q0Gx12:Q0Gx12:Q0@(Q0,Q1))]}}"
      ]
     },
     "execution_count": 123,
     "metadata": {},
     "output_type": "execute_result"
    }
   ],
   "source": [
    "depths = [2**i for i in range(6)]\n",
    "edesign = RPEDesign1QT(depths, qids[0], qids)\n",
    "edesign.circuit_dict"
   ]
  },
  {
   "cell_type": "code",
   "execution_count": 124,
   "metadata": {},
   "outputs": [
    {
     "name": "stdout",
     "output_type": "stream",
     "text": [
      "Qubit Q0 ---|Gx01|-|Gx01|-|Gx12|-|Gz01|-|Gz01|-|Gx01|-|Gx01|-|Gx01|-|Gx01|-|Gx01|-|Gx01|-|Gx01|-|Gx01|-|Gz01|-|Gz01|-|Gx01|-|Gx01|-|Gx01|-|Gx01|-|Gx01|-|Gx01|-|Gx01|-|Gz01|-|Gz01|-|Gx01|-|Gx01|-|Gx01|-|Gx01|-|Gx01|-|Gx01|-|Gx01|-|Gz01|-|Gz01|-|Gx01|-|Gx01|-|Gx01|-|Gx01|-|Gx01|-|Gx01|-|Gx01|-|Gz12|-|Gz12|-|Gz12|-|Gz12|-|Gx12|-|Gx12|-|Gx12|-|Gz01|-|Gz01|-|Gz01|-|Gz01|-|Gx01|-|Gx01|-|Gx01|-|Gx01|-|Gx01|-|Gx01|---\n",
      "Qubit Q1 ---|    |-|    |-|    |-|    |-|    |-|    |-|    |-|    |-|    |-|    |-|    |-|    |-|    |-|    |-|    |-|    |-|    |-|    |-|    |-|    |-|    |-|    |-|    |-|    |-|    |-|    |-|    |-|    |-|    |-|    |-|    |-|    |-|    |-|    |-|    |-|    |-|    |-|    |-|    |-|    |-|    |-|    |-|    |-|    |-|    |-|    |-|    |-|    |-|    |-|    |-|    |-|    |-|    |-|    |-|    |-|    |-|    |---\n",
      "\n"
     ]
    }
   ],
   "source": [
    "print(edesign.circ_list[0])"
   ]
  },
  {
   "cell_type": "code",
   "execution_count": 125,
   "metadata": {},
   "outputs": [
    {
     "data": {
      "text/plain": [
       "OutcomeLabelDict([(('00',), 0.6249999999999961),\n",
       "                  (('01',), -1.3955153506979294e-15),\n",
       "                  (('02',), -7.571371115384644e-16),\n",
       "                  (('10',), 0.2500000000000001),\n",
       "                  (('11',), -6.806108575991225e-16),\n",
       "                  (('12',), -5.489702944212475e-16),\n",
       "                  (('20',), 0.1249999999999976),\n",
       "                  (('21',), -1.8775700560231193e-15),\n",
       "                  (('22',), -1.077673408879815e-15)])"
      ]
     },
     "execution_count": 125,
     "metadata": {},
     "output_type": "execute_result"
    }
   ],
   "source": [
    "target_model.probabilities(edesign.circ_list[2])"
   ]
  },
  {
   "cell_type": "code",
   "execution_count": 127,
   "metadata": {},
   "outputs": [],
   "source": [
    "ds = pygsti.data.simulate_data(target_model, edesign.circ_list, num_samples=1000)"
   ]
  },
  {
   "cell_type": "code",
   "execution_count": null,
   "metadata": {},
   "outputs": [],
   "source": []
  }
 ],
 "metadata": {
  "kernelspec": {
   "display_name": "ErrorGenerators",
   "language": "python",
   "name": "python3"
  },
  "language_info": {
   "codemirror_mode": {
    "name": "ipython",
    "version": 3
   },
   "file_extension": ".py",
   "mimetype": "text/x-python",
   "name": "python",
   "nbconvert_exporter": "python",
   "pygments_lexer": "ipython3",
   "version": "3.12.3"
  }
 },
 "nbformat": 4,
 "nbformat_minor": 2
}
