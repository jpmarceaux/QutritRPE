{
 "cells": [
  {
   "cell_type": "code",
   "execution_count": 144,
   "metadata": {},
   "outputs": [
    {
     "name": "stdout",
     "output_type": "stream",
     "text": [
      "The autoreload extension is already loaded. To reload it, use:\n",
      "  %reload_ext autoreload\n"
     ]
    }
   ],
   "source": [
    "\n",
    "\n",
    "import numpy as np\n",
    "from matplotlib import pyplot as plt\n",
    "\n",
    "from qutrit_rpe import *\n",
    "\n",
    "%load_ext autoreload \n",
    "%autoreload 2\n"
   ]
  },
  {
   "cell_type": "code",
   "execution_count": 145,
   "metadata": {},
   "outputs": [],
   "source": [
    "xvec = random_error_vector(0.001, 0.01)\n",
    "qids = ['Q0', 'Q1']\n",
    "depol_rates = [0.001, 0.01] # 1 and 2 qubit depolarizing rates"
   ]
  },
  {
   "cell_type": "code",
   "execution_count": 146,
   "metadata": {},
   "outputs": [
    {
     "data": {
      "text/plain": [
       "{'single_qutrit': {'Q0': {'X01': -0.0068462911725404125,\n",
       "   'phase01': 0.0312728881784852,\n",
       "   'X12': 0.008077475558309618,\n",
       "   'phase12': -0.00924342075296023},\n",
       "  'Q1': {'X01': 0.018286347392094424,\n",
       "   'phase01': 0.007553071830512371,\n",
       "   'X12': -0.05432948425445634,\n",
       "   'phase12': -0.0032713654550006674}},\n",
       " 'two_qutrit': {'phi1': -0.04497121925534264,\n",
       "  'phi2': 0.07570253166988766,\n",
       "  'phi3': -0.03538352982894862,\n",
       "  'phi4': -0.17936143052270742,\n",
       "  'phi5': 0.013641631325305326,\n",
       "  'phi6': -0.04873039506090418,\n",
       "  'phi7': -0.008638990751778297,\n",
       "  'phi8': 0.09204126250151211}}"
      ]
     },
     "execution_count": 146,
     "metadata": {},
     "output_type": "execute_result"
    }
   ],
   "source": [
    "parse_error_vector(xvec, qids)"
   ]
  },
  {
   "cell_type": "code",
   "execution_count": 147,
   "metadata": {},
   "outputs": [],
   "source": [
    "target_model = make_two_qutrit_model(np.zeros(16), single_qutrit_depol=0.0, two_qutrit_depol=0.0, qids=qids)\n",
    "noise_model = make_two_qutrit_model(xvec, single_qutrit_depol=depol_rates[0], two_qutrit_depol=depol_rates[1], qids=qids)"
   ]
  },
  {
   "cell_type": "code",
   "execution_count": 174,
   "metadata": {},
   "outputs": [
    {
     "name": "stdout",
     "output_type": "stream",
     "text": [
      "True\n",
      "True\n",
      "True\n",
      "True\n"
     ]
    }
   ],
   "source": [
    "def gX01(qid):\n",
    "    return [(f'Gx01', qid)]\n",
    "\n",
    "def gY01(qid):\n",
    "    return [(f'Gz01', qid)] + [(f'Gx01', qid)] + [(f'Gx01', qid)]*3\n",
    "\n",
    "def gX12(qid):\n",
    "    return [(f'Gx12', qid)]\n",
    "\n",
    "def gY12(qid):\n",
    "    return [(f'Gz12', qid)] + [(f'Gx12', qid)] + [(f'Gx12', qid)]*3\n",
    "\n",
    "def gZ01(qid):\n",
    "    return [(f'Gz01', qid)]\n",
    "\n",
    "def gZ12(qid):\n",
    "    return [(f'Gz12', qid)]\n",
    "\n",
    "def gX01_inv(qid):\n",
    "    return [(f'Gx01', qid)]*3 + [(f'Gz12', qid)]*4\n",
    "\n",
    "def gX12_inv(qid):\n",
    "    return [(f'Gx12', qid)]*3 + [(f'Gz01', qid)]*4\n",
    "\n",
    "def gY01_inv(qid):\n",
    "    return gY01(qid) + gY01(qid) + gY01(qid)\n",
    "\n",
    "def gY12_inv(qid):\n",
    "    return gY12(qid) + gY12(qid) + gY12(qid)\n",
    "\n",
    "def check_inverse_defs():\n",
    "    ux01 = modelX01(0,0)\n",
    "    uz01 = modelZ01()\n",
    "    ux12 = modelX12(0,0)\n",
    "    uz12 = modelZ12()\n",
    "    uy01 = uz01@uz01@uz01@ux01@uz01\n",
    "    uy12 = uz12@uz12@uz12@ux12@uz12\n",
    "\n",
    "    print(np.all(np.isclose(ux01@(ux01@ux01@ux01@uz12@uz12@uz12@uz12), -np.eye(3))))\n",
    "    print(np.all(np.isclose(ux12@(ux12@ux12@ux12@uz01@uz01@uz01@uz01), -np.eye(3))))\n",
    "    print(np.all(np.isclose(uy01@(uy01@uy01@uy01), np.eye(3))))\n",
    "    print(np.all(np.isclose(uy12@(uy12@uy12@uy12), np.eye(3))))\n",
    "\n",
    "check_inverse_defs()"
   ]
  },
  {
   "cell_type": "code",
   "execution_count": 199,
   "metadata": {},
   "outputs": [],
   "source": [
    "from pygsti.circuits import Circuit\n",
    "\n",
    "def make_rpe_circuit(germ, prep, meas, depth, line_labels):\n",
    "    prep_circ = Circuit(prep, line_labels=line_labels)\n",
    "    germ_circ = Circuit(germ, line_labels=line_labels)\n",
    "    meas_circ = Circuit(meas, line_labels=line_labels)\n",
    "    return prep_circ + germ_circ * depth + meas_circ\n",
    "\n",
    "class RPEDesign1QT:\n",
    "    def __init__(self, depths, qid, line_labels=None):\n",
    "        self.depths = depths\n",
    "        self.qid = qid\n",
    "        if line_labels is None:\n",
    "            line_labels = [qid]\n",
    "        self.line_labels = line_labels\n",
    "        self.circuit_dict = self._construct()\n",
    "        self.circ_list = self._make_circuit_list()\n",
    "\n",
    "\n",
    "    def _make_circuit_list(self):\n",
    "        circs = []\n",
    "        for param_label in self.circuit_dict.keys():\n",
    "            for type_label in self.circuit_dict[param_label].keys():\n",
    "                circs.extend(self.circuit_dict[param_label][type_label])\n",
    "        return pygsti.remove_duplicates(circs)\n",
    "\n",
    "    \n",
    "\n",
    "    def _construct(self):\n",
    "        circ_dict = {\n",
    "            'Phase01': {},\n",
    "            'Phase12': {},\n",
    "            'X01 overrot': {},\n",
    "            'X12 overrot': {}\n",
    "        }\n",
    "        circ_dict['X01 overrot']['I'] = self.make_x01_overrot_cos_circuits(self.depths, self.qid, self.line_labels)\n",
    "        circ_dict['X01 overrot']['Q'] = self.make_x01_overrot_sin_circuits(self.depths, self.qid, self.line_labels)\n",
    "        circ_dict['X12 overrot']['I'] = self.make_x12_overrot_cos_circuits(self.depths, self.qid, self.line_labels)\n",
    "        circ_dict['X12 overrot']['Q'] = self.make_x12_overrot_sin_circuits(self.depths, self.qid, self.line_labels)\n",
    "        circ_dict['Phase01']['I'] = self.make_phase01_cos_circuits(self.depths, self.qid, self.line_labels)\n",
    "        circ_dict['Phase01']['Q'] = self.make_phase01_sin_circuits(self.depths, self.qid, self.line_labels)\n",
    "        return circ_dict\n",
    "\n",
    "    def make_x01_overrot_cos_circuits(self, depths, qid, line_labels):\n",
    "        return [make_rpe_circuit(gX01(qid), [], [], depth, line_labels) for depth in depths]\n",
    "    \n",
    "    def make_x01_overrot_sin_circuits(self, depths, qid, line_labels):\n",
    "        return [make_rpe_circuit(gX01(qid), gX01(qid), [], depth, line_labels) for depth in depths]\n",
    "    \n",
    "    def make_x12_overrot_cos_circuits(self, depths, qid, line_labels):\n",
    "        return [make_rpe_circuit(gX12(qid), [], [], depth, line_labels) for depth in depths]\n",
    "    \n",
    "    def make_x12_overrot_sin_circuits(self, depths, qid, line_labels):\n",
    "        return [make_rpe_circuit(gX12(qid), gX12(qid), [], depth, line_labels) for depth in depths]\n",
    "    \n",
    "    def make_phase01_cos_circuits(self, depths, qid, line_labels):\n",
    "        prep = gX01(qid) + gX01(qid) + gX12(qid) + gY01(qid) \n",
    "        meas = gY01_inv(qid) + gX12_inv(qid) + gX01(qid)*6\n",
    "        return [make_rpe_circuit(gX01(qid), prep, meas, depth, line_labels) for depth in depths]\n",
    "\n",
    "    def make_phase01_sin_circuits(self, depths, qid, line_labels):\n",
    "        prep = gX01(qid) + gX01(qid) + gX12(qid) + gY01(qid) \n",
    "        meas = gY01_inv(qid) + gY12_inv(qid) + gX01(qid)*6\n",
    "        return [make_rpe_circuit(gX01(qid), prep, meas, depth, line_labels) for depth in depths]\n",
    "    \n"
   ]
  },
  {
   "cell_type": "code",
   "execution_count": 200,
   "metadata": {},
   "outputs": [
    {
     "data": {
      "text/plain": [
       "{'Phase01': {'I': [Circuit(Gx01:Q0Gx01:Q0Gx12:Q0Gz01:Q0Gx01:Q0Gx01:Q0Gx01:Q0Gx01:Q0Gx01:Q0Gz01:Q0Gx01:Q0Gx01:Q0Gx01:Q0Gx01:Q0Gz01:Q0Gx01:Q0Gx01:Q0Gx01:Q0Gx01:Q0Gz01:Q0Gx01:Q0Gx01:Q0Gx01:Q0Gx01:Q0Gx12:Q0Gx12:Q0Gx12:Q0Gz01:Q0Gz01:Q0Gz01:Q0Gz01:Q0Gx01:Q0Gx01:Q0Gx01:Q0Gx01:Q0Gx01:Q0Gx01:Q0@(Q0,Q1)),\n",
       "   Circuit(Gx01:Q0Gx01:Q0Gx12:Q0Gz01:Q0Gx01:Q0Gx01:Q0Gx01:Q0Gx01:Q0Gx01:Q0Gx01:Q0Gz01:Q0Gx01:Q0Gx01:Q0Gx01:Q0Gx01:Q0Gz01:Q0Gx01:Q0Gx01:Q0Gx01:Q0Gx01:Q0Gz01:Q0Gx01:Q0Gx01:Q0Gx01:Q0Gx01:Q0Gx12:Q0Gx12:Q0Gx12:Q0Gz01:Q0Gz01:Q0Gz01:Q0Gz01:Q0Gx01:Q0Gx01:Q0Gx01:Q0Gx01:Q0Gx01:Q0Gx01:Q0@(Q0,Q1)),\n",
       "   Circuit(Gx01:Q0Gx01:Q0Gx12:Q0Gz01:Q0Gx01:Q0Gx01:Q0Gx01:Q0Gx01:Q0Gx01:Q0Gx01:Q0Gx01:Q0Gx01:Q0Gz01:Q0Gx01:Q0Gx01:Q0Gx01:Q0Gx01:Q0Gz01:Q0Gx01:Q0Gx01:Q0Gx01:Q0Gx01:Q0Gz01:Q0Gx01:Q0Gx01:Q0Gx01:Q0Gx01:Q0Gx12:Q0Gx12:Q0Gx12:Q0Gz01:Q0Gz01:Q0Gz01:Q0Gz01:Q0Gx01:Q0Gx01:Q0Gx01:Q0Gx01:Q0Gx01:Q0Gx01:Q0@(Q0,Q1)),\n",
       "   Circuit(Gx01:Q0Gx01:Q0Gx12:Q0Gz01:Q0Gx01:Q0Gx01:Q0Gx01:Q0Gx01:Q0Gx01:Q0Gx01:Q0Gx01:Q0Gx01:Q0Gx01:Q0Gx01:Q0Gx01:Q0Gx01:Q0Gz01:Q0Gx01:Q0Gx01:Q0Gx01:Q0Gx01:Q0Gz01:Q0Gx01:Q0Gx01:Q0Gx01:Q0Gx01:Q0Gz01:Q0Gx01:Q0Gx01:Q0Gx01:Q0Gx01:Q0Gx12:Q0Gx12:Q0Gx12:Q0Gz01:Q0Gz01:Q0Gz01:Q0Gz01:Q0Gx01:Q0Gx01:Q0Gx01:Q0Gx01:Q0Gx01:Q0Gx01:Q0@(Q0,Q1)),\n",
       "   Circuit(Gx01:Q0Gx01:Q0Gx12:Q0Gz01:Q0Gx01:Q0Gx01:Q0Gx01:Q0Gx01:Q0Gx01:Q0Gx01:Q0Gx01:Q0Gx01:Q0Gx01:Q0Gx01:Q0Gx01:Q0Gx01:Q0Gx01:Q0Gx01:Q0Gx01:Q0Gx01:Q0Gx01:Q0Gx01:Q0Gx01:Q0Gx01:Q0Gz01:Q0Gx01:Q0Gx01:Q0Gx01:Q0Gx01:Q0Gz01:Q0Gx01:Q0Gx01:Q0Gx01:Q0Gx01:Q0Gz01:Q0Gx01:Q0Gx01:Q0Gx01:Q0Gx01:Q0Gx12:Q0Gx12:Q0Gx12:Q0Gz01:Q0Gz01:Q0Gz01:Q0Gz01:Q0Gx01:Q0Gx01:Q0Gx01:Q0Gx01:Q0Gx01:Q0Gx01:Q0@(Q0,Q1)),\n",
       "   Circuit(Gx01:Q0Gx01:Q0Gx12:Q0Gz01:Q0Gx01:Q0Gx01:Q0Gx01:Q0Gx01:Q0Gx01:Q0Gx01:Q0Gx01:Q0Gx01:Q0Gx01:Q0Gx01:Q0Gx01:Q0Gx01:Q0Gx01:Q0Gx01:Q0Gx01:Q0Gx01:Q0Gx01:Q0Gx01:Q0Gx01:Q0Gx01:Q0Gx01:Q0Gx01:Q0Gx01:Q0Gx01:Q0Gx01:Q0Gx01:Q0Gx01:Q0Gx01:Q0Gx01:Q0Gx01:Q0Gx01:Q0Gx01:Q0Gx01:Q0Gx01:Q0Gx01:Q0Gx01:Q0Gz01:Q0Gx01:Q0Gx01:Q0Gx01:Q0Gx01:Q0Gz01:Q0Gx01:Q0Gx01:Q0Gx01:Q0Gx01:Q0Gz01:Q0Gx01:Q0Gx01:Q0Gx01:Q0Gx01:Q0Gx12:Q0Gx12:Q0Gx12:Q0Gz01:Q0Gz01:Q0Gz01:Q0Gz01:Q0Gx01:Q0Gx01:Q0Gx01:Q0Gx01:Q0Gx01:Q0Gx01:Q0@(Q0,Q1))],\n",
       "  'Q': [Circuit(Gx01:Q0Gx01:Q0Gx12:Q0Gz01:Q0Gx01:Q0Gx01:Q0Gx01:Q0Gx01:Q0Gx01:Q0Gz01:Q0Gx01:Q0Gx01:Q0Gx01:Q0Gx01:Q0Gz01:Q0Gx01:Q0Gx01:Q0Gx01:Q0Gx01:Q0Gz01:Q0Gx01:Q0Gx01:Q0Gx01:Q0Gx01:Q0Gz12:Q0Gx12:Q0Gx12:Q0Gx12:Q0Gx12:Q0Gz12:Q0Gx12:Q0Gx12:Q0Gx12:Q0Gx12:Q0Gz12:Q0Gx12:Q0Gx12:Q0Gx12:Q0Gx12:Q0Gx01:Q0Gx01:Q0Gx01:Q0Gx01:Q0Gx01:Q0Gx01:Q0@(Q0,Q1)),\n",
       "   Circuit(Gx01:Q0Gx01:Q0Gx12:Q0Gz01:Q0Gx01:Q0Gx01:Q0Gx01:Q0Gx01:Q0Gx01:Q0Gx01:Q0Gz01:Q0Gx01:Q0Gx01:Q0Gx01:Q0Gx01:Q0Gz01:Q0Gx01:Q0Gx01:Q0Gx01:Q0Gx01:Q0Gz01:Q0Gx01:Q0Gx01:Q0Gx01:Q0Gx01:Q0Gz12:Q0Gx12:Q0Gx12:Q0Gx12:Q0Gx12:Q0Gz12:Q0Gx12:Q0Gx12:Q0Gx12:Q0Gx12:Q0Gz12:Q0Gx12:Q0Gx12:Q0Gx12:Q0Gx12:Q0Gx01:Q0Gx01:Q0Gx01:Q0Gx01:Q0Gx01:Q0Gx01:Q0@(Q0,Q1)),\n",
       "   Circuit(Gx01:Q0Gx01:Q0Gx12:Q0Gz01:Q0Gx01:Q0Gx01:Q0Gx01:Q0Gx01:Q0Gx01:Q0Gx01:Q0Gx01:Q0Gx01:Q0Gz01:Q0Gx01:Q0Gx01:Q0Gx01:Q0Gx01:Q0Gz01:Q0Gx01:Q0Gx01:Q0Gx01:Q0Gx01:Q0Gz01:Q0Gx01:Q0Gx01:Q0Gx01:Q0Gx01:Q0Gz12:Q0Gx12:Q0Gx12:Q0Gx12:Q0Gx12:Q0Gz12:Q0Gx12:Q0Gx12:Q0Gx12:Q0Gx12:Q0Gz12:Q0Gx12:Q0Gx12:Q0Gx12:Q0Gx12:Q0Gx01:Q0Gx01:Q0Gx01:Q0Gx01:Q0Gx01:Q0Gx01:Q0@(Q0,Q1)),\n",
       "   Circuit(Gx01:Q0Gx01:Q0Gx12:Q0Gz01:Q0Gx01:Q0Gx01:Q0Gx01:Q0Gx01:Q0Gx01:Q0Gx01:Q0Gx01:Q0Gx01:Q0Gx01:Q0Gx01:Q0Gx01:Q0Gx01:Q0Gz01:Q0Gx01:Q0Gx01:Q0Gx01:Q0Gx01:Q0Gz01:Q0Gx01:Q0Gx01:Q0Gx01:Q0Gx01:Q0Gz01:Q0Gx01:Q0Gx01:Q0Gx01:Q0Gx01:Q0Gz12:Q0Gx12:Q0Gx12:Q0Gx12:Q0Gx12:Q0Gz12:Q0Gx12:Q0Gx12:Q0Gx12:Q0Gx12:Q0Gz12:Q0Gx12:Q0Gx12:Q0Gx12:Q0Gx12:Q0Gx01:Q0Gx01:Q0Gx01:Q0Gx01:Q0Gx01:Q0Gx01:Q0@(Q0,Q1)),\n",
       "   Circuit(Gx01:Q0Gx01:Q0Gx12:Q0Gz01:Q0Gx01:Q0Gx01:Q0Gx01:Q0Gx01:Q0Gx01:Q0Gx01:Q0Gx01:Q0Gx01:Q0Gx01:Q0Gx01:Q0Gx01:Q0Gx01:Q0Gx01:Q0Gx01:Q0Gx01:Q0Gx01:Q0Gx01:Q0Gx01:Q0Gx01:Q0Gx01:Q0Gz01:Q0Gx01:Q0Gx01:Q0Gx01:Q0Gx01:Q0Gz01:Q0Gx01:Q0Gx01:Q0Gx01:Q0Gx01:Q0Gz01:Q0Gx01:Q0Gx01:Q0Gx01:Q0Gx01:Q0Gz12:Q0Gx12:Q0Gx12:Q0Gx12:Q0Gx12:Q0Gz12:Q0Gx12:Q0Gx12:Q0Gx12:Q0Gx12:Q0Gz12:Q0Gx12:Q0Gx12:Q0Gx12:Q0Gx12:Q0Gx01:Q0Gx01:Q0Gx01:Q0Gx01:Q0Gx01:Q0Gx01:Q0@(Q0,Q1)),\n",
       "   Circuit(Gx01:Q0Gx01:Q0Gx12:Q0Gz01:Q0Gx01:Q0Gx01:Q0Gx01:Q0Gx01:Q0Gx01:Q0Gx01:Q0Gx01:Q0Gx01:Q0Gx01:Q0Gx01:Q0Gx01:Q0Gx01:Q0Gx01:Q0Gx01:Q0Gx01:Q0Gx01:Q0Gx01:Q0Gx01:Q0Gx01:Q0Gx01:Q0Gx01:Q0Gx01:Q0Gx01:Q0Gx01:Q0Gx01:Q0Gx01:Q0Gx01:Q0Gx01:Q0Gx01:Q0Gx01:Q0Gx01:Q0Gx01:Q0Gx01:Q0Gx01:Q0Gx01:Q0Gx01:Q0Gz01:Q0Gx01:Q0Gx01:Q0Gx01:Q0Gx01:Q0Gz01:Q0Gx01:Q0Gx01:Q0Gx01:Q0Gx01:Q0Gz01:Q0Gx01:Q0Gx01:Q0Gx01:Q0Gx01:Q0Gz12:Q0Gx12:Q0Gx12:Q0Gx12:Q0Gx12:Q0Gz12:Q0Gx12:Q0Gx12:Q0Gx12:Q0Gx12:Q0Gz12:Q0Gx12:Q0Gx12:Q0Gx12:Q0Gx12:Q0Gx01:Q0Gx01:Q0Gx01:Q0Gx01:Q0Gx01:Q0Gx01:Q0@(Q0,Q1))]},\n",
       " 'Phase12': {},\n",
       " 'X01 overrot': {'I': [Circuit(Gx01:Q0@(Q0,Q1)),\n",
       "   Circuit(Gx01:Q0Gx01:Q0@(Q0,Q1)),\n",
       "   Circuit(Gx01:Q0Gx01:Q0Gx01:Q0Gx01:Q0@(Q0,Q1)),\n",
       "   Circuit(Gx01:Q0Gx01:Q0Gx01:Q0Gx01:Q0Gx01:Q0Gx01:Q0Gx01:Q0Gx01:Q0@(Q0,Q1)),\n",
       "   Circuit(Gx01:Q0Gx01:Q0Gx01:Q0Gx01:Q0Gx01:Q0Gx01:Q0Gx01:Q0Gx01:Q0Gx01:Q0Gx01:Q0Gx01:Q0Gx01:Q0Gx01:Q0Gx01:Q0Gx01:Q0Gx01:Q0@(Q0,Q1)),\n",
       "   Circuit(Gx01:Q0Gx01:Q0Gx01:Q0Gx01:Q0Gx01:Q0Gx01:Q0Gx01:Q0Gx01:Q0Gx01:Q0Gx01:Q0Gx01:Q0Gx01:Q0Gx01:Q0Gx01:Q0Gx01:Q0Gx01:Q0Gx01:Q0Gx01:Q0Gx01:Q0Gx01:Q0Gx01:Q0Gx01:Q0Gx01:Q0Gx01:Q0Gx01:Q0Gx01:Q0Gx01:Q0Gx01:Q0Gx01:Q0Gx01:Q0Gx01:Q0Gx01:Q0@(Q0,Q1))],\n",
       "  'Q': [Circuit(Gx01:Q0Gx01:Q0@(Q0,Q1)),\n",
       "   Circuit(Gx01:Q0Gx01:Q0Gx01:Q0@(Q0,Q1)),\n",
       "   Circuit(Gx01:Q0Gx01:Q0Gx01:Q0Gx01:Q0Gx01:Q0@(Q0,Q1)),\n",
       "   Circuit(Gx01:Q0Gx01:Q0Gx01:Q0Gx01:Q0Gx01:Q0Gx01:Q0Gx01:Q0Gx01:Q0Gx01:Q0@(Q0,Q1)),\n",
       "   Circuit(Gx01:Q0Gx01:Q0Gx01:Q0Gx01:Q0Gx01:Q0Gx01:Q0Gx01:Q0Gx01:Q0Gx01:Q0Gx01:Q0Gx01:Q0Gx01:Q0Gx01:Q0Gx01:Q0Gx01:Q0Gx01:Q0Gx01:Q0@(Q0,Q1)),\n",
       "   Circuit(Gx01:Q0Gx01:Q0Gx01:Q0Gx01:Q0Gx01:Q0Gx01:Q0Gx01:Q0Gx01:Q0Gx01:Q0Gx01:Q0Gx01:Q0Gx01:Q0Gx01:Q0Gx01:Q0Gx01:Q0Gx01:Q0Gx01:Q0Gx01:Q0Gx01:Q0Gx01:Q0Gx01:Q0Gx01:Q0Gx01:Q0Gx01:Q0Gx01:Q0Gx01:Q0Gx01:Q0Gx01:Q0Gx01:Q0Gx01:Q0Gx01:Q0Gx01:Q0Gx01:Q0@(Q0,Q1))]},\n",
       " 'X12 overrot': {'I': [Circuit(Gx12:Q0@(Q0,Q1)),\n",
       "   Circuit(Gx12:Q0Gx12:Q0@(Q0,Q1)),\n",
       "   Circuit(Gx12:Q0Gx12:Q0Gx12:Q0Gx12:Q0@(Q0,Q1)),\n",
       "   Circuit(Gx12:Q0Gx12:Q0Gx12:Q0Gx12:Q0Gx12:Q0Gx12:Q0Gx12:Q0Gx12:Q0@(Q0,Q1)),\n",
       "   Circuit(Gx12:Q0Gx12:Q0Gx12:Q0Gx12:Q0Gx12:Q0Gx12:Q0Gx12:Q0Gx12:Q0Gx12:Q0Gx12:Q0Gx12:Q0Gx12:Q0Gx12:Q0Gx12:Q0Gx12:Q0Gx12:Q0@(Q0,Q1)),\n",
       "   Circuit(Gx12:Q0Gx12:Q0Gx12:Q0Gx12:Q0Gx12:Q0Gx12:Q0Gx12:Q0Gx12:Q0Gx12:Q0Gx12:Q0Gx12:Q0Gx12:Q0Gx12:Q0Gx12:Q0Gx12:Q0Gx12:Q0Gx12:Q0Gx12:Q0Gx12:Q0Gx12:Q0Gx12:Q0Gx12:Q0Gx12:Q0Gx12:Q0Gx12:Q0Gx12:Q0Gx12:Q0Gx12:Q0Gx12:Q0Gx12:Q0Gx12:Q0Gx12:Q0@(Q0,Q1))],\n",
       "  'Q': [Circuit(Gx12:Q0Gx12:Q0@(Q0,Q1)),\n",
       "   Circuit(Gx12:Q0Gx12:Q0Gx12:Q0@(Q0,Q1)),\n",
       "   Circuit(Gx12:Q0Gx12:Q0Gx12:Q0Gx12:Q0Gx12:Q0@(Q0,Q1)),\n",
       "   Circuit(Gx12:Q0Gx12:Q0Gx12:Q0Gx12:Q0Gx12:Q0Gx12:Q0Gx12:Q0Gx12:Q0Gx12:Q0@(Q0,Q1)),\n",
       "   Circuit(Gx12:Q0Gx12:Q0Gx12:Q0Gx12:Q0Gx12:Q0Gx12:Q0Gx12:Q0Gx12:Q0Gx12:Q0Gx12:Q0Gx12:Q0Gx12:Q0Gx12:Q0Gx12:Q0Gx12:Q0Gx12:Q0Gx12:Q0@(Q0,Q1)),\n",
       "   Circuit(Gx12:Q0Gx12:Q0Gx12:Q0Gx12:Q0Gx12:Q0Gx12:Q0Gx12:Q0Gx12:Q0Gx12:Q0Gx12:Q0Gx12:Q0Gx12:Q0Gx12:Q0Gx12:Q0Gx12:Q0Gx12:Q0Gx12:Q0Gx12:Q0Gx12:Q0Gx12:Q0Gx12:Q0Gx12:Q0Gx12:Q0Gx12:Q0Gx12:Q0Gx12:Q0Gx12:Q0Gx12:Q0Gx12:Q0Gx12:Q0Gx12:Q0Gx12:Q0Gx12:Q0@(Q0,Q1))]}}"
      ]
     },
     "execution_count": 200,
     "metadata": {},
     "output_type": "execute_result"
    }
   ],
   "source": [
    "depths = [2**i for i in range(6)]\n",
    "edesign = RPEDesign1QT(depths, qids[0], qids)\n",
    "edesign.circuit_dict"
   ]
  },
  {
   "cell_type": "code",
   "execution_count": 190,
   "metadata": {},
   "outputs": [
    {
     "name": "stdout",
     "output_type": "stream",
     "text": [
      "Qubit Q0 ---|Gx01|---\n",
      "Qubit Q1 ---|    |---\n",
      "\n"
     ]
    }
   ],
   "source": [
    "print(edesign.circ_list[0])"
   ]
  },
  {
   "cell_type": "code",
   "execution_count": 193,
   "metadata": {},
   "outputs": [
    {
     "data": {
      "text/plain": [
       "OutcomeLabelDict([(('00',), 0.4999999999999994),\n",
       "                  (('01',), -2.1684043449710089e-16),\n",
       "                  (('02',), -1.1102230246251565e-16),\n",
       "                  (('10',), 0.4999999999999999),\n",
       "                  (('11',), -1.231653667943533e-16),\n",
       "                  (('12',), -2.688821387764051e-16),\n",
       "                  (('20',), -5.377642775528102e-17),\n",
       "                  (('21',), -2.1684043449710089e-16),\n",
       "                  (('22',), -1.942890293094024e-16)])"
      ]
     },
     "execution_count": 193,
     "metadata": {},
     "output_type": "execute_result"
    }
   ],
   "source": [
    "target_model.probabilities(edesign.circ_list[2])"
   ]
  },
  {
   "cell_type": "code",
   "execution_count": null,
   "metadata": {},
   "outputs": [],
   "source": []
  }
 ],
 "metadata": {
  "kernelspec": {
   "display_name": "ErrorGenerators",
   "language": "python",
   "name": "python3"
  },
  "language_info": {
   "codemirror_mode": {
    "name": "ipython",
    "version": 3
   },
   "file_extension": ".py",
   "mimetype": "text/x-python",
   "name": "python",
   "nbconvert_exporter": "python",
   "pygments_lexer": "ipython3",
   "version": "3.10.11"
  }
 },
 "nbformat": 4,
 "nbformat_minor": 2
}
