{
 "cells": [
  {
   "cell_type": "code",
   "execution_count": 146,
   "metadata": {},
   "outputs": [],
   "source": [
    "import pygsti\n",
    "import numpy as np\n",
    "from scipy.linalg import expm\n",
    "from pygsti.circuits import Circuit\n",
    "from matplotlib import pyplot as plt\n",
    "from pygsti.processors import QuditProcessorSpec"
   ]
  },
  {
   "cell_type": "markdown",
   "metadata": {},
   "source": [
    "# target model def"
   ]
  },
  {
   "cell_type": "code",
   "execution_count": 147,
   "metadata": {},
   "outputs": [],
   "source": [
    "# Gell-Mann matrices\n",
    "gellmann_matrices = [\n",
    "    np.array([[1, 0, 0], [0, 1, 0], [0, 0, 1]]),\n",
    "    np.array([[0, 1, 0], [1, 0, 0], [0, 0, 0]]),\n",
    "    np.array([[0, -1j, 0], [1j, 0, 0], [0, 0, 0]]),\n",
    "    np.array([[1, 0, 0], [0, -1, 0], [0, 0, 0]]),\n",
    "    np.array([[0, 0, 1], [0, 0, 0], [1, 0, 0]]),\n",
    "    np.array([[0, 0, -1j], [0, 0, 0], [1j, 0, 0]]),\n",
    "    np.array([[0, 0, 0], [0, 0, 1], [0, 1, 0]]),\n",
    "    np.array([[0, 0, 0], [0, 0, -1j], [0, 1j, 0]]),\n",
    "    np.array([[1, 0, 0], [0, 1, 0], [0, 0, -2]])\n",
    "]\n",
    "\n",
    "gellmann_8_12 = np.array([[-2, 0, 0], [0, 1, 0], [0, 0, 1]])"
   ]
  },
  {
   "cell_type": "code",
   "execution_count": 175,
   "metadata": {},
   "outputs": [],
   "source": [
    "# unitary models \n",
    "# we ignore axis error \n",
    "def modelX01(theta, gamma):\n",
    "    return expm(-(1j/2)*((np.pi/2 + theta)*gellmann_matrices[1] + gamma*gellmann_matrices[8]))\n",
    "\n",
    "def modelZ01():\n",
    "    return np.diag([np.exp(-1j*np.pi/4), 1, 1])\n",
    "\n",
    "def modelZ12():\n",
    "    return  np.diag([1, 1, np.exp(-1j*np.pi/4)])\n",
    "\n",
    "X12_gen = np.array([[0, 0, 0], [0, 0, 1], [0, 1, 0]])\n",
    "\n",
    "def modelX12(theta):\n",
    "    return expm(-(1j/2)*((np.pi/2 + theta)*X12_gen))\n",
    "\n",
    "def modelCZ(phis):\n",
    "    return np.diag([1]+[np.exp(-1j*phi) for phi in phis])\n",
    "\n"
   ]
  },
  {
   "cell_type": "code",
   "execution_count": 176,
   "metadata": {},
   "outputs": [],
   "source": [
    "circ_Y01_Q1 = [('Gz01', 'Q4')] + [('Gx01', 'Q4')] + [('Gz01', 'Q4')]*7\n",
    "circ_Y12_Q1 = [('Gz12', 'Q4')] + [('Gx12', 'Q4')] + [('Gz12', 'Q4')]*7\n",
    "\n",
    "circ_X01_Q1_inv = [('Gx01', 'Q4')]*3 + [('Gz_12', 'Q4')]*4\n",
    "circ_X12_Q1_inv = [('Gx12', 'Q4')]*3 + [('Gz01', 'Q4')]*4\n",
    "circ_Y01_Q1_inv = circ_Y01_Q1*3  + [('Gz12', 'Q4')]*4\n",
    "circ_Y12_Q1_inv = circ_Y12_Q1*3 + [('Gz01', 'Q4')]*4\n",
    "\n",
    "Gx01_pi_inv = [('Gx01', 'Q4')]*2 + [('Gz12', 'Q4')]*4\n",
    "Gx12_pi_inv = [('Gx12', 'Q4')]*2 + [('Gz01', 'Q4')]*4\n",
    "\n",
    "fiducial_prep_dict = {\n",
    "    'id' : [],\n",
    "    'X01_Q1_cos_prep': [], \n",
    "    'X01_Q1_sin_prep': [('Gx01', 'Q4'),], \n",
    "    'X12_Q1_cos_prep': [('Gx01', 'Q4'), ('Gx01', 'Q4')],\n",
    "    'X12_Q1_sin_prep': [('Gx01', 'Q4'), ('Gx01', 'Q4'), ('Gx12', 'Q4')],\n",
    "    'phase_Q1_cos_prep': [('Gx01', 'Q4'), ('Gx01', 'Q4')]  + circ_Y12_Q1 + circ_Y01_Q1 + [('Gz01', 'Q4')]*3 + [('Gz12', 'Q4')]*3,\n",
    "    'phase_Q1_sin_prep': [('Gx01', 'Q4'), ('Gx01', 'Q4')]  + circ_Y12_Q1 + circ_Y01_Q1 + [('Gz01', 'Q4')]*3 + [('Gz12', 'Q4')]*1,\n",
    "}\n",
    "\n",
    "fiducial_meas_dict = {\n",
    "    'id' : [],\n",
    "    'X01_Q1_cos_meas': [], \n",
    "    'X01_Q1_sin_meas': [],\n",
    "    'X12_Q1_cos_meas': [],\n",
    "    'X12_Q1_sin_meas': [],\n",
    "    'phase_Q1_cos_meas': [('Gz01', 'Q4')]*5 + [('Gz12', 'Q4')]*5 + circ_Y01_Q1_inv + circ_Y12_Q1_inv + Gx01_pi_inv,\n",
    "    'phase_Q1_sin_meas': [('Gz01', 'Q4')]*5 + [('Gz12', 'Q4')]*5 + circ_Y01_Q1_inv + circ_Y12_Q1_inv + Gx01_pi_inv,\n",
    "}"
   ]
  },
  {
   "cell_type": "code",
   "execution_count": 177,
   "metadata": {},
   "outputs": [],
   "source": [
    "def make_single_qutrit_rpe_edesign_Q1(depths):\n",
    "    circuits = {\n",
    "        'X01' : {'cos': [], 'sin': []},\n",
    "        'X01' : {'cos': [], 'sin': []},\n",
    "        'X12' : {'cos': [], 'sin': []},\n",
    "        'X12' : {'cos': [], 'sin': []},\n",
    "        'phase' : {'cos': [], 'sin': []},\n",
    "        'phase' : {'cos': [], 'sin': []},\n",
    "    }\n",
    "    for depth in depths:\n",
    "        circuits['X01']['cos'].append(make_rpe_circuit([('Gx01', 'Q4')], 'X01_Q1_cos_prep', 'X01_Q1_cos_meas', depth))\n",
    "        circuits['X01']['sin'].append(make_rpe_circuit([('Gx01', 'Q4')], 'X01_Q1_sin_prep', 'X01_Q1_sin_meas', depth))\n",
    "        circuits['X12']['cos'].append(make_rpe_circuit([('Gx12', 'Q4')], 'X12_Q1_cos_prep', 'X12_Q1_cos_meas', depth))\n",
    "        circuits['X12']['sin'].append(make_rpe_circuit([('Gx12', 'Q4')], 'X12_Q1_sin_prep', 'X12_Q1_sin_meas', depth))\n",
    "        circuits['phase']['cos'].append(make_rpe_circuit([('Gx01', 'Q4')], 'phase_Q1_cos_prep', 'phase_Q1_cos_meas', depth))\n",
    "        circuits['phase']['sin'].append(make_rpe_circuit([('Gx01', 'Q4')], 'phase_Q1_sin_prep', 'phase_Q1_sin_meas', depth))\n",
    "    return circuits"
   ]
  },
  {
   "cell_type": "code",
   "execution_count": 178,
   "metadata": {},
   "outputs": [],
   "source": [
    "def make_rpe_circuit(gate, prep_label, meas_label, depth):\n",
    "    prep_circ = fiducial_prep_dict[prep_label]\n",
    "    meas_circ = fiducial_meas_dict[meas_label]\n",
    "    return Circuit(prep_circ + gate*depth + meas_circ)"
   ]
  },
  {
   "cell_type": "code",
   "execution_count": 179,
   "metadata": {},
   "outputs": [],
   "source": [
    "def edesign_to_circuit_list(edesign):\n",
    "    circuits = []\n",
    "    for etype in edesign.keys():\n",
    "        for mtype in edesign[etype].keys():\n",
    "            for circuit in edesign[etype][mtype]:\n",
    "                circuits.append(circuit)\n",
    "    return pygsti.tools.remove_duplicates(circuits)"
   ]
  },
  {
   "cell_type": "code",
   "execution_count": 199,
   "metadata": {},
   "outputs": [
    {
     "data": {
      "text/plain": [
       "1024"
      ]
     },
     "execution_count": 199,
     "metadata": {},
     "output_type": "execute_result"
    }
   ],
   "source": [
    "2**10"
   ]
  },
  {
   "cell_type": "code",
   "execution_count": 200,
   "metadata": {},
   "outputs": [],
   "source": [
    "edesign = make_single_qutrit_rpe_edesign_Q1([2**i for i in range(10)])\n",
    "circ_list = edesign_to_circuit_list(edesign)\n",
    "pygsti.io.write_circuit_list('single_qutrit.txt', circ_list)"
   ]
  },
  {
   "cell_type": "code",
   "execution_count": 181,
   "metadata": {},
   "outputs": [
    {
     "data": {
      "text/plain": [
       "{'X01': {'cos': [Circuit(Gx01:Q4@(Q4)),\n",
       "   Circuit(Gx01:Q4Gx01:Q4@(Q4)),\n",
       "   Circuit(Gx01:Q4Gx01:Q4Gx01:Q4Gx01:Q4@(Q4)),\n",
       "   Circuit(Gx01:Q4Gx01:Q4Gx01:Q4Gx01:Q4Gx01:Q4Gx01:Q4Gx01:Q4Gx01:Q4@(Q4)),\n",
       "   Circuit(Gx01:Q4Gx01:Q4Gx01:Q4Gx01:Q4Gx01:Q4Gx01:Q4Gx01:Q4Gx01:Q4Gx01:Q4Gx01:Q4Gx01:Q4Gx01:Q4Gx01:Q4Gx01:Q4Gx01:Q4Gx01:Q4@(Q4))],\n",
       "  'sin': [Circuit(Gx01:Q4Gx01:Q4@(Q4)),\n",
       "   Circuit(Gx01:Q4Gx01:Q4Gx01:Q4@(Q4)),\n",
       "   Circuit(Gx01:Q4Gx01:Q4Gx01:Q4Gx01:Q4Gx01:Q4@(Q4)),\n",
       "   Circuit(Gx01:Q4Gx01:Q4Gx01:Q4Gx01:Q4Gx01:Q4Gx01:Q4Gx01:Q4Gx01:Q4Gx01:Q4@(Q4)),\n",
       "   Circuit(Gx01:Q4Gx01:Q4Gx01:Q4Gx01:Q4Gx01:Q4Gx01:Q4Gx01:Q4Gx01:Q4Gx01:Q4Gx01:Q4Gx01:Q4Gx01:Q4Gx01:Q4Gx01:Q4Gx01:Q4Gx01:Q4Gx01:Q4@(Q4))]},\n",
       " 'X12': {'cos': [Circuit(Gx01:Q4Gx01:Q4Gx12:Q4@(Q4)),\n",
       "   Circuit(Gx01:Q4Gx01:Q4Gx12:Q4Gx12:Q4@(Q4)),\n",
       "   Circuit(Gx01:Q4Gx01:Q4Gx12:Q4Gx12:Q4Gx12:Q4Gx12:Q4@(Q4)),\n",
       "   Circuit(Gx01:Q4Gx01:Q4Gx12:Q4Gx12:Q4Gx12:Q4Gx12:Q4Gx12:Q4Gx12:Q4Gx12:Q4Gx12:Q4@(Q4)),\n",
       "   Circuit(Gx01:Q4Gx01:Q4Gx12:Q4Gx12:Q4Gx12:Q4Gx12:Q4Gx12:Q4Gx12:Q4Gx12:Q4Gx12:Q4Gx12:Q4Gx12:Q4Gx12:Q4Gx12:Q4Gx12:Q4Gx12:Q4Gx12:Q4Gx12:Q4@(Q4))],\n",
       "  'sin': [Circuit(Gx01:Q4Gx01:Q4Gx12:Q4Gx12:Q4@(Q4)),\n",
       "   Circuit(Gx01:Q4Gx01:Q4Gx12:Q4Gx12:Q4Gx12:Q4@(Q4)),\n",
       "   Circuit(Gx01:Q4Gx01:Q4Gx12:Q4Gx12:Q4Gx12:Q4Gx12:Q4Gx12:Q4@(Q4)),\n",
       "   Circuit(Gx01:Q4Gx01:Q4Gx12:Q4Gx12:Q4Gx12:Q4Gx12:Q4Gx12:Q4Gx12:Q4Gx12:Q4Gx12:Q4Gx12:Q4@(Q4)),\n",
       "   Circuit(Gx01:Q4Gx01:Q4Gx12:Q4Gx12:Q4Gx12:Q4Gx12:Q4Gx12:Q4Gx12:Q4Gx12:Q4Gx12:Q4Gx12:Q4Gx12:Q4Gx12:Q4Gx12:Q4Gx12:Q4Gx12:Q4Gx12:Q4Gx12:Q4Gx12:Q4@(Q4))]},\n",
       " 'phase': {'cos': [Circuit(Gx01:Q4Gx01:Q4Gz12:Q4Gx12:Q4Gz12:Q4Gz12:Q4Gz12:Q4Gz12:Q4Gz12:Q4Gz12:Q4Gz12:Q4Gz01:Q4Gx01:Q4Gz01:Q4Gz01:Q4Gz01:Q4Gz01:Q4Gz01:Q4Gz01:Q4Gz01:Q4Gz01:Q4Gz01:Q4Gz01:Q4Gz12:Q4Gz12:Q4Gz12:Q4Gx01:Q4Gz01:Q4Gz01:Q4Gz01:Q4Gz01:Q4Gz01:Q4Gz12:Q4Gz12:Q4Gz12:Q4Gz12:Q4Gz12:Q4Gz01:Q4Gx01:Q4Gz01:Q4Gz01:Q4Gz01:Q4Gz01:Q4Gz01:Q4Gz01:Q4Gz01:Q4Gz01:Q4Gx01:Q4Gz01:Q4Gz01:Q4Gz01:Q4Gz01:Q4Gz01:Q4Gz01:Q4Gz01:Q4Gz01:Q4Gx01:Q4Gz01:Q4Gz01:Q4Gz01:Q4Gz01:Q4Gz01:Q4Gz01:Q4Gz01:Q4Gz12:Q4Gz12:Q4Gz12:Q4Gz12:Q4Gz12:Q4Gx12:Q4Gz12:Q4Gz12:Q4Gz12:Q4Gz12:Q4Gz12:Q4Gz12:Q4Gz12:Q4Gz12:Q4Gx12:Q4Gz12:Q4Gz12:Q4Gz12:Q4Gz12:Q4Gz12:Q4Gz12:Q4Gz12:Q4Gz12:Q4Gx12:Q4Gz12:Q4Gz12:Q4Gz12:Q4Gz12:Q4Gz12:Q4Gz12:Q4Gz12:Q4Gz01:Q4Gz01:Q4Gz01:Q4Gz01:Q4Gx01:Q4Gx01:Q4Gz12:Q4Gz12:Q4Gz12:Q4Gz12:Q4@(Q4)),\n",
       "   Circuit(Gx01:Q4Gx01:Q4Gz12:Q4Gx12:Q4Gz12:Q4Gz12:Q4Gz12:Q4Gz12:Q4Gz12:Q4Gz12:Q4Gz12:Q4Gz01:Q4Gx01:Q4Gz01:Q4Gz01:Q4Gz01:Q4Gz01:Q4Gz01:Q4Gz01:Q4Gz01:Q4Gz01:Q4Gz01:Q4Gz01:Q4Gz12:Q4Gz12:Q4Gz12:Q4Gx01:Q4Gx01:Q4Gz01:Q4Gz01:Q4Gz01:Q4Gz01:Q4Gz01:Q4Gz12:Q4Gz12:Q4Gz12:Q4Gz12:Q4Gz12:Q4Gz01:Q4Gx01:Q4Gz01:Q4Gz01:Q4Gz01:Q4Gz01:Q4Gz01:Q4Gz01:Q4Gz01:Q4Gz01:Q4Gx01:Q4Gz01:Q4Gz01:Q4Gz01:Q4Gz01:Q4Gz01:Q4Gz01:Q4Gz01:Q4Gz01:Q4Gx01:Q4Gz01:Q4Gz01:Q4Gz01:Q4Gz01:Q4Gz01:Q4Gz01:Q4Gz01:Q4Gz12:Q4Gz12:Q4Gz12:Q4Gz12:Q4Gz12:Q4Gx12:Q4Gz12:Q4Gz12:Q4Gz12:Q4Gz12:Q4Gz12:Q4Gz12:Q4Gz12:Q4Gz12:Q4Gx12:Q4Gz12:Q4Gz12:Q4Gz12:Q4Gz12:Q4Gz12:Q4Gz12:Q4Gz12:Q4Gz12:Q4Gx12:Q4Gz12:Q4Gz12:Q4Gz12:Q4Gz12:Q4Gz12:Q4Gz12:Q4Gz12:Q4Gz01:Q4Gz01:Q4Gz01:Q4Gz01:Q4Gx01:Q4Gx01:Q4Gz12:Q4Gz12:Q4Gz12:Q4Gz12:Q4@(Q4)),\n",
       "   Circuit(Gx01:Q4Gx01:Q4Gz12:Q4Gx12:Q4Gz12:Q4Gz12:Q4Gz12:Q4Gz12:Q4Gz12:Q4Gz12:Q4Gz12:Q4Gz01:Q4Gx01:Q4Gz01:Q4Gz01:Q4Gz01:Q4Gz01:Q4Gz01:Q4Gz01:Q4Gz01:Q4Gz01:Q4Gz01:Q4Gz01:Q4Gz12:Q4Gz12:Q4Gz12:Q4Gx01:Q4Gx01:Q4Gx01:Q4Gx01:Q4Gz01:Q4Gz01:Q4Gz01:Q4Gz01:Q4Gz01:Q4Gz12:Q4Gz12:Q4Gz12:Q4Gz12:Q4Gz12:Q4Gz01:Q4Gx01:Q4Gz01:Q4Gz01:Q4Gz01:Q4Gz01:Q4Gz01:Q4Gz01:Q4Gz01:Q4Gz01:Q4Gx01:Q4Gz01:Q4Gz01:Q4Gz01:Q4Gz01:Q4Gz01:Q4Gz01:Q4Gz01:Q4Gz01:Q4Gx01:Q4Gz01:Q4Gz01:Q4Gz01:Q4Gz01:Q4Gz01:Q4Gz01:Q4Gz01:Q4Gz12:Q4Gz12:Q4Gz12:Q4Gz12:Q4Gz12:Q4Gx12:Q4Gz12:Q4Gz12:Q4Gz12:Q4Gz12:Q4Gz12:Q4Gz12:Q4Gz12:Q4Gz12:Q4Gx12:Q4Gz12:Q4Gz12:Q4Gz12:Q4Gz12:Q4Gz12:Q4Gz12:Q4Gz12:Q4Gz12:Q4Gx12:Q4Gz12:Q4Gz12:Q4Gz12:Q4Gz12:Q4Gz12:Q4Gz12:Q4Gz12:Q4Gz01:Q4Gz01:Q4Gz01:Q4Gz01:Q4Gx01:Q4Gx01:Q4Gz12:Q4Gz12:Q4Gz12:Q4Gz12:Q4@(Q4)),\n",
       "   Circuit(Gx01:Q4Gx01:Q4Gz12:Q4Gx12:Q4Gz12:Q4Gz12:Q4Gz12:Q4Gz12:Q4Gz12:Q4Gz12:Q4Gz12:Q4Gz01:Q4Gx01:Q4Gz01:Q4Gz01:Q4Gz01:Q4Gz01:Q4Gz01:Q4Gz01:Q4Gz01:Q4Gz01:Q4Gz01:Q4Gz01:Q4Gz12:Q4Gz12:Q4Gz12:Q4Gx01:Q4Gx01:Q4Gx01:Q4Gx01:Q4Gx01:Q4Gx01:Q4Gx01:Q4Gx01:Q4Gz01:Q4Gz01:Q4Gz01:Q4Gz01:Q4Gz01:Q4Gz12:Q4Gz12:Q4Gz12:Q4Gz12:Q4Gz12:Q4Gz01:Q4Gx01:Q4Gz01:Q4Gz01:Q4Gz01:Q4Gz01:Q4Gz01:Q4Gz01:Q4Gz01:Q4Gz01:Q4Gx01:Q4Gz01:Q4Gz01:Q4Gz01:Q4Gz01:Q4Gz01:Q4Gz01:Q4Gz01:Q4Gz01:Q4Gx01:Q4Gz01:Q4Gz01:Q4Gz01:Q4Gz01:Q4Gz01:Q4Gz01:Q4Gz01:Q4Gz12:Q4Gz12:Q4Gz12:Q4Gz12:Q4Gz12:Q4Gx12:Q4Gz12:Q4Gz12:Q4Gz12:Q4Gz12:Q4Gz12:Q4Gz12:Q4Gz12:Q4Gz12:Q4Gx12:Q4Gz12:Q4Gz12:Q4Gz12:Q4Gz12:Q4Gz12:Q4Gz12:Q4Gz12:Q4Gz12:Q4Gx12:Q4Gz12:Q4Gz12:Q4Gz12:Q4Gz12:Q4Gz12:Q4Gz12:Q4Gz12:Q4Gz01:Q4Gz01:Q4Gz01:Q4Gz01:Q4Gx01:Q4Gx01:Q4Gz12:Q4Gz12:Q4Gz12:Q4Gz12:Q4@(Q4)),\n",
       "   Circuit(Gx01:Q4Gx01:Q4Gz12:Q4Gx12:Q4Gz12:Q4Gz12:Q4Gz12:Q4Gz12:Q4Gz12:Q4Gz12:Q4Gz12:Q4Gz01:Q4Gx01:Q4Gz01:Q4Gz01:Q4Gz01:Q4Gz01:Q4Gz01:Q4Gz01:Q4Gz01:Q4Gz01:Q4Gz01:Q4Gz01:Q4Gz12:Q4Gz12:Q4Gz12:Q4Gx01:Q4Gx01:Q4Gx01:Q4Gx01:Q4Gx01:Q4Gx01:Q4Gx01:Q4Gx01:Q4Gx01:Q4Gx01:Q4Gx01:Q4Gx01:Q4Gx01:Q4Gx01:Q4Gx01:Q4Gx01:Q4Gz01:Q4Gz01:Q4Gz01:Q4Gz01:Q4Gz01:Q4Gz12:Q4Gz12:Q4Gz12:Q4Gz12:Q4Gz12:Q4Gz01:Q4Gx01:Q4Gz01:Q4Gz01:Q4Gz01:Q4Gz01:Q4Gz01:Q4Gz01:Q4Gz01:Q4Gz01:Q4Gx01:Q4Gz01:Q4Gz01:Q4Gz01:Q4Gz01:Q4Gz01:Q4Gz01:Q4Gz01:Q4Gz01:Q4Gx01:Q4Gz01:Q4Gz01:Q4Gz01:Q4Gz01:Q4Gz01:Q4Gz01:Q4Gz01:Q4Gz12:Q4Gz12:Q4Gz12:Q4Gz12:Q4Gz12:Q4Gx12:Q4Gz12:Q4Gz12:Q4Gz12:Q4Gz12:Q4Gz12:Q4Gz12:Q4Gz12:Q4Gz12:Q4Gx12:Q4Gz12:Q4Gz12:Q4Gz12:Q4Gz12:Q4Gz12:Q4Gz12:Q4Gz12:Q4Gz12:Q4Gx12:Q4Gz12:Q4Gz12:Q4Gz12:Q4Gz12:Q4Gz12:Q4Gz12:Q4Gz12:Q4Gz01:Q4Gz01:Q4Gz01:Q4Gz01:Q4Gx01:Q4Gx01:Q4Gz12:Q4Gz12:Q4Gz12:Q4Gz12:Q4@(Q4))],\n",
       "  'sin': [Circuit(Gx01:Q4Gx01:Q4Gz12:Q4Gx12:Q4Gz12:Q4Gz12:Q4Gz12:Q4Gz12:Q4Gz12:Q4Gz12:Q4Gz12:Q4Gz01:Q4Gx01:Q4Gz01:Q4Gz01:Q4Gz01:Q4Gz01:Q4Gz01:Q4Gz01:Q4Gz01:Q4Gz01:Q4Gz01:Q4Gz01:Q4Gz12:Q4Gx01:Q4Gz01:Q4Gz01:Q4Gz01:Q4Gz01:Q4Gz01:Q4Gz12:Q4Gz12:Q4Gz12:Q4Gz12:Q4Gz12:Q4Gz01:Q4Gx01:Q4Gz01:Q4Gz01:Q4Gz01:Q4Gz01:Q4Gz01:Q4Gz01:Q4Gz01:Q4Gz01:Q4Gx01:Q4Gz01:Q4Gz01:Q4Gz01:Q4Gz01:Q4Gz01:Q4Gz01:Q4Gz01:Q4Gz01:Q4Gx01:Q4Gz01:Q4Gz01:Q4Gz01:Q4Gz01:Q4Gz01:Q4Gz01:Q4Gz01:Q4Gz12:Q4Gz12:Q4Gz12:Q4Gz12:Q4Gz12:Q4Gx12:Q4Gz12:Q4Gz12:Q4Gz12:Q4Gz12:Q4Gz12:Q4Gz12:Q4Gz12:Q4Gz12:Q4Gx12:Q4Gz12:Q4Gz12:Q4Gz12:Q4Gz12:Q4Gz12:Q4Gz12:Q4Gz12:Q4Gz12:Q4Gx12:Q4Gz12:Q4Gz12:Q4Gz12:Q4Gz12:Q4Gz12:Q4Gz12:Q4Gz12:Q4Gz01:Q4Gz01:Q4Gz01:Q4Gz01:Q4Gx01:Q4Gx01:Q4Gz12:Q4Gz12:Q4Gz12:Q4Gz12:Q4@(Q4)),\n",
       "   Circuit(Gx01:Q4Gx01:Q4Gz12:Q4Gx12:Q4Gz12:Q4Gz12:Q4Gz12:Q4Gz12:Q4Gz12:Q4Gz12:Q4Gz12:Q4Gz01:Q4Gx01:Q4Gz01:Q4Gz01:Q4Gz01:Q4Gz01:Q4Gz01:Q4Gz01:Q4Gz01:Q4Gz01:Q4Gz01:Q4Gz01:Q4Gz12:Q4Gx01:Q4Gx01:Q4Gz01:Q4Gz01:Q4Gz01:Q4Gz01:Q4Gz01:Q4Gz12:Q4Gz12:Q4Gz12:Q4Gz12:Q4Gz12:Q4Gz01:Q4Gx01:Q4Gz01:Q4Gz01:Q4Gz01:Q4Gz01:Q4Gz01:Q4Gz01:Q4Gz01:Q4Gz01:Q4Gx01:Q4Gz01:Q4Gz01:Q4Gz01:Q4Gz01:Q4Gz01:Q4Gz01:Q4Gz01:Q4Gz01:Q4Gx01:Q4Gz01:Q4Gz01:Q4Gz01:Q4Gz01:Q4Gz01:Q4Gz01:Q4Gz01:Q4Gz12:Q4Gz12:Q4Gz12:Q4Gz12:Q4Gz12:Q4Gx12:Q4Gz12:Q4Gz12:Q4Gz12:Q4Gz12:Q4Gz12:Q4Gz12:Q4Gz12:Q4Gz12:Q4Gx12:Q4Gz12:Q4Gz12:Q4Gz12:Q4Gz12:Q4Gz12:Q4Gz12:Q4Gz12:Q4Gz12:Q4Gx12:Q4Gz12:Q4Gz12:Q4Gz12:Q4Gz12:Q4Gz12:Q4Gz12:Q4Gz12:Q4Gz01:Q4Gz01:Q4Gz01:Q4Gz01:Q4Gx01:Q4Gx01:Q4Gz12:Q4Gz12:Q4Gz12:Q4Gz12:Q4@(Q4)),\n",
       "   Circuit(Gx01:Q4Gx01:Q4Gz12:Q4Gx12:Q4Gz12:Q4Gz12:Q4Gz12:Q4Gz12:Q4Gz12:Q4Gz12:Q4Gz12:Q4Gz01:Q4Gx01:Q4Gz01:Q4Gz01:Q4Gz01:Q4Gz01:Q4Gz01:Q4Gz01:Q4Gz01:Q4Gz01:Q4Gz01:Q4Gz01:Q4Gz12:Q4Gx01:Q4Gx01:Q4Gx01:Q4Gx01:Q4Gz01:Q4Gz01:Q4Gz01:Q4Gz01:Q4Gz01:Q4Gz12:Q4Gz12:Q4Gz12:Q4Gz12:Q4Gz12:Q4Gz01:Q4Gx01:Q4Gz01:Q4Gz01:Q4Gz01:Q4Gz01:Q4Gz01:Q4Gz01:Q4Gz01:Q4Gz01:Q4Gx01:Q4Gz01:Q4Gz01:Q4Gz01:Q4Gz01:Q4Gz01:Q4Gz01:Q4Gz01:Q4Gz01:Q4Gx01:Q4Gz01:Q4Gz01:Q4Gz01:Q4Gz01:Q4Gz01:Q4Gz01:Q4Gz01:Q4Gz12:Q4Gz12:Q4Gz12:Q4Gz12:Q4Gz12:Q4Gx12:Q4Gz12:Q4Gz12:Q4Gz12:Q4Gz12:Q4Gz12:Q4Gz12:Q4Gz12:Q4Gz12:Q4Gx12:Q4Gz12:Q4Gz12:Q4Gz12:Q4Gz12:Q4Gz12:Q4Gz12:Q4Gz12:Q4Gz12:Q4Gx12:Q4Gz12:Q4Gz12:Q4Gz12:Q4Gz12:Q4Gz12:Q4Gz12:Q4Gz12:Q4Gz01:Q4Gz01:Q4Gz01:Q4Gz01:Q4Gx01:Q4Gx01:Q4Gz12:Q4Gz12:Q4Gz12:Q4Gz12:Q4@(Q4)),\n",
       "   Circuit(Gx01:Q4Gx01:Q4Gz12:Q4Gx12:Q4Gz12:Q4Gz12:Q4Gz12:Q4Gz12:Q4Gz12:Q4Gz12:Q4Gz12:Q4Gz01:Q4Gx01:Q4Gz01:Q4Gz01:Q4Gz01:Q4Gz01:Q4Gz01:Q4Gz01:Q4Gz01:Q4Gz01:Q4Gz01:Q4Gz01:Q4Gz12:Q4Gx01:Q4Gx01:Q4Gx01:Q4Gx01:Q4Gx01:Q4Gx01:Q4Gx01:Q4Gx01:Q4Gz01:Q4Gz01:Q4Gz01:Q4Gz01:Q4Gz01:Q4Gz12:Q4Gz12:Q4Gz12:Q4Gz12:Q4Gz12:Q4Gz01:Q4Gx01:Q4Gz01:Q4Gz01:Q4Gz01:Q4Gz01:Q4Gz01:Q4Gz01:Q4Gz01:Q4Gz01:Q4Gx01:Q4Gz01:Q4Gz01:Q4Gz01:Q4Gz01:Q4Gz01:Q4Gz01:Q4Gz01:Q4Gz01:Q4Gx01:Q4Gz01:Q4Gz01:Q4Gz01:Q4Gz01:Q4Gz01:Q4Gz01:Q4Gz01:Q4Gz12:Q4Gz12:Q4Gz12:Q4Gz12:Q4Gz12:Q4Gx12:Q4Gz12:Q4Gz12:Q4Gz12:Q4Gz12:Q4Gz12:Q4Gz12:Q4Gz12:Q4Gz12:Q4Gx12:Q4Gz12:Q4Gz12:Q4Gz12:Q4Gz12:Q4Gz12:Q4Gz12:Q4Gz12:Q4Gz12:Q4Gx12:Q4Gz12:Q4Gz12:Q4Gz12:Q4Gz12:Q4Gz12:Q4Gz12:Q4Gz12:Q4Gz01:Q4Gz01:Q4Gz01:Q4Gz01:Q4Gx01:Q4Gx01:Q4Gz12:Q4Gz12:Q4Gz12:Q4Gz12:Q4@(Q4)),\n",
       "   Circuit(Gx01:Q4Gx01:Q4Gz12:Q4Gx12:Q4Gz12:Q4Gz12:Q4Gz12:Q4Gz12:Q4Gz12:Q4Gz12:Q4Gz12:Q4Gz01:Q4Gx01:Q4Gz01:Q4Gz01:Q4Gz01:Q4Gz01:Q4Gz01:Q4Gz01:Q4Gz01:Q4Gz01:Q4Gz01:Q4Gz01:Q4Gz12:Q4Gx01:Q4Gx01:Q4Gx01:Q4Gx01:Q4Gx01:Q4Gx01:Q4Gx01:Q4Gx01:Q4Gx01:Q4Gx01:Q4Gx01:Q4Gx01:Q4Gx01:Q4Gx01:Q4Gx01:Q4Gx01:Q4Gz01:Q4Gz01:Q4Gz01:Q4Gz01:Q4Gz01:Q4Gz12:Q4Gz12:Q4Gz12:Q4Gz12:Q4Gz12:Q4Gz01:Q4Gx01:Q4Gz01:Q4Gz01:Q4Gz01:Q4Gz01:Q4Gz01:Q4Gz01:Q4Gz01:Q4Gz01:Q4Gx01:Q4Gz01:Q4Gz01:Q4Gz01:Q4Gz01:Q4Gz01:Q4Gz01:Q4Gz01:Q4Gz01:Q4Gx01:Q4Gz01:Q4Gz01:Q4Gz01:Q4Gz01:Q4Gz01:Q4Gz01:Q4Gz01:Q4Gz12:Q4Gz12:Q4Gz12:Q4Gz12:Q4Gz12:Q4Gx12:Q4Gz12:Q4Gz12:Q4Gz12:Q4Gz12:Q4Gz12:Q4Gz12:Q4Gz12:Q4Gz12:Q4Gx12:Q4Gz12:Q4Gz12:Q4Gz12:Q4Gz12:Q4Gz12:Q4Gz12:Q4Gz12:Q4Gz12:Q4Gx12:Q4Gz12:Q4Gz12:Q4Gz12:Q4Gz12:Q4Gz12:Q4Gz12:Q4Gz12:Q4Gz01:Q4Gz01:Q4Gz01:Q4Gz01:Q4Gx01:Q4Gx01:Q4Gz12:Q4Gz12:Q4Gz12:Q4Gz12:Q4@(Q4))]}}"
      ]
     },
     "execution_count": 181,
     "metadata": {},
     "output_type": "execute_result"
    }
   ],
   "source": [
    "edesign"
   ]
  },
  {
   "cell_type": "code",
   "execution_count": 182,
   "metadata": {},
   "outputs": [
    {
     "data": {
      "text/plain": [
       "[Circuit(Gx01:Q4@(Q4)),\n",
       " Circuit(Gx01:Q4Gx01:Q4@(Q4)),\n",
       " Circuit(Gx01:Q4Gx01:Q4Gx01:Q4Gx01:Q4@(Q4)),\n",
       " Circuit(Gx01:Q4Gx01:Q4Gx01:Q4Gx01:Q4Gx01:Q4Gx01:Q4Gx01:Q4Gx01:Q4@(Q4)),\n",
       " Circuit(Gx01:Q4Gx01:Q4Gx01:Q4Gx01:Q4Gx01:Q4Gx01:Q4Gx01:Q4Gx01:Q4Gx01:Q4Gx01:Q4Gx01:Q4Gx01:Q4Gx01:Q4Gx01:Q4Gx01:Q4Gx01:Q4@(Q4)),\n",
       " Circuit(Gx01:Q4Gx01:Q4Gx01:Q4@(Q4)),\n",
       " Circuit(Gx01:Q4Gx01:Q4Gx01:Q4Gx01:Q4Gx01:Q4@(Q4)),\n",
       " Circuit(Gx01:Q4Gx01:Q4Gx01:Q4Gx01:Q4Gx01:Q4Gx01:Q4Gx01:Q4Gx01:Q4Gx01:Q4@(Q4)),\n",
       " Circuit(Gx01:Q4Gx01:Q4Gx01:Q4Gx01:Q4Gx01:Q4Gx01:Q4Gx01:Q4Gx01:Q4Gx01:Q4Gx01:Q4Gx01:Q4Gx01:Q4Gx01:Q4Gx01:Q4Gx01:Q4Gx01:Q4Gx01:Q4@(Q4)),\n",
       " Circuit(Gx01:Q4Gx01:Q4Gx12:Q4@(Q4)),\n",
       " Circuit(Gx01:Q4Gx01:Q4Gx12:Q4Gx12:Q4@(Q4)),\n",
       " Circuit(Gx01:Q4Gx01:Q4Gx12:Q4Gx12:Q4Gx12:Q4Gx12:Q4@(Q4)),\n",
       " Circuit(Gx01:Q4Gx01:Q4Gx12:Q4Gx12:Q4Gx12:Q4Gx12:Q4Gx12:Q4Gx12:Q4Gx12:Q4Gx12:Q4@(Q4)),\n",
       " Circuit(Gx01:Q4Gx01:Q4Gx12:Q4Gx12:Q4Gx12:Q4Gx12:Q4Gx12:Q4Gx12:Q4Gx12:Q4Gx12:Q4Gx12:Q4Gx12:Q4Gx12:Q4Gx12:Q4Gx12:Q4Gx12:Q4Gx12:Q4Gx12:Q4@(Q4)),\n",
       " Circuit(Gx01:Q4Gx01:Q4Gx12:Q4Gx12:Q4Gx12:Q4@(Q4)),\n",
       " Circuit(Gx01:Q4Gx01:Q4Gx12:Q4Gx12:Q4Gx12:Q4Gx12:Q4Gx12:Q4@(Q4)),\n",
       " Circuit(Gx01:Q4Gx01:Q4Gx12:Q4Gx12:Q4Gx12:Q4Gx12:Q4Gx12:Q4Gx12:Q4Gx12:Q4Gx12:Q4Gx12:Q4@(Q4)),\n",
       " Circuit(Gx01:Q4Gx01:Q4Gx12:Q4Gx12:Q4Gx12:Q4Gx12:Q4Gx12:Q4Gx12:Q4Gx12:Q4Gx12:Q4Gx12:Q4Gx12:Q4Gx12:Q4Gx12:Q4Gx12:Q4Gx12:Q4Gx12:Q4Gx12:Q4Gx12:Q4@(Q4)),\n",
       " Circuit(Gx01:Q4Gx01:Q4Gz12:Q4Gx12:Q4Gz12:Q4Gz12:Q4Gz12:Q4Gz12:Q4Gz12:Q4Gz12:Q4Gz12:Q4Gz01:Q4Gx01:Q4Gz01:Q4Gz01:Q4Gz01:Q4Gz01:Q4Gz01:Q4Gz01:Q4Gz01:Q4Gz01:Q4Gz01:Q4Gz01:Q4Gz12:Q4Gz12:Q4Gz12:Q4Gx01:Q4Gz01:Q4Gz01:Q4Gz01:Q4Gz01:Q4Gz01:Q4Gz12:Q4Gz12:Q4Gz12:Q4Gz12:Q4Gz12:Q4Gz01:Q4Gx01:Q4Gz01:Q4Gz01:Q4Gz01:Q4Gz01:Q4Gz01:Q4Gz01:Q4Gz01:Q4Gz01:Q4Gx01:Q4Gz01:Q4Gz01:Q4Gz01:Q4Gz01:Q4Gz01:Q4Gz01:Q4Gz01:Q4Gz01:Q4Gx01:Q4Gz01:Q4Gz01:Q4Gz01:Q4Gz01:Q4Gz01:Q4Gz01:Q4Gz01:Q4Gz12:Q4Gz12:Q4Gz12:Q4Gz12:Q4Gz12:Q4Gx12:Q4Gz12:Q4Gz12:Q4Gz12:Q4Gz12:Q4Gz12:Q4Gz12:Q4Gz12:Q4Gz12:Q4Gx12:Q4Gz12:Q4Gz12:Q4Gz12:Q4Gz12:Q4Gz12:Q4Gz12:Q4Gz12:Q4Gz12:Q4Gx12:Q4Gz12:Q4Gz12:Q4Gz12:Q4Gz12:Q4Gz12:Q4Gz12:Q4Gz12:Q4Gz01:Q4Gz01:Q4Gz01:Q4Gz01:Q4Gx01:Q4Gx01:Q4Gz12:Q4Gz12:Q4Gz12:Q4Gz12:Q4@(Q4)),\n",
       " Circuit(Gx01:Q4Gx01:Q4Gz12:Q4Gx12:Q4Gz12:Q4Gz12:Q4Gz12:Q4Gz12:Q4Gz12:Q4Gz12:Q4Gz12:Q4Gz01:Q4Gx01:Q4Gz01:Q4Gz01:Q4Gz01:Q4Gz01:Q4Gz01:Q4Gz01:Q4Gz01:Q4Gz01:Q4Gz01:Q4Gz01:Q4Gz12:Q4Gz12:Q4Gz12:Q4Gx01:Q4Gx01:Q4Gz01:Q4Gz01:Q4Gz01:Q4Gz01:Q4Gz01:Q4Gz12:Q4Gz12:Q4Gz12:Q4Gz12:Q4Gz12:Q4Gz01:Q4Gx01:Q4Gz01:Q4Gz01:Q4Gz01:Q4Gz01:Q4Gz01:Q4Gz01:Q4Gz01:Q4Gz01:Q4Gx01:Q4Gz01:Q4Gz01:Q4Gz01:Q4Gz01:Q4Gz01:Q4Gz01:Q4Gz01:Q4Gz01:Q4Gx01:Q4Gz01:Q4Gz01:Q4Gz01:Q4Gz01:Q4Gz01:Q4Gz01:Q4Gz01:Q4Gz12:Q4Gz12:Q4Gz12:Q4Gz12:Q4Gz12:Q4Gx12:Q4Gz12:Q4Gz12:Q4Gz12:Q4Gz12:Q4Gz12:Q4Gz12:Q4Gz12:Q4Gz12:Q4Gx12:Q4Gz12:Q4Gz12:Q4Gz12:Q4Gz12:Q4Gz12:Q4Gz12:Q4Gz12:Q4Gz12:Q4Gx12:Q4Gz12:Q4Gz12:Q4Gz12:Q4Gz12:Q4Gz12:Q4Gz12:Q4Gz12:Q4Gz01:Q4Gz01:Q4Gz01:Q4Gz01:Q4Gx01:Q4Gx01:Q4Gz12:Q4Gz12:Q4Gz12:Q4Gz12:Q4@(Q4)),\n",
       " Circuit(Gx01:Q4Gx01:Q4Gz12:Q4Gx12:Q4Gz12:Q4Gz12:Q4Gz12:Q4Gz12:Q4Gz12:Q4Gz12:Q4Gz12:Q4Gz01:Q4Gx01:Q4Gz01:Q4Gz01:Q4Gz01:Q4Gz01:Q4Gz01:Q4Gz01:Q4Gz01:Q4Gz01:Q4Gz01:Q4Gz01:Q4Gz12:Q4Gz12:Q4Gz12:Q4Gx01:Q4Gx01:Q4Gx01:Q4Gx01:Q4Gz01:Q4Gz01:Q4Gz01:Q4Gz01:Q4Gz01:Q4Gz12:Q4Gz12:Q4Gz12:Q4Gz12:Q4Gz12:Q4Gz01:Q4Gx01:Q4Gz01:Q4Gz01:Q4Gz01:Q4Gz01:Q4Gz01:Q4Gz01:Q4Gz01:Q4Gz01:Q4Gx01:Q4Gz01:Q4Gz01:Q4Gz01:Q4Gz01:Q4Gz01:Q4Gz01:Q4Gz01:Q4Gz01:Q4Gx01:Q4Gz01:Q4Gz01:Q4Gz01:Q4Gz01:Q4Gz01:Q4Gz01:Q4Gz01:Q4Gz12:Q4Gz12:Q4Gz12:Q4Gz12:Q4Gz12:Q4Gx12:Q4Gz12:Q4Gz12:Q4Gz12:Q4Gz12:Q4Gz12:Q4Gz12:Q4Gz12:Q4Gz12:Q4Gx12:Q4Gz12:Q4Gz12:Q4Gz12:Q4Gz12:Q4Gz12:Q4Gz12:Q4Gz12:Q4Gz12:Q4Gx12:Q4Gz12:Q4Gz12:Q4Gz12:Q4Gz12:Q4Gz12:Q4Gz12:Q4Gz12:Q4Gz01:Q4Gz01:Q4Gz01:Q4Gz01:Q4Gx01:Q4Gx01:Q4Gz12:Q4Gz12:Q4Gz12:Q4Gz12:Q4@(Q4)),\n",
       " Circuit(Gx01:Q4Gx01:Q4Gz12:Q4Gx12:Q4Gz12:Q4Gz12:Q4Gz12:Q4Gz12:Q4Gz12:Q4Gz12:Q4Gz12:Q4Gz01:Q4Gx01:Q4Gz01:Q4Gz01:Q4Gz01:Q4Gz01:Q4Gz01:Q4Gz01:Q4Gz01:Q4Gz01:Q4Gz01:Q4Gz01:Q4Gz12:Q4Gz12:Q4Gz12:Q4Gx01:Q4Gx01:Q4Gx01:Q4Gx01:Q4Gx01:Q4Gx01:Q4Gx01:Q4Gx01:Q4Gz01:Q4Gz01:Q4Gz01:Q4Gz01:Q4Gz01:Q4Gz12:Q4Gz12:Q4Gz12:Q4Gz12:Q4Gz12:Q4Gz01:Q4Gx01:Q4Gz01:Q4Gz01:Q4Gz01:Q4Gz01:Q4Gz01:Q4Gz01:Q4Gz01:Q4Gz01:Q4Gx01:Q4Gz01:Q4Gz01:Q4Gz01:Q4Gz01:Q4Gz01:Q4Gz01:Q4Gz01:Q4Gz01:Q4Gx01:Q4Gz01:Q4Gz01:Q4Gz01:Q4Gz01:Q4Gz01:Q4Gz01:Q4Gz01:Q4Gz12:Q4Gz12:Q4Gz12:Q4Gz12:Q4Gz12:Q4Gx12:Q4Gz12:Q4Gz12:Q4Gz12:Q4Gz12:Q4Gz12:Q4Gz12:Q4Gz12:Q4Gz12:Q4Gx12:Q4Gz12:Q4Gz12:Q4Gz12:Q4Gz12:Q4Gz12:Q4Gz12:Q4Gz12:Q4Gz12:Q4Gx12:Q4Gz12:Q4Gz12:Q4Gz12:Q4Gz12:Q4Gz12:Q4Gz12:Q4Gz12:Q4Gz01:Q4Gz01:Q4Gz01:Q4Gz01:Q4Gx01:Q4Gx01:Q4Gz12:Q4Gz12:Q4Gz12:Q4Gz12:Q4@(Q4)),\n",
       " Circuit(Gx01:Q4Gx01:Q4Gz12:Q4Gx12:Q4Gz12:Q4Gz12:Q4Gz12:Q4Gz12:Q4Gz12:Q4Gz12:Q4Gz12:Q4Gz01:Q4Gx01:Q4Gz01:Q4Gz01:Q4Gz01:Q4Gz01:Q4Gz01:Q4Gz01:Q4Gz01:Q4Gz01:Q4Gz01:Q4Gz01:Q4Gz12:Q4Gz12:Q4Gz12:Q4Gx01:Q4Gx01:Q4Gx01:Q4Gx01:Q4Gx01:Q4Gx01:Q4Gx01:Q4Gx01:Q4Gx01:Q4Gx01:Q4Gx01:Q4Gx01:Q4Gx01:Q4Gx01:Q4Gx01:Q4Gx01:Q4Gz01:Q4Gz01:Q4Gz01:Q4Gz01:Q4Gz01:Q4Gz12:Q4Gz12:Q4Gz12:Q4Gz12:Q4Gz12:Q4Gz01:Q4Gx01:Q4Gz01:Q4Gz01:Q4Gz01:Q4Gz01:Q4Gz01:Q4Gz01:Q4Gz01:Q4Gz01:Q4Gx01:Q4Gz01:Q4Gz01:Q4Gz01:Q4Gz01:Q4Gz01:Q4Gz01:Q4Gz01:Q4Gz01:Q4Gx01:Q4Gz01:Q4Gz01:Q4Gz01:Q4Gz01:Q4Gz01:Q4Gz01:Q4Gz01:Q4Gz12:Q4Gz12:Q4Gz12:Q4Gz12:Q4Gz12:Q4Gx12:Q4Gz12:Q4Gz12:Q4Gz12:Q4Gz12:Q4Gz12:Q4Gz12:Q4Gz12:Q4Gz12:Q4Gx12:Q4Gz12:Q4Gz12:Q4Gz12:Q4Gz12:Q4Gz12:Q4Gz12:Q4Gz12:Q4Gz12:Q4Gx12:Q4Gz12:Q4Gz12:Q4Gz12:Q4Gz12:Q4Gz12:Q4Gz12:Q4Gz12:Q4Gz01:Q4Gz01:Q4Gz01:Q4Gz01:Q4Gx01:Q4Gx01:Q4Gz12:Q4Gz12:Q4Gz12:Q4Gz12:Q4@(Q4)),\n",
       " Circuit(Gx01:Q4Gx01:Q4Gz12:Q4Gx12:Q4Gz12:Q4Gz12:Q4Gz12:Q4Gz12:Q4Gz12:Q4Gz12:Q4Gz12:Q4Gz01:Q4Gx01:Q4Gz01:Q4Gz01:Q4Gz01:Q4Gz01:Q4Gz01:Q4Gz01:Q4Gz01:Q4Gz01:Q4Gz01:Q4Gz01:Q4Gz12:Q4Gx01:Q4Gz01:Q4Gz01:Q4Gz01:Q4Gz01:Q4Gz01:Q4Gz12:Q4Gz12:Q4Gz12:Q4Gz12:Q4Gz12:Q4Gz01:Q4Gx01:Q4Gz01:Q4Gz01:Q4Gz01:Q4Gz01:Q4Gz01:Q4Gz01:Q4Gz01:Q4Gz01:Q4Gx01:Q4Gz01:Q4Gz01:Q4Gz01:Q4Gz01:Q4Gz01:Q4Gz01:Q4Gz01:Q4Gz01:Q4Gx01:Q4Gz01:Q4Gz01:Q4Gz01:Q4Gz01:Q4Gz01:Q4Gz01:Q4Gz01:Q4Gz12:Q4Gz12:Q4Gz12:Q4Gz12:Q4Gz12:Q4Gx12:Q4Gz12:Q4Gz12:Q4Gz12:Q4Gz12:Q4Gz12:Q4Gz12:Q4Gz12:Q4Gz12:Q4Gx12:Q4Gz12:Q4Gz12:Q4Gz12:Q4Gz12:Q4Gz12:Q4Gz12:Q4Gz12:Q4Gz12:Q4Gx12:Q4Gz12:Q4Gz12:Q4Gz12:Q4Gz12:Q4Gz12:Q4Gz12:Q4Gz12:Q4Gz01:Q4Gz01:Q4Gz01:Q4Gz01:Q4Gx01:Q4Gx01:Q4Gz12:Q4Gz12:Q4Gz12:Q4Gz12:Q4@(Q4)),\n",
       " Circuit(Gx01:Q4Gx01:Q4Gz12:Q4Gx12:Q4Gz12:Q4Gz12:Q4Gz12:Q4Gz12:Q4Gz12:Q4Gz12:Q4Gz12:Q4Gz01:Q4Gx01:Q4Gz01:Q4Gz01:Q4Gz01:Q4Gz01:Q4Gz01:Q4Gz01:Q4Gz01:Q4Gz01:Q4Gz01:Q4Gz01:Q4Gz12:Q4Gx01:Q4Gx01:Q4Gz01:Q4Gz01:Q4Gz01:Q4Gz01:Q4Gz01:Q4Gz12:Q4Gz12:Q4Gz12:Q4Gz12:Q4Gz12:Q4Gz01:Q4Gx01:Q4Gz01:Q4Gz01:Q4Gz01:Q4Gz01:Q4Gz01:Q4Gz01:Q4Gz01:Q4Gz01:Q4Gx01:Q4Gz01:Q4Gz01:Q4Gz01:Q4Gz01:Q4Gz01:Q4Gz01:Q4Gz01:Q4Gz01:Q4Gx01:Q4Gz01:Q4Gz01:Q4Gz01:Q4Gz01:Q4Gz01:Q4Gz01:Q4Gz01:Q4Gz12:Q4Gz12:Q4Gz12:Q4Gz12:Q4Gz12:Q4Gx12:Q4Gz12:Q4Gz12:Q4Gz12:Q4Gz12:Q4Gz12:Q4Gz12:Q4Gz12:Q4Gz12:Q4Gx12:Q4Gz12:Q4Gz12:Q4Gz12:Q4Gz12:Q4Gz12:Q4Gz12:Q4Gz12:Q4Gz12:Q4Gx12:Q4Gz12:Q4Gz12:Q4Gz12:Q4Gz12:Q4Gz12:Q4Gz12:Q4Gz12:Q4Gz01:Q4Gz01:Q4Gz01:Q4Gz01:Q4Gx01:Q4Gx01:Q4Gz12:Q4Gz12:Q4Gz12:Q4Gz12:Q4@(Q4)),\n",
       " Circuit(Gx01:Q4Gx01:Q4Gz12:Q4Gx12:Q4Gz12:Q4Gz12:Q4Gz12:Q4Gz12:Q4Gz12:Q4Gz12:Q4Gz12:Q4Gz01:Q4Gx01:Q4Gz01:Q4Gz01:Q4Gz01:Q4Gz01:Q4Gz01:Q4Gz01:Q4Gz01:Q4Gz01:Q4Gz01:Q4Gz01:Q4Gz12:Q4Gx01:Q4Gx01:Q4Gx01:Q4Gx01:Q4Gz01:Q4Gz01:Q4Gz01:Q4Gz01:Q4Gz01:Q4Gz12:Q4Gz12:Q4Gz12:Q4Gz12:Q4Gz12:Q4Gz01:Q4Gx01:Q4Gz01:Q4Gz01:Q4Gz01:Q4Gz01:Q4Gz01:Q4Gz01:Q4Gz01:Q4Gz01:Q4Gx01:Q4Gz01:Q4Gz01:Q4Gz01:Q4Gz01:Q4Gz01:Q4Gz01:Q4Gz01:Q4Gz01:Q4Gx01:Q4Gz01:Q4Gz01:Q4Gz01:Q4Gz01:Q4Gz01:Q4Gz01:Q4Gz01:Q4Gz12:Q4Gz12:Q4Gz12:Q4Gz12:Q4Gz12:Q4Gx12:Q4Gz12:Q4Gz12:Q4Gz12:Q4Gz12:Q4Gz12:Q4Gz12:Q4Gz12:Q4Gz12:Q4Gx12:Q4Gz12:Q4Gz12:Q4Gz12:Q4Gz12:Q4Gz12:Q4Gz12:Q4Gz12:Q4Gz12:Q4Gx12:Q4Gz12:Q4Gz12:Q4Gz12:Q4Gz12:Q4Gz12:Q4Gz12:Q4Gz12:Q4Gz01:Q4Gz01:Q4Gz01:Q4Gz01:Q4Gx01:Q4Gx01:Q4Gz12:Q4Gz12:Q4Gz12:Q4Gz12:Q4@(Q4)),\n",
       " Circuit(Gx01:Q4Gx01:Q4Gz12:Q4Gx12:Q4Gz12:Q4Gz12:Q4Gz12:Q4Gz12:Q4Gz12:Q4Gz12:Q4Gz12:Q4Gz01:Q4Gx01:Q4Gz01:Q4Gz01:Q4Gz01:Q4Gz01:Q4Gz01:Q4Gz01:Q4Gz01:Q4Gz01:Q4Gz01:Q4Gz01:Q4Gz12:Q4Gx01:Q4Gx01:Q4Gx01:Q4Gx01:Q4Gx01:Q4Gx01:Q4Gx01:Q4Gx01:Q4Gz01:Q4Gz01:Q4Gz01:Q4Gz01:Q4Gz01:Q4Gz12:Q4Gz12:Q4Gz12:Q4Gz12:Q4Gz12:Q4Gz01:Q4Gx01:Q4Gz01:Q4Gz01:Q4Gz01:Q4Gz01:Q4Gz01:Q4Gz01:Q4Gz01:Q4Gz01:Q4Gx01:Q4Gz01:Q4Gz01:Q4Gz01:Q4Gz01:Q4Gz01:Q4Gz01:Q4Gz01:Q4Gz01:Q4Gx01:Q4Gz01:Q4Gz01:Q4Gz01:Q4Gz01:Q4Gz01:Q4Gz01:Q4Gz01:Q4Gz12:Q4Gz12:Q4Gz12:Q4Gz12:Q4Gz12:Q4Gx12:Q4Gz12:Q4Gz12:Q4Gz12:Q4Gz12:Q4Gz12:Q4Gz12:Q4Gz12:Q4Gz12:Q4Gx12:Q4Gz12:Q4Gz12:Q4Gz12:Q4Gz12:Q4Gz12:Q4Gz12:Q4Gz12:Q4Gz12:Q4Gx12:Q4Gz12:Q4Gz12:Q4Gz12:Q4Gz12:Q4Gz12:Q4Gz12:Q4Gz12:Q4Gz01:Q4Gz01:Q4Gz01:Q4Gz01:Q4Gx01:Q4Gx01:Q4Gz12:Q4Gz12:Q4Gz12:Q4Gz12:Q4@(Q4)),\n",
       " Circuit(Gx01:Q4Gx01:Q4Gz12:Q4Gx12:Q4Gz12:Q4Gz12:Q4Gz12:Q4Gz12:Q4Gz12:Q4Gz12:Q4Gz12:Q4Gz01:Q4Gx01:Q4Gz01:Q4Gz01:Q4Gz01:Q4Gz01:Q4Gz01:Q4Gz01:Q4Gz01:Q4Gz01:Q4Gz01:Q4Gz01:Q4Gz12:Q4Gx01:Q4Gx01:Q4Gx01:Q4Gx01:Q4Gx01:Q4Gx01:Q4Gx01:Q4Gx01:Q4Gx01:Q4Gx01:Q4Gx01:Q4Gx01:Q4Gx01:Q4Gx01:Q4Gx01:Q4Gx01:Q4Gz01:Q4Gz01:Q4Gz01:Q4Gz01:Q4Gz01:Q4Gz12:Q4Gz12:Q4Gz12:Q4Gz12:Q4Gz12:Q4Gz01:Q4Gx01:Q4Gz01:Q4Gz01:Q4Gz01:Q4Gz01:Q4Gz01:Q4Gz01:Q4Gz01:Q4Gz01:Q4Gx01:Q4Gz01:Q4Gz01:Q4Gz01:Q4Gz01:Q4Gz01:Q4Gz01:Q4Gz01:Q4Gz01:Q4Gx01:Q4Gz01:Q4Gz01:Q4Gz01:Q4Gz01:Q4Gz01:Q4Gz01:Q4Gz01:Q4Gz12:Q4Gz12:Q4Gz12:Q4Gz12:Q4Gz12:Q4Gx12:Q4Gz12:Q4Gz12:Q4Gz12:Q4Gz12:Q4Gz12:Q4Gz12:Q4Gz12:Q4Gz12:Q4Gx12:Q4Gz12:Q4Gz12:Q4Gz12:Q4Gz12:Q4Gz12:Q4Gz12:Q4Gz12:Q4Gz12:Q4Gx12:Q4Gz12:Q4Gz12:Q4Gz12:Q4Gz12:Q4Gz12:Q4Gz12:Q4Gz12:Q4Gz01:Q4Gz01:Q4Gz01:Q4Gz01:Q4Gx01:Q4Gx01:Q4Gz12:Q4Gz12:Q4Gz12:Q4Gz12:Q4@(Q4))]"
      ]
     },
     "execution_count": 182,
     "metadata": {},
     "output_type": "execute_result"
    }
   ],
   "source": [
    "circ_list"
   ]
  },
  {
   "cell_type": "code",
   "execution_count": 183,
   "metadata": {},
   "outputs": [],
   "source": [
    "from quapack.pyRPE import RobustPhaseEstimation\n",
    "from quapack.pyRPE.quantum import Q as _rpeQ\n",
    "\n",
    "def estimate_phase_from_dataset(ds, cos_circs, cos_outcome0s, cos_outcome1s, sin_circs, sin_outcome0s, sin_outcome1s, depths):\n",
    "    experiment = _rpeQ()\n",
    "    for idx, d in enumerate(depths):\n",
    "        if d == 0:\n",
    "            continue\n",
    "        cos_0_counts = sum([ds[cos_circs[idx]].counts[ci] for ci in cos_outcome0s])\n",
    "        cos_1_counts = sum([ds[cos_circs[idx]].counts[ci] for ci in cos_outcome1s])\n",
    "        sin_0_counts = sum([ds[sin_circs[idx]].counts[ci] for ci in sin_outcome0s])\n",
    "        sin_1_counts = sum([ds[sin_circs[idx]].counts[ci] for ci in sin_outcome1s])\n",
    "        experiment.process_cos(d, (int(cos_0_counts), int(cos_1_counts)))\n",
    "        experiment.process_sin(d, (int(sin_0_counts), int(sin_1_counts)))\n",
    "    analysis = RobustPhaseEstimation(experiment)\n",
    "    last_good_generation = analysis.check_unif_local(historical=True)\n",
    "    estimates = analysis.angle_estimates\n",
    "    return estimates, last_good_generation"
   ]
  },
  {
   "cell_type": "code",
   "execution_count": 184,
   "metadata": {},
   "outputs": [],
   "source": [
    "from pygsti.baseobjs import ExplicitStateSpace\n",
    "from pygsti.models import ExplicitOpModel\n",
    "from pygsti.models.modelconstruction import create_spam_vector\n",
    "from pygsti.modelmembers.povms import UnconstrainedPOVM, FullPOVMEffect\n",
    "from pygsti.modelmembers.states import FullState\n",
    "from pygsti.tools import change_basis\n",
    "from pygsti.baseobjs import Basis\n",
    "\n",
    "\n",
    "def make_model(error_vector, depolarization, qid):\n",
    "    \n",
    "    # Parse error vector\n",
    "    x01_overrot = error_vector[0]\n",
    "    x12_overrot = error_vector[1]\n",
    "    phase_error = error_vector[2]\n",
    "\n",
    "    # Define single qutrit unitaries\n",
    "    X01_unitary = modelX01(x01_overrot, phase_error)\n",
    "    Z01_unitary = modelZ01()\n",
    "    X12_unitary = modelX12(x12_overrot)\n",
    "    Z12_unitary = modelZ12()\n",
    "\n",
    "\n",
    "    target_unitary_mapping = {\n",
    "        'Gx01': X01_unitary,\n",
    "        'Gx12': X12_unitary,\n",
    "        'Gz01': Z01_unitary,\n",
    "        'Gz12': Z12_unitary,\n",
    "    }\n",
    "\n",
    "    rho0 = np.asarray([1, 0, 0])\n",
    "\n",
    "    E0 = np.asarray([1, 0, 0])\n",
    "    E1 = np.asarray([0, 1, 0])\n",
    "    E2 = np.asarray([0, 0, 1])\n",
    "\n",
    "    povm_dict = {'0' : E0, '1' : E1, '2' : E2}\n",
    "\n",
    "    \n",
    "    gate_names = ['Gx01', 'Gx12', 'Gz01', 'Gz12']\n",
    "\n",
    "    availability = {\n",
    "        'Gx01': [(qid, )], \n",
    "        'Gx12': [(qid, )], \n",
    "        'Gz01': [(qid, )], \n",
    "        'Gz12': [(qid, )], \n",
    "    }\n",
    "\n",
    "\n",
    "    # define the processor spec\n",
    "    pspec = QuditProcessorSpec([qid,], qudit_udims=[3], gate_names=gate_names,\n",
    "                    nonstd_gate_unitaries=target_unitary_mapping,\n",
    "                    prep_names = ['rho0'], povm_names = ['Mdefault'],\n",
    "                    nonstd_preps = {'rho0': rho0}, nonstd_povms = {'Mdefault': povm_dict},\n",
    "                    availability=availability,\n",
    "                    )\n",
    "    model = pygsti.models.modelconstruction.create_explicit_model(pspec,ideal_gate_type='full TP', ideal_spam_type='full pure', basis='gm')\n",
    "\n",
    "    model.operations[('Gx01', qid)].depolarize(depolarization)\n",
    "    model.operations[('Gz01', qid)].depolarize(depolarization)\n",
    "    model.operations[('Gx12', qid)].depolarize(depolarization)\n",
    "    model.operations[('Gz12', qid)].depolarize(depolarization)\n",
    "    return model"
   ]
  },
  {
   "cell_type": "code",
   "execution_count": 185,
   "metadata": {},
   "outputs": [
    {
     "data": {
      "text/plain": [
       "Circuit(Gx01:Q4Gx01:Q4Gz12:Q4Gx12:Q4Gz12:Q4Gz12:Q4Gz12:Q4Gz12:Q4Gz12:Q4Gz12:Q4Gz12:Q4Gz01:Q4Gx01:Q4Gz01:Q4Gz01:Q4Gz01:Q4Gz01:Q4Gz01:Q4Gz01:Q4Gz01:Q4Gz01:Q4Gz01:Q4Gz01:Q4Gz12:Q4Gx01:Q4Gx01:Q4Gx01:Q4Gx01:Q4Gx01:Q4Gx01:Q4Gx01:Q4Gx01:Q4Gx01:Q4Gx01:Q4Gx01:Q4Gx01:Q4Gx01:Q4Gx01:Q4Gx01:Q4Gx01:Q4Gz01:Q4Gz01:Q4Gz01:Q4Gz01:Q4Gz01:Q4Gz12:Q4Gz12:Q4Gz12:Q4Gz12:Q4Gz12:Q4Gz01:Q4Gx01:Q4Gz01:Q4Gz01:Q4Gz01:Q4Gz01:Q4Gz01:Q4Gz01:Q4Gz01:Q4Gz01:Q4Gx01:Q4Gz01:Q4Gz01:Q4Gz01:Q4Gz01:Q4Gz01:Q4Gz01:Q4Gz01:Q4Gz01:Q4Gx01:Q4Gz01:Q4Gz01:Q4Gz01:Q4Gz01:Q4Gz01:Q4Gz01:Q4Gz01:Q4Gz12:Q4Gz12:Q4Gz12:Q4Gz12:Q4Gz12:Q4Gx12:Q4Gz12:Q4Gz12:Q4Gz12:Q4Gz12:Q4Gz12:Q4Gz12:Q4Gz12:Q4Gz12:Q4Gx12:Q4Gz12:Q4Gz12:Q4Gz12:Q4Gz12:Q4Gz12:Q4Gz12:Q4Gz12:Q4Gz12:Q4Gx12:Q4Gz12:Q4Gz12:Q4Gz12:Q4Gz12:Q4Gz12:Q4Gz12:Q4Gz12:Q4Gz01:Q4Gz01:Q4Gz01:Q4Gz01:Q4Gx01:Q4Gx01:Q4Gz12:Q4Gz12:Q4Gz12:Q4Gz12:Q4@(Q4))"
      ]
     },
     "execution_count": 185,
     "metadata": {},
     "output_type": "execute_result"
    }
   ],
   "source": [
    "circ_list[-1]"
   ]
  },
  {
   "cell_type": "code",
   "execution_count": null,
   "metadata": {},
   "outputs": [],
   "source": []
  },
  {
   "cell_type": "code",
   "execution_count": 186,
   "metadata": {},
   "outputs": [
    {
     "name": "stdout",
     "output_type": "stream",
     "text": [
      "Reading from cache file: qutrit_RPE_test_dataset.txt.cache\n"
     ]
    },
    {
     "name": "stderr",
     "output_type": "stream",
     "text": [
      "/opt/anaconda3/envs/qubic/lib/python3.12/site-packages/pygsti/tools/legacytools.py:38: UserWarning: The function load_dataset is deprecated, and may not be present in future versions of pygsti.\n",
      "    Please use read_dataset instead.\n",
      "  _warnings.warn(message)\n"
     ]
    }
   ],
   "source": [
    "ds_experimental = pygsti.io.load_dataset('qutrit_RPE_test_dataset.txt', cache=True)"
   ]
  },
  {
   "cell_type": "code",
   "execution_count": 187,
   "metadata": {},
   "outputs": [
    {
     "name": "stdout",
     "output_type": "stream",
     "text": [
      "Gx01:Q4@(Q4)  :  {('0',): 459.0, ('1',): 440.0, ('2',): 2.0}\n",
      "Gx01:Q4Gx01:Q4@(Q4)  :  {('0',): 22.0, ('1',): 877.0, ('2',): 2.0}\n",
      "Gx01:Q4Gx01:Q4Gx01:Q4Gx01:Q4@(Q4)  :  {('0',): 896.0, ('1',): 5.0, ('2',): 0.0}\n",
      "Gx01:Q4Gx01:Q4Gx01:Q4Gx01:Q4Gx01:Q4Gx01:Q4Gx01:Q4Gx01:Q4@(Q4)  :  {('0',): 894.0, ('1',): 7.0, ('2',): 0.0}\n",
      "Gx01:Q4Gx01:Q4Gx01:Q4Gx01:Q4Gx01:Q4Gx01:Q4Gx01:Q4Gx01:Q4Gx01:Q4Gx01:Q4Gx01:Q4Gx01:Q4Gx01:Q4Gx01:Q4Gx01:Q4Gx01:Q4@(Q4)  :  {('0',): 896.0, ('1',): 5.0, ('2',): 0.0}\n",
      "Gx01:Q4Gx01:Q4Gx01:Q4@(Q4)  :  {('0',): 455.0, ('1',): 444.0, ('2',): 2.0}\n",
      "Gx01:Q4Gx01:Q4Gx01:Q4Gx01:Q4Gx01:Q4@(Q4)  :  {('0',): 467.0, ('1',): 433.0, ('2',): 1.0}\n",
      "Gx01:Q4Gx01:Q4Gx01:Q4Gx01:Q4Gx01:Q4Gx01:Q4Gx01:Q4Gx01:Q4Gx01:Q4@(Q4)  :  {('0',): 446.0, ('1',): 455.0, ('2',): 0.0}\n",
      "Gx01:Q4Gx01:Q4Gx01:Q4Gx01:Q4Gx01:Q4Gx01:Q4Gx01:Q4Gx01:Q4Gx01:Q4Gx01:Q4Gx01:Q4Gx01:Q4Gx01:Q4Gx01:Q4Gx01:Q4Gx01:Q4Gx01:Q4@(Q4)  :  {('0',): 418.0, ('1',): 482.0, ('2',): 1.0}\n",
      "Gx01:Q4Gx01:Q4Gx12:Q4@(Q4)  :  {('0',): 15.0, ('1',): 470.0, ('2',): 416.0}\n",
      "Gx01:Q4Gx01:Q4Gx12:Q4Gx12:Q4@(Q4)  :  {('0',): 9.0, ('1',): 31.0, ('2',): 861.0}\n",
      "Gx01:Q4Gx01:Q4Gx12:Q4Gx12:Q4Gx12:Q4Gx12:Q4@(Q4)  :  {('0',): 24.0, ('1',): 869.0, ('2',): 8.0}\n",
      "Gx01:Q4Gx01:Q4Gx12:Q4Gx12:Q4Gx12:Q4Gx12:Q4Gx12:Q4Gx12:Q4Gx12:Q4Gx12:Q4@(Q4)  :  {('0',): 29.0, ('1',): 858.0, ('2',): 14.0}\n",
      "Gx01:Q4Gx01:Q4Gx12:Q4Gx12:Q4Gx12:Q4Gx12:Q4Gx12:Q4Gx12:Q4Gx12:Q4Gx12:Q4Gx12:Q4Gx12:Q4Gx12:Q4Gx12:Q4Gx12:Q4Gx12:Q4Gx12:Q4Gx12:Q4@(Q4)  :  {('0',): 22.0, ('1',): 839.0, ('2',): 40.0}\n",
      "Gx01:Q4Gx01:Q4Gx12:Q4Gx12:Q4Gx12:Q4@(Q4)  :  {('0',): 13.0, ('1',): 430.0, ('2',): 458.0}\n",
      "Gx01:Q4Gx01:Q4Gx12:Q4Gx12:Q4Gx12:Q4Gx12:Q4Gx12:Q4@(Q4)  :  {('0',): 18.0, ('1',): 512.0, ('2',): 371.0}\n",
      "Gx01:Q4Gx01:Q4Gx12:Q4Gx12:Q4Gx12:Q4Gx12:Q4Gx12:Q4Gx12:Q4Gx12:Q4Gx12:Q4Gx12:Q4@(Q4)  :  {('0',): 22.0, ('1',): 537.0, ('2',): 342.0}\n",
      "Gx01:Q4Gx01:Q4Gx12:Q4Gx12:Q4Gx12:Q4Gx12:Q4Gx12:Q4Gx12:Q4Gx12:Q4Gx12:Q4Gx12:Q4Gx12:Q4Gx12:Q4Gx12:Q4Gx12:Q4Gx12:Q4Gx12:Q4Gx12:Q4Gx12:Q4@(Q4)  :  {('0',): 26.0, ('1',): 598.0, ('2',): 277.0}\n",
      "Gx01:Q4Gx01:Q4Gz12:Q4Gx12:Q4Gz12:Q4Gz12:Q4Gz12:Q4Gz12:Q4Gz12:Q4Gz12:Q4Gz12:Q4Gz01:Q4Gx01:Q4Gz01:Q4Gz01:Q4Gz01:Q4Gz01:Q4Gz01:Q4Gz01:Q4Gz01:Q4Gz01:Q4Gz01:Q4Gz01:Q4Gz12:Q4Gz12:Q4Gz12:Q4Gx01:Q4Gz01:Q4Gz01:Q4Gz01:Q4Gz01:Q4Gz01:Q4Gz12:Q4Gz12:Q4Gz12:Q4Gz12:Q4Gz12:Q4Gz01:Q4Gx01:Q4Gz01:Q4Gz01:Q4Gz01:Q4Gz01:Q4Gz01:Q4Gz01:Q4Gz01:Q4Gz01:Q4Gx01:Q4Gz01:Q4Gz01:Q4Gz01:Q4Gz01:Q4Gz01:Q4Gz01:Q4Gz01:Q4Gz01:Q4Gx01:Q4Gz01:Q4Gz01:Q4Gz01:Q4Gz01:Q4Gz01:Q4Gz01:Q4Gz01:Q4Gz12:Q4Gz12:Q4Gz12:Q4Gz12:Q4Gz12:Q4Gx12:Q4Gz12:Q4Gz12:Q4Gz12:Q4Gz12:Q4Gz12:Q4Gz12:Q4Gz12:Q4Gz12:Q4Gx12:Q4Gz12:Q4Gz12:Q4Gz12:Q4Gz12:Q4Gz12:Q4Gz12:Q4Gz12:Q4Gz12:Q4Gx12:Q4Gz12:Q4Gz12:Q4Gz12:Q4Gz12:Q4Gz12:Q4Gz12:Q4Gz12:Q4Gz01:Q4Gz01:Q4Gz01:Q4Gz01:Q4Gx01:Q4Gx01:Q4Gz12:Q4Gz12:Q4Gz12:Q4Gz12:Q4@(Q4)  :  {('0',): 32.0, ('1',): 241.0, ('2',): 628.0}\n",
      "Gx01:Q4Gx01:Q4Gz12:Q4Gx12:Q4Gz12:Q4Gz12:Q4Gz12:Q4Gz12:Q4Gz12:Q4Gz12:Q4Gz12:Q4Gz01:Q4Gx01:Q4Gz01:Q4Gz01:Q4Gz01:Q4Gz01:Q4Gz01:Q4Gz01:Q4Gz01:Q4Gz01:Q4Gz01:Q4Gz01:Q4Gz12:Q4Gz12:Q4Gz12:Q4Gx01:Q4Gx01:Q4Gz01:Q4Gz01:Q4Gz01:Q4Gz01:Q4Gz01:Q4Gz12:Q4Gz12:Q4Gz12:Q4Gz12:Q4Gz12:Q4Gz01:Q4Gx01:Q4Gz01:Q4Gz01:Q4Gz01:Q4Gz01:Q4Gz01:Q4Gz01:Q4Gz01:Q4Gz01:Q4Gx01:Q4Gz01:Q4Gz01:Q4Gz01:Q4Gz01:Q4Gz01:Q4Gz01:Q4Gz01:Q4Gz01:Q4Gx01:Q4Gz01:Q4Gz01:Q4Gz01:Q4Gz01:Q4Gz01:Q4Gz01:Q4Gz01:Q4Gz12:Q4Gz12:Q4Gz12:Q4Gz12:Q4Gz12:Q4Gx12:Q4Gz12:Q4Gz12:Q4Gz12:Q4Gz12:Q4Gz12:Q4Gz12:Q4Gz12:Q4Gz12:Q4Gx12:Q4Gz12:Q4Gz12:Q4Gz12:Q4Gz12:Q4Gz12:Q4Gz12:Q4Gz12:Q4Gz12:Q4Gx12:Q4Gz12:Q4Gz12:Q4Gz12:Q4Gz12:Q4Gz12:Q4Gz12:Q4Gz12:Q4Gz01:Q4Gz01:Q4Gz01:Q4Gz01:Q4Gx01:Q4Gx01:Q4Gz12:Q4Gz12:Q4Gz12:Q4Gz12:Q4@(Q4)  :  {('0',): 236.0, ('1',): 470.0, ('2',): 195.0}\n",
      "Gx01:Q4Gx01:Q4Gz12:Q4Gx12:Q4Gz12:Q4Gz12:Q4Gz12:Q4Gz12:Q4Gz12:Q4Gz12:Q4Gz12:Q4Gz01:Q4Gx01:Q4Gz01:Q4Gz01:Q4Gz01:Q4Gz01:Q4Gz01:Q4Gz01:Q4Gz01:Q4Gz01:Q4Gz01:Q4Gz01:Q4Gz12:Q4Gz12:Q4Gz12:Q4Gx01:Q4Gx01:Q4Gx01:Q4Gx01:Q4Gz01:Q4Gz01:Q4Gz01:Q4Gz01:Q4Gz01:Q4Gz12:Q4Gz12:Q4Gz12:Q4Gz12:Q4Gz12:Q4Gz01:Q4Gx01:Q4Gz01:Q4Gz01:Q4Gz01:Q4Gz01:Q4Gz01:Q4Gz01:Q4Gz01:Q4Gz01:Q4Gx01:Q4Gz01:Q4Gz01:Q4Gz01:Q4Gz01:Q4Gz01:Q4Gz01:Q4Gz01:Q4Gz01:Q4Gx01:Q4Gz01:Q4Gz01:Q4Gz01:Q4Gz01:Q4Gz01:Q4Gz01:Q4Gz01:Q4Gz12:Q4Gz12:Q4Gz12:Q4Gz12:Q4Gz12:Q4Gx12:Q4Gz12:Q4Gz12:Q4Gz12:Q4Gz12:Q4Gz12:Q4Gz12:Q4Gz12:Q4Gz12:Q4Gx12:Q4Gz12:Q4Gz12:Q4Gz12:Q4Gz12:Q4Gz12:Q4Gz12:Q4Gz12:Q4Gz12:Q4Gx12:Q4Gz12:Q4Gz12:Q4Gz12:Q4Gz12:Q4Gz12:Q4Gz12:Q4Gz12:Q4Gz01:Q4Gz01:Q4Gz01:Q4Gz01:Q4Gx01:Q4Gx01:Q4Gz12:Q4Gz12:Q4Gz12:Q4Gz12:Q4@(Q4)  :  {('0',): 877.0, ('1',): 12.0, ('2',): 12.0}\n",
      "Gx01:Q4Gx01:Q4Gz12:Q4Gx12:Q4Gz12:Q4Gz12:Q4Gz12:Q4Gz12:Q4Gz12:Q4Gz12:Q4Gz12:Q4Gz01:Q4Gx01:Q4Gz01:Q4Gz01:Q4Gz01:Q4Gz01:Q4Gz01:Q4Gz01:Q4Gz01:Q4Gz01:Q4Gz01:Q4Gz01:Q4Gz12:Q4Gz12:Q4Gz12:Q4Gx01:Q4Gx01:Q4Gx01:Q4Gx01:Q4Gx01:Q4Gx01:Q4Gx01:Q4Gx01:Q4Gz01:Q4Gz01:Q4Gz01:Q4Gz01:Q4Gz01:Q4Gz12:Q4Gz12:Q4Gz12:Q4Gz12:Q4Gz12:Q4Gz01:Q4Gx01:Q4Gz01:Q4Gz01:Q4Gz01:Q4Gz01:Q4Gz01:Q4Gz01:Q4Gz01:Q4Gz01:Q4Gx01:Q4Gz01:Q4Gz01:Q4Gz01:Q4Gz01:Q4Gz01:Q4Gz01:Q4Gz01:Q4Gz01:Q4Gx01:Q4Gz01:Q4Gz01:Q4Gz01:Q4Gz01:Q4Gz01:Q4Gz01:Q4Gz01:Q4Gz12:Q4Gz12:Q4Gz12:Q4Gz12:Q4Gz12:Q4Gx12:Q4Gz12:Q4Gz12:Q4Gz12:Q4Gz12:Q4Gz12:Q4Gz12:Q4Gz12:Q4Gz12:Q4Gx12:Q4Gz12:Q4Gz12:Q4Gz12:Q4Gz12:Q4Gz12:Q4Gz12:Q4Gz12:Q4Gz12:Q4Gx12:Q4Gz12:Q4Gz12:Q4Gz12:Q4Gz12:Q4Gz12:Q4Gz12:Q4Gz12:Q4Gz01:Q4Gz01:Q4Gz01:Q4Gz01:Q4Gx01:Q4Gx01:Q4Gz12:Q4Gz12:Q4Gz12:Q4Gz12:Q4@(Q4)  :  {('0',): 16.0, ('1',): 54.0, ('2',): 831.0}\n",
      "Gx01:Q4Gx01:Q4Gz12:Q4Gx12:Q4Gz12:Q4Gz12:Q4Gz12:Q4Gz12:Q4Gz12:Q4Gz12:Q4Gz12:Q4Gz01:Q4Gx01:Q4Gz01:Q4Gz01:Q4Gz01:Q4Gz01:Q4Gz01:Q4Gz01:Q4Gz01:Q4Gz01:Q4Gz01:Q4Gz01:Q4Gz12:Q4Gz12:Q4Gz12:Q4Gx01:Q4Gx01:Q4Gx01:Q4Gx01:Q4Gx01:Q4Gx01:Q4Gx01:Q4Gx01:Q4Gx01:Q4Gx01:Q4Gx01:Q4Gx01:Q4Gx01:Q4Gx01:Q4Gx01:Q4Gx01:Q4Gz01:Q4Gz01:Q4Gz01:Q4Gz01:Q4Gz01:Q4Gz12:Q4Gz12:Q4Gz12:Q4Gz12:Q4Gz12:Q4Gz01:Q4Gx01:Q4Gz01:Q4Gz01:Q4Gz01:Q4Gz01:Q4Gz01:Q4Gz01:Q4Gz01:Q4Gz01:Q4Gx01:Q4Gz01:Q4Gz01:Q4Gz01:Q4Gz01:Q4Gz01:Q4Gz01:Q4Gz01:Q4Gz01:Q4Gx01:Q4Gz01:Q4Gz01:Q4Gz01:Q4Gz01:Q4Gz01:Q4Gz01:Q4Gz01:Q4Gz12:Q4Gz12:Q4Gz12:Q4Gz12:Q4Gz12:Q4Gx12:Q4Gz12:Q4Gz12:Q4Gz12:Q4Gz12:Q4Gz12:Q4Gz12:Q4Gz12:Q4Gz12:Q4Gx12:Q4Gz12:Q4Gz12:Q4Gz12:Q4Gz12:Q4Gz12:Q4Gz12:Q4Gz12:Q4Gz12:Q4Gx12:Q4Gz12:Q4Gz12:Q4Gz12:Q4Gz12:Q4Gz12:Q4Gz12:Q4Gz12:Q4Gz01:Q4Gz01:Q4Gz01:Q4Gz01:Q4Gx01:Q4Gx01:Q4Gz12:Q4Gz12:Q4Gz12:Q4Gz12:Q4@(Q4)  :  {('0',): 37.0, ('1',): 47.0, ('2',): 817.0}\n",
      "Gx01:Q4Gx01:Q4Gz12:Q4Gx12:Q4Gz12:Q4Gz12:Q4Gz12:Q4Gz12:Q4Gz12:Q4Gz12:Q4Gz12:Q4Gz01:Q4Gx01:Q4Gz01:Q4Gz01:Q4Gz01:Q4Gz01:Q4Gz01:Q4Gz01:Q4Gz01:Q4Gz01:Q4Gz01:Q4Gz01:Q4Gz12:Q4Gx01:Q4Gz01:Q4Gz01:Q4Gz01:Q4Gz01:Q4Gz01:Q4Gz12:Q4Gz12:Q4Gz12:Q4Gz12:Q4Gz12:Q4Gz01:Q4Gx01:Q4Gz01:Q4Gz01:Q4Gz01:Q4Gz01:Q4Gz01:Q4Gz01:Q4Gz01:Q4Gz01:Q4Gx01:Q4Gz01:Q4Gz01:Q4Gz01:Q4Gz01:Q4Gz01:Q4Gz01:Q4Gz01:Q4Gz01:Q4Gx01:Q4Gz01:Q4Gz01:Q4Gz01:Q4Gz01:Q4Gz01:Q4Gz01:Q4Gz01:Q4Gz12:Q4Gz12:Q4Gz12:Q4Gz12:Q4Gz12:Q4Gx12:Q4Gz12:Q4Gz12:Q4Gz12:Q4Gz12:Q4Gz12:Q4Gz12:Q4Gz12:Q4Gz12:Q4Gx12:Q4Gz12:Q4Gz12:Q4Gz12:Q4Gz12:Q4Gz12:Q4Gz12:Q4Gz12:Q4Gz12:Q4Gx12:Q4Gz12:Q4Gz12:Q4Gz12:Q4Gz12:Q4Gz12:Q4Gz12:Q4Gz12:Q4Gz01:Q4Gz01:Q4Gz01:Q4Gz01:Q4Gx01:Q4Gx01:Q4Gz12:Q4Gz12:Q4Gz12:Q4Gz12:Q4@(Q4)  :  {('0',): 692.0, ('1',): 201.0, ('2',): 8.0}\n",
      "Gx01:Q4Gx01:Q4Gz12:Q4Gx12:Q4Gz12:Q4Gz12:Q4Gz12:Q4Gz12:Q4Gz12:Q4Gz12:Q4Gz12:Q4Gz01:Q4Gx01:Q4Gz01:Q4Gz01:Q4Gz01:Q4Gz01:Q4Gz01:Q4Gz01:Q4Gz01:Q4Gz01:Q4Gz01:Q4Gz01:Q4Gz12:Q4Gx01:Q4Gx01:Q4Gz01:Q4Gz01:Q4Gz01:Q4Gz01:Q4Gz01:Q4Gz12:Q4Gz12:Q4Gz12:Q4Gz12:Q4Gz12:Q4Gz01:Q4Gx01:Q4Gz01:Q4Gz01:Q4Gz01:Q4Gz01:Q4Gz01:Q4Gz01:Q4Gz01:Q4Gz01:Q4Gx01:Q4Gz01:Q4Gz01:Q4Gz01:Q4Gz01:Q4Gz01:Q4Gz01:Q4Gz01:Q4Gz01:Q4Gx01:Q4Gz01:Q4Gz01:Q4Gz01:Q4Gz01:Q4Gz01:Q4Gz01:Q4Gz01:Q4Gz12:Q4Gz12:Q4Gz12:Q4Gz12:Q4Gz12:Q4Gx12:Q4Gz12:Q4Gz12:Q4Gz12:Q4Gz12:Q4Gz12:Q4Gz12:Q4Gz12:Q4Gz12:Q4Gx12:Q4Gz12:Q4Gz12:Q4Gz12:Q4Gz12:Q4Gz12:Q4Gz12:Q4Gz12:Q4Gz12:Q4Gx12:Q4Gz12:Q4Gz12:Q4Gz12:Q4Gz12:Q4Gz12:Q4Gz12:Q4Gz12:Q4Gz01:Q4Gz01:Q4Gz01:Q4Gz01:Q4Gx01:Q4Gx01:Q4Gz12:Q4Gz12:Q4Gz12:Q4Gz12:Q4@(Q4)  :  {('0',): 272.0, ('1',): 442.0, ('2',): 187.0}\n",
      "Gx01:Q4Gx01:Q4Gz12:Q4Gx12:Q4Gz12:Q4Gz12:Q4Gz12:Q4Gz12:Q4Gz12:Q4Gz12:Q4Gz12:Q4Gz01:Q4Gx01:Q4Gz01:Q4Gz01:Q4Gz01:Q4Gz01:Q4Gz01:Q4Gz01:Q4Gz01:Q4Gz01:Q4Gz01:Q4Gz01:Q4Gz12:Q4Gx01:Q4Gx01:Q4Gx01:Q4Gx01:Q4Gz01:Q4Gz01:Q4Gz01:Q4Gz01:Q4Gz01:Q4Gz12:Q4Gz12:Q4Gz12:Q4Gz12:Q4Gz12:Q4Gz01:Q4Gx01:Q4Gz01:Q4Gz01:Q4Gz01:Q4Gz01:Q4Gz01:Q4Gz01:Q4Gz01:Q4Gz01:Q4Gx01:Q4Gz01:Q4Gz01:Q4Gz01:Q4Gz01:Q4Gz01:Q4Gz01:Q4Gz01:Q4Gz01:Q4Gx01:Q4Gz01:Q4Gz01:Q4Gz01:Q4Gz01:Q4Gz01:Q4Gz01:Q4Gz01:Q4Gz12:Q4Gz12:Q4Gz12:Q4Gz12:Q4Gz12:Q4Gx12:Q4Gz12:Q4Gz12:Q4Gz12:Q4Gz12:Q4Gz12:Q4Gz12:Q4Gz12:Q4Gz12:Q4Gx12:Q4Gz12:Q4Gz12:Q4Gz12:Q4Gz12:Q4Gz12:Q4Gz12:Q4Gz12:Q4Gz12:Q4Gx12:Q4Gz12:Q4Gz12:Q4Gz12:Q4Gz12:Q4Gz12:Q4Gz12:Q4Gz12:Q4Gz01:Q4Gz01:Q4Gz01:Q4Gz01:Q4Gx01:Q4Gx01:Q4Gz12:Q4Gz12:Q4Gz12:Q4Gz12:Q4@(Q4)  :  {('0',): 18.0, ('1',): 39.0, ('2',): 844.0}\n",
      "Gx01:Q4Gx01:Q4Gz12:Q4Gx12:Q4Gz12:Q4Gz12:Q4Gz12:Q4Gz12:Q4Gz12:Q4Gz12:Q4Gz12:Q4Gz01:Q4Gx01:Q4Gz01:Q4Gz01:Q4Gz01:Q4Gz01:Q4Gz01:Q4Gz01:Q4Gz01:Q4Gz01:Q4Gz01:Q4Gz01:Q4Gz12:Q4Gx01:Q4Gx01:Q4Gx01:Q4Gx01:Q4Gx01:Q4Gx01:Q4Gx01:Q4Gx01:Q4Gz01:Q4Gz01:Q4Gz01:Q4Gz01:Q4Gz01:Q4Gz12:Q4Gz12:Q4Gz12:Q4Gz12:Q4Gz12:Q4Gz01:Q4Gx01:Q4Gz01:Q4Gz01:Q4Gz01:Q4Gz01:Q4Gz01:Q4Gz01:Q4Gz01:Q4Gz01:Q4Gx01:Q4Gz01:Q4Gz01:Q4Gz01:Q4Gz01:Q4Gz01:Q4Gz01:Q4Gz01:Q4Gz01:Q4Gx01:Q4Gz01:Q4Gz01:Q4Gz01:Q4Gz01:Q4Gz01:Q4Gz01:Q4Gz01:Q4Gz12:Q4Gz12:Q4Gz12:Q4Gz12:Q4Gz12:Q4Gx12:Q4Gz12:Q4Gz12:Q4Gz12:Q4Gz12:Q4Gz12:Q4Gz12:Q4Gz12:Q4Gz12:Q4Gx12:Q4Gz12:Q4Gz12:Q4Gz12:Q4Gz12:Q4Gz12:Q4Gz12:Q4Gz12:Q4Gz12:Q4Gx12:Q4Gz12:Q4Gz12:Q4Gz12:Q4Gz12:Q4Gz12:Q4Gz12:Q4Gz12:Q4Gz01:Q4Gz01:Q4Gz01:Q4Gz01:Q4Gx01:Q4Gx01:Q4Gz12:Q4Gz12:Q4Gz12:Q4Gz12:Q4@(Q4)  :  {('0',): 870.0, ('1',): 13.0, ('2',): 18.0}\n",
      "Gx01:Q4Gx01:Q4Gz12:Q4Gx12:Q4Gz12:Q4Gz12:Q4Gz12:Q4Gz12:Q4Gz12:Q4Gz12:Q4Gz12:Q4Gz01:Q4Gx01:Q4Gz01:Q4Gz01:Q4Gz01:Q4Gz01:Q4Gz01:Q4Gz01:Q4Gz01:Q4Gz01:Q4Gz01:Q4Gz01:Q4Gz12:Q4Gx01:Q4Gx01:Q4Gx01:Q4Gx01:Q4Gx01:Q4Gx01:Q4Gx01:Q4Gx01:Q4Gx01:Q4Gx01:Q4Gx01:Q4Gx01:Q4Gx01:Q4Gx01:Q4Gx01:Q4Gx01:Q4Gz01:Q4Gz01:Q4Gz01:Q4Gz01:Q4Gz01:Q4Gz12:Q4Gz12:Q4Gz12:Q4Gz12:Q4Gz12:Q4Gz01:Q4Gx01:Q4Gz01:Q4Gz01:Q4Gz01:Q4Gz01:Q4Gz01:Q4Gz01:Q4Gz01:Q4Gz01:Q4Gx01:Q4Gz01:Q4Gz01:Q4Gz01:Q4Gz01:Q4Gz01:Q4Gz01:Q4Gz01:Q4Gz01:Q4Gx01:Q4Gz01:Q4Gz01:Q4Gz01:Q4Gz01:Q4Gz01:Q4Gz01:Q4Gz01:Q4Gz12:Q4Gz12:Q4Gz12:Q4Gz12:Q4Gz12:Q4Gx12:Q4Gz12:Q4Gz12:Q4Gz12:Q4Gz12:Q4Gz12:Q4Gz12:Q4Gz12:Q4Gz12:Q4Gx12:Q4Gz12:Q4Gz12:Q4Gz12:Q4Gz12:Q4Gz12:Q4Gz12:Q4Gz12:Q4Gz12:Q4Gx12:Q4Gz12:Q4Gz12:Q4Gz12:Q4Gz12:Q4Gz12:Q4Gz12:Q4Gz12:Q4Gz01:Q4Gz01:Q4Gz01:Q4Gz01:Q4Gx01:Q4Gx01:Q4Gz12:Q4Gz12:Q4Gz12:Q4Gz12:Q4@(Q4)  :  {('0',): 857.0, ('1',): 22.0, ('2',): 22.0}\n",
      "\n",
      "\n"
     ]
    }
   ],
   "source": [
    "print(ds_experimental)"
   ]
  },
  {
   "cell_type": "code",
   "execution_count": 188,
   "metadata": {},
   "outputs": [],
   "source": [
    "cos_circs_X01 = edesign['X01']['cos']  \n",
    "sin_circs_X01 = edesign['X01']['sin']\n",
    "cos_outcome0s = ['0',]\n",
    "cos_outcome1s = ['1',]\n",
    "sin_outcome0s = ['0',]\n",
    "sin_outcome1s = ['1',]"
   ]
  },
  {
   "cell_type": "code",
   "execution_count": 189,
   "metadata": {},
   "outputs": [
    {
     "data": {
      "text/plain": [
       "(array([4.73460755, 4.70595659, 4.72193478, 4.7111207 , 4.70790238]), 4)"
      ]
     },
     "execution_count": 189,
     "metadata": {},
     "output_type": "execute_result"
    }
   ],
   "source": [
    "estimate_phase_from_dataset(ds_experimental, cos_circs_X01, cos_outcome0s, cos_outcome1s, sin_circs_X01, sin_outcome0s, sin_outcome1s, [1, 2, 4, 8, 16])"
   ]
  },
  {
   "cell_type": "code",
   "execution_count": 190,
   "metadata": {},
   "outputs": [
    {
     "data": {
      "text/plain": [
       "(array([4.73460755, 4.70595659, 4.72193478, 4.7111207 , 4.70790238]), 4)"
      ]
     },
     "execution_count": 190,
     "metadata": {},
     "output_type": "execute_result"
    }
   ],
   "source": [
    "estimate_phase_from_dataset(ds_experimental, cos_circs_X01, cos_outcome0s, cos_outcome1s, sin_circs_X01, sin_outcome0s, sin_outcome1s, [1, 2, 4, 8, 16])"
   ]
  },
  {
   "cell_type": "code",
   "execution_count": 191,
   "metadata": {},
   "outputs": [],
   "source": [
    "cos_circs_X12 = edesign['X12']['cos']\n",
    "sin_circs_X12 = edesign['X12']['sin']\n",
    "cos_outcome0s = ['1',]\n",
    "cos_outcome1s = ['2',]\n",
    "sin_outcome0s = ['1',]\n",
    "sin_outcome1s = ['2',]"
   ]
  },
  {
   "cell_type": "code",
   "execution_count": 192,
   "metadata": {},
   "outputs": [
    {
     "data": {
      "text/plain": [
       "(array([4.77779638, 4.72932595, 4.75269856, 4.74055286, 4.73636375]), 4)"
      ]
     },
     "execution_count": 192,
     "metadata": {},
     "output_type": "execute_result"
    }
   ],
   "source": [
    "estimate_phase_from_dataset(ds_experimental, cos_circs_X12, cos_outcome0s, cos_outcome1s, sin_circs_X12, sin_outcome0s, sin_outcome1s, [1, 2, 4, 8, 16])\n"
   ]
  },
  {
   "cell_type": "code",
   "execution_count": 193,
   "metadata": {},
   "outputs": [
    {
     "data": {
      "text/plain": [
       "<pygsti.data.dataset._DataSetRow at 0x293512450>"
      ]
     },
     "execution_count": 193,
     "metadata": {},
     "output_type": "execute_result"
    }
   ],
   "source": [
    "ds_experimental[circ_list[-1]]"
   ]
  },
  {
   "cell_type": "code",
   "execution_count": 196,
   "metadata": {},
   "outputs": [],
   "source": [
    "cos_circs_phase = edesign['phase']['cos']\n",
    "sin_circs_phase = edesign['phase']['sin']\n",
    "cos_outcome0s = ['0',]\n",
    "cos_outcome1s = ['2',]\n",
    "sin_outcome0s = ['0',]\n",
    "sin_outcome1s = ['2',]\n"
   ]
  },
  {
   "cell_type": "code",
   "execution_count": 197,
   "metadata": {},
   "outputs": [
    {
     "data": {
      "text/plain": [
       "(array([2.31679695, 3.68972141, 2.94715463, 2.65089834, 2.50222933]), 1)"
      ]
     },
     "execution_count": 197,
     "metadata": {},
     "output_type": "execute_result"
    }
   ],
   "source": [
    "estimate_phase_from_dataset(ds_experimental, cos_circs_phase, cos_outcome0s, cos_outcome1s, sin_circs_phase, sin_outcome0s, sin_outcome1s, [1, 2, 4, 8, 16])"
   ]
  },
  {
   "cell_type": "code",
   "execution_count": 145,
   "metadata": {},
   "outputs": [
    {
     "data": {
      "text/plain": [
       "<generator object DataSet.keys at 0x293c7c340>"
      ]
     },
     "execution_count": 145,
     "metadata": {},
     "output_type": "execute_result"
    }
   ],
   "source": [
    "ds_experimental.keys()"
   ]
  },
  {
   "cell_type": "code",
   "execution_count": null,
   "metadata": {},
   "outputs": [],
   "source": []
  }
 ],
 "metadata": {
  "kernelspec": {
   "display_name": "qubic",
   "language": "python",
   "name": "python3"
  },
  "language_info": {
   "codemirror_mode": {
    "name": "ipython",
    "version": 3
   },
   "file_extension": ".py",
   "mimetype": "text/x-python",
   "name": "python",
   "nbconvert_exporter": "python",
   "pygments_lexer": "ipython3",
   "version": "3.12.3"
  }
 },
 "nbformat": 4,
 "nbformat_minor": 2
}
