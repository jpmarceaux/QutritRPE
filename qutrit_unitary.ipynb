{
 "cells": [
  {
   "cell_type": "code",
   "execution_count": 1017,
   "metadata": {},
   "outputs": [],
   "source": [
    "import numpy as np\n",
    "from quapack.pyRPE.classical import RobustPhaseEstimation\n",
    "from quapack.pyRPE.quantum import Q as QExperiment\n",
    "from scipy.linalg import expm"
   ]
  },
  {
   "cell_type": "markdown",
   "metadata": {},
   "source": [
    "# definitions"
   ]
  },
  {
   "cell_type": "code",
   "execution_count": 1018,
   "metadata": {},
   "outputs": [
    {
     "data": {
      "text/plain": [
       "9"
      ]
     },
     "execution_count": 1018,
     "metadata": {},
     "output_type": "execute_result"
    }
   ],
   "source": [
    "gellmann_matrices = [\n",
    "    np.array([[1, 0, 0], [0, 1, 0], [0, 0, 1]]),\n",
    "    np.array([[0, 1, 0], [1, 0, 0], [0, 0, 0]]),\n",
    "    np.array([[0, -1j, 0], [1j, 0, 0], [0, 0, 0]]),\n",
    "    np.array([[1, 0, 0], [0, -1, 0], [0, 0, 0]]),\n",
    "    np.array([[0, 0, 1], [0, 0, 0], [1, 0, 0]]),\n",
    "    np.array([[0, 0, -1j], [0, 0, 0], [1j, 0, 0]]),\n",
    "    np.array([[0, 0, 0], [0, 0, 1], [0, 1, 0]]),\n",
    "    np.array([[0, 0, 0], [0, 0, -1j], [0, 1j, 0]]),\n",
    "    np.array([[1, 0, 0], [0, 1, 0], [0, 0, -2]])\n",
    "]\n",
    "len(gellmann_matrices)"
   ]
  },
  {
   "cell_type": "code",
   "execution_count": 1019,
   "metadata": {},
   "outputs": [],
   "source": [
    "single_qutrit_states = {\n",
    "    '0' : np.array([1, 0, 0]), \n",
    "    '1' : np.array([0, 1, 0]),\n",
    "    '2' : np.array([0, 0, 1]),\n",
    "    '+01' : np.array([1, 1, 0])/np.sqrt(2),\n",
    "    '+02' : np.array([1, 0, 1])/np.sqrt(2),\n",
    "    '+12' : np.array([0, 1, 1])/np.sqrt(2),\n",
    "    'R01' : np.array([1, 1j, 0])/np.sqrt(2),\n",
    "    'R02' : np.array([1, 0, 1j])/np.sqrt(2),\n",
    "    'R12' : np.array([0, 1j, 1])/np.sqrt(2),\n",
    "    'nu' : np.array([0.5, 0.5, 1/np.sqrt(2)]),\n",
    "    'eta' : np.array([0.5, 0.5, -1j/np.sqrt(2)]),\n",
    "}\n"
   ]
  },
  {
   "cell_type": "markdown",
   "metadata": {},
   "source": [
    "# single qutrit RPE\n",
    "\n",
    "Consider a model \n",
    "$$\n",
    "    U = \\exp\\left( -\\frac{i}{2} \\left( \\theta \\lambda_1 + \\epsilon \\lambda_3 + \\gamma \\lambda_8 \\right)\\right)\n",
    "$$\n",
    "\n",
    "We will measure \n",
    "$$\n",
    "    |\\langle 0| U^d |0\\rangle \n",
    "$$\n",
    "\n",
    "$$\n",
    "    |\\langle +_y(0,1)| U^d |0\\rangle \n",
    "$$\n",
    "\n",
    "$$\n",
    "    |\\langle \\nu| U^d |\\nu\\rangle \n",
    "$$\n",
    "\n",
    "$$\n",
    "    |\\langle \\eta| U^d |\\nu\\rangle \n",
    "$$\n",
    "\n",
    "$$\n",
    "    |\\langle 0| (Z U^2 Z^2 U^2 Z)^d |0\\rangle \n",
    "$$\n",
    "\n",
    "$$\n",
    "    |\\langle +_y(0,1)| (Z U^2 Z^2 U^2 Z)^d |0\\rangle.\n",
    "$$\n",
    "\n"
   ]
  },
  {
   "cell_type": "code",
   "execution_count": 1020,
   "metadata": {},
   "outputs": [],
   "source": [
    "def modelX(theta, epsilon, gamma):\n",
    "    return expm(-(1j/2)*(theta*(np.cos(epsilon)*gellmann_matrices[1] + np.sin(epsilon)*gellmann_matrices[3]) + gamma*gellmann_matrices[8]))\n",
    "\n",
    "def modelZ():\n",
    "    return expm(-(1j*np.pi/4)*gellmann_matrices[3])\n",
    "\n",
    "def prob(x, circ_def):\n",
    "    theta, epsilon, gamma = x\n",
    "    gate, depth, prep, meas = circ_def\n",
    "    if gate == 'X': \n",
    "        U = modelX(theta, epsilon, gamma)\n",
    "    elif gate == 'ZXXZZXXZ':\n",
    "        Uz = modelZ()\n",
    "        Ux = modelX(theta, epsilon, gamma)\n",
    "        U = Uz @ Ux @ Ux @ Uz @ Uz @ Ux @ Ux @ Uz\n",
    "    else:\n",
    "        raise NotImplementedError(f'Gate {gate} not implemented')\n",
    "    prep_vec = single_qutrit_states[prep]\n",
    "    meas_vec = single_qutrit_states[meas]\n",
    "    return np.abs(np.dot(meas_vec, np.linalg.matrix_power(U, depth) @ prep_vec))**2"
   ]
  },
  {
   "cell_type": "code",
   "execution_count": null,
   "metadata": {},
   "outputs": [],
   "source": []
  },
  {
   "cell_type": "code",
   "execution_count": 1021,
   "metadata": {},
   "outputs": [],
   "source": [
    "def sample_at_depths(x, num_counts, gate, depths, prep, meas):\n",
    "    prob_vec = np.array([prob(x, (gate, d, prep, meas)) for d in depths])\n",
    "    prob_vec = np.clip(prob_vec, 0, 1)\n",
    "    zero_counts = np.random.binomial(num_counts, prob_vec)\n",
    "    one_counts = num_counts - zero_counts\n",
    "    return {'0': zero_counts, '1': one_counts}\n",
    "\n",
    "def make_dataset(x, depths, num_counts):\n",
    "    ds = {\n",
    "        'direct': {\n",
    "            'cos': sample_at_depths(x, num_counts, 'X', depths, '0', '0'),\n",
    "            'sin': sample_at_depths(x, num_counts, 'X', depths, 'R01', '0')\n",
    "        },\n",
    "        'coupling': {\n",
    "            'cos': sample_at_depths(x, num_counts, 'X', depths, 'nu', 'nu'),\n",
    "            'sin': sample_at_depths(x, num_counts, 'X', depths, 'eta', 'nu')\n",
    "        },\n",
    "        'composite': {\n",
    "            'cos': sample_at_depths(x, num_counts, 'ZXXZZXXZ',  depths, '0', '0'),\n",
    "            'sin': sample_at_depths(x, num_counts, 'ZXXZZXXZ', depths, 'R01', '0')\n",
    "        }\n",
    "    }\n",
    "    return ds\n",
    "\n",
    "def analyze_dataset_row(ds, depths):\n",
    "    experiment = QExperiment()\n",
    "    for idx, d in enumerate(depths):\n",
    "        experiment.process_cos(d, (int(ds['cos']['0'][idx]), int(ds['cos']['1'][idx])))\n",
    "        experiment.process_sin(d, (int(ds['sin']['0'][idx]), int(ds['sin']['1'][idx])))\n",
    "    analysis = RobustPhaseEstimation(experiment)\n",
    "    last_good_generation = analysis.check_unif_local(historical=True)\n",
    "    estimates = analysis.angle_estimates\n",
    "    return estimates, last_good_generation\n",
    "\n"
   ]
  },
  {
   "cell_type": "code",
   "execution_count": 1072,
   "metadata": {},
   "outputs": [],
   "source": [
    "depths = [2**i for i in range(10)]\n",
    "x_true = [np.pi/2+0.1, 0.12, 1]\n",
    "ds = make_dataset(x_true, depths, 1000)"
   ]
  },
  {
   "cell_type": "code",
   "execution_count": 1073,
   "metadata": {},
   "outputs": [
    {
     "name": "stdout",
     "output_type": "stream",
     "text": [
      "1.670797262703305 1.6707963267948966\n"
     ]
    }
   ],
   "source": [
    "theta_estimates, lgg = analyze_dataset_row(ds['direct'], depths)\n",
    "theta_estimate = theta_estimates[lgg]\n",
    "print(theta_estimate, x[0])"
   ]
  },
  {
   "cell_type": "code",
   "execution_count": 1074,
   "metadata": {},
   "outputs": [],
   "source": [
    "def rectify_angle(angle):\n",
    "    \"\"\"Rectify an angle to the interval [0, 2*pi)\"\"\"\n",
    "    return angle % (2*np.pi)"
   ]
  },
  {
   "cell_type": "code",
   "execution_count": 1075,
   "metadata": {},
   "outputs": [
    {
     "name": "stdout",
     "output_type": "stream",
     "text": [
      "1.0000114809573202 1\n"
     ]
    }
   ],
   "source": [
    "estimates, last_good_gen = analyze_dataset_row(ds['coupling'], depths) \n",
    "phi = estimates[-1]\n",
    "\n",
    "gamma_estimate = (2*phi - theta_estimate)/3\n",
    "print(gamma_estimate, x[2])"
   ]
  },
  {
   "cell_type": "code",
   "execution_count": 1084,
   "metadata": {},
   "outputs": [],
   "source": [
    "from scipy.optimize import root_scalar\n",
    "\n",
    "def equation(theta, epsilon, Phi):\n",
    "    # this is in the notation of III.9 of https://arxiv.org/pdf/1502.02677\n",
    "    return -2*np.sin(theta)*np.sin(epsilon)*np.sqrt(1 + np.sin(theta)**2 * np.sin(epsilon)**2) + np.sin(Phi/2)\n",
    "\n",
    "\n",
    "def find_theta(epsilon, Phi):\n",
    "    # Define a function that takes only theta as input (for root_scalar)\n",
    "    def equation_wrapper(theta):\n",
    "        return equation(theta, epsilon, Phi)\n",
    "\n",
    "    # Find the root within a suitable bracket\n",
    "    result = root_scalar(equation_wrapper, x0=0)\n",
    "\n",
    "    if result.converged:\n",
    "        return result.root\n",
    "    else:\n",
    "        raise ValueError(\"Root finding did not converge.\")"
   ]
  },
  {
   "cell_type": "code",
   "execution_count": 1091,
   "metadata": {},
   "outputs": [],
   "source": [
    "def estimate_axis_error(composite_estimate, theta_estimate):\n",
    "    return find_theta(theta_estimate, composite_estimate)"
   ]
  },
  {
   "cell_type": "code",
   "execution_count": 1092,
   "metadata": {},
   "outputs": [
    {
     "name": "stdout",
     "output_type": "stream",
     "text": [
      "0.11832938061474738 0.12\n"
     ]
    }
   ],
   "source": [
    "estimates, last_good_gen = analyze_dataset_row(ds['composite'], depths)\n",
    "estimate_phase = estimates[-1]\n",
    "\n",
    "epsilon_estimate = estimate_axis_error(estimate_phase, theta_estimate)\n",
    "print(epsilon_estimate, x_true[1])"
   ]
  },
  {
   "cell_type": "code",
   "execution_count": 1094,
   "metadata": {},
   "outputs": [],
   "source": [
    "def estimate_x_1qt(ds, depths):\n",
    "    theta_estimates, lgg = analyze_dataset_row(ds['direct'], depths)\n",
    "    theta_estimate = theta_estimates[lgg]\n",
    "    estimates, last_good_gen = analyze_dataset_row(ds['coupling'], depths) \n",
    "    phi = estimates[-1]\n",
    "    gamma_estimate = (2*phi - theta_estimate)/3\n",
    "    estimates, last_good_gen = analyze_dataset_row(ds['composite'], depths)\n",
    "    estimate_phase = estimates[-1]\n",
    "    epsilon_estimate = estimate_axis_error(estimate_phase, theta_estimate)\n",
    "    return theta_estimate, epsilon_estimate, gamma_estimate"
   ]
  },
  {
   "cell_type": "code",
   "execution_count": 1103,
   "metadata": {},
   "outputs": [],
   "source": [
    "# now do it 100 times and record error\n",
    "num_trials = 100\n",
    "num_shots = 1000\n",
    "estimates = np.zeros((num_trials, 3))\n",
    "trues = np.zeros((num_trials, 3))\n",
    "for i in range(num_trials):\n",
    "    x_true = np.array([np.pi/2, 0, 0]) + 0.1*np.random.randn(3)\n",
    "    ds = make_dataset(x_true, depths, num_shots)\n",
    "    estimates[i, :] = estimate_x_1qt(ds, depths)\n",
    "    trues[i, :] = x_true\n",
    "estimates = np.array(estimates)\n",
    "trues = np.array(trues)"
   ]
  },
  {
   "cell_type": "code",
   "execution_count": 1104,
   "metadata": {},
   "outputs": [
    {
     "name": "stdout",
     "output_type": "stream",
     "text": [
      "[4.28152274e-05 7.81670628e-02 3.27891146e-05]\n"
     ]
    }
   ],
   "source": [
    "# mean error in each parameter\n",
    "mean_error = np.mean(np.abs(estimates - trues), axis=0)\n",
    "print(mean_error)"
   ]
  },
  {
   "cell_type": "markdown",
   "metadata": {},
   "source": [
    "# controlled-Z qutrit RPE"
   ]
  },
  {
   "cell_type": "code",
   "execution_count": 1107,
   "metadata": {},
   "outputs": [],
   "source": [
    "def Ucz_diagonal(phis):\n",
    "    return np.diag([1]+[np.exp(-1j*phi) for phi in phis])"
   ]
  },
  {
   "cell_type": "code",
   "execution_count": 1108,
   "metadata": {},
   "outputs": [],
   "source": [
    "phis = np.random.randn(8)\n",
    "Ucz = Ucz_diagonal(phis)"
   ]
  },
  {
   "cell_type": "code",
   "execution_count": 1109,
   "metadata": {},
   "outputs": [],
   "source": [
    "state_dict = {\n",
    "    '0_+01' : np.kron(single_qutrit_states['0'], single_qutrit_states['+01']),\n",
    "    '0_+02' : np.kron(single_qutrit_states['0'], single_qutrit_states['+02']),\n",
    "    '1_+01' : np.kron(single_qutrit_states['1'], single_qutrit_states['+01']),\n",
    "    '1_+02' : np.kron(single_qutrit_states['1'], single_qutrit_states['+02']),\n",
    "    '1_+12' : np.kron(single_qutrit_states['1'], single_qutrit_states['+12']),\n",
    "    '2_+01' : np.kron(single_qutrit_states['2'], single_qutrit_states['+01']),\n",
    "    '2_+02' : np.kron(single_qutrit_states['2'], single_qutrit_states['+02']),\n",
    "    '2_+12' : np.kron(single_qutrit_states['2'], single_qutrit_states['+12']), \n",
    "    '0_R01' : np.kron(single_qutrit_states['0'], single_qutrit_states['R01']),\n",
    "    '0_R02' : np.kron(single_qutrit_states['0'], single_qutrit_states['R02']),\n",
    "    '1_R01' : np.kron(single_qutrit_states['1'], single_qutrit_states['R01']),\n",
    "    '1_R02' : np.kron(single_qutrit_states['1'], single_qutrit_states['R02']),\n",
    "    '1_R12' : np.kron(single_qutrit_states['1'], single_qutrit_states['R12']),\n",
    "    '2_R01' : np.kron(single_qutrit_states['2'], single_qutrit_states['R01']),\n",
    "    '2_R02' : np.kron(single_qutrit_states['2'], single_qutrit_states['R02']),\n",
    "    '2_R12' : np.kron(single_qutrit_states['2'], single_qutrit_states['R12']),\n",
    "    '+01_1' : np.kron(single_qutrit_states['+01'], single_qutrit_states['1']),\n",
    "    '+01_2' : np.kron(single_qutrit_states['+01'], single_qutrit_states['2']),\n",
    "    '+02_1' : np.kron(single_qutrit_states['+02'], single_qutrit_states['1']),\n",
    "    '+12_1' : np.kron(single_qutrit_states['+12'], single_qutrit_states['1']),\n",
    "\n",
    "    'R01_1' : np.kron(single_qutrit_states['R01'], single_qutrit_states['1']),\n",
    "    'R01_2' : np.kron(single_qutrit_states['R01'], single_qutrit_states['2']),\n",
    "    'R02_1' : np.kron(single_qutrit_states['R02'], single_qutrit_states['1']),\n",
    "    'R12_1' : np.kron(single_qutrit_states['R12'], single_qutrit_states['1']),\n",
    "}\n",
    "\n",
    "def prob_cz(x, d, prep, meas):\n",
    "    Ucz = Ucz_diagonal(x)\n",
    "    prep_vec = state_dict[prep]\n",
    "    meas_vec = state_dict[meas]\n",
    "    return np.abs(np.dot(meas_vec, np.linalg.matrix_power(Ucz, d) @ prep_vec))**2\n",
    "\n",
    "def sample_at_depths_cz(x, num_counts, depths, prep, meas):\n",
    "    prob_vec = np.array([prob_cz(x, d, prep, meas) for d in depths])\n",
    "    prob_vec = np.clip(prob_vec, 0, 1)\n",
    "    zero_counts = np.random.binomial(num_counts, prob_vec)\n",
    "    one_counts = num_counts - zero_counts\n",
    "    return {'0': zero_counts, '1': one_counts}\n",
    "\n",
    "def make_dataset_cz(x, depths):\n",
    "    return {\n",
    "        'ss0': {\n",
    "            '01' :{\n",
    "                'cos': sample_at_depths_cz(x, 1000, depths, '0_+01', '0_+01'),\n",
    "                'sin': sample_at_depths_cz(x, 1000, depths, '0_+01', '0_R01')\n",
    "            },\n",
    "            '02' :{\n",
    "                'cos': sample_at_depths_cz(x, 1000, depths, '0_+02', '0_+02'),\n",
    "                'sin': sample_at_depths_cz(x, 1000, depths, '0_+02', '0_R02')\n",
    "            }\n",
    "        },\n",
    "        'ss1': {\n",
    "            '01': {\n",
    "                'cos': sample_at_depths_cz(x, 1000, depths, '1_+01', '1_+01'),\n",
    "                'sin': sample_at_depths_cz(x, 1000, depths, '1_+01', '1_R01')\n",
    "            },\n",
    "            '02': {\n",
    "                'cos': sample_at_depths_cz(x, 1000, depths, '1_+02', '1_+02'),\n",
    "                'sin': sample_at_depths_cz(x, 1000, depths, '1_+02', '1_R02')\n",
    "            },\n",
    "        },\n",
    "        'ss2': {\n",
    "            '01': {\n",
    "                'cos': sample_at_depths_cz(x, 1000, depths, '2_+01', '2_+01'),\n",
    "                'sin': sample_at_depths_cz(x, 1000, depths, '2_+01', '2_R01')\n",
    "            },\n",
    "            '02': {\n",
    "                'cos': sample_at_depths_cz(x, 1000, depths, '2_+02', '2_+02'),\n",
    "                'sin': sample_at_depths_cz(x, 1000, depths, '2_+02', '2_R02')\n",
    "            },\n",
    "        }, \n",
    "        'ss+':{\n",
    "            '1': {\n",
    "                'cos': sample_at_depths_cz(x, 1000, depths, '+01_1', '+01_1'),\n",
    "                'sin': sample_at_depths_cz(x, 1000, depths, '+01_1', 'R01_1')\n",
    "            },\n",
    "            '2':{\n",
    "                'cos': sample_at_depths_cz(x, 1000, depths, '+02_1', '+02_1'),\n",
    "                'sin': sample_at_depths_cz(x, 1000, depths, '+02_1', 'R02_1')\n",
    "            }\n",
    "        }\n",
    "    }\n",
    "\n",
    "def process_ds_row(cos_counts, sin_counts, depths):\n",
    "    experiment = QExperiment()\n",
    "    for idx, d in enumerate(depths):\n",
    "        experiment.process_cos(d, (int(cos_counts['0'][idx]), int(cos_counts['1'][idx])))\n",
    "        experiment.process_sin(d, (int(sin_counts['0'][idx]), int(sin_counts['1'][idx])))\n",
    "    analysis = RobustPhaseEstimation(experiment)\n",
    "    last_good_generation = analysis.check_unif_local(historical=True)\n",
    "    estimates = analysis.angle_estimates\n",
    "    return estimates, last_good_generation\n",
    "\n",
    "def process_dataset_cz(ds, depths):\n",
    "    return {\n",
    "        'ss0': {\n",
    "            '01': process_ds_row(ds['ss0']['01']['cos'], ds['ss0']['01']['sin'], depths),\n",
    "            '02': process_ds_row(ds['ss0']['02']['cos'], ds['ss0']['02']['sin'], depths)\n",
    "        },\n",
    "        'ss1': {\n",
    "            '01': process_ds_row(ds['ss1']['01']['cos'], ds['ss1']['01']['sin'], depths),\n",
    "            '02': process_ds_row(ds['ss1']['02']['cos'], ds['ss1']['02']['sin'], depths),\n",
    "        },\n",
    "        'ss2': {\n",
    "            '01': process_ds_row(ds['ss2']['01']['cos'], ds['ss2']['01']['sin'], depths),\n",
    "            '02': process_ds_row(ds['ss2']['02']['cos'], ds['ss2']['02']['sin'], depths),\n",
    "        }, \n",
    "        'ss+':{\n",
    "            '1': process_ds_row(ds['ss+']['1']['cos'], ds['ss+']['1']['sin'], depths),\n",
    "            '2': process_ds_row(ds['ss+']['2']['cos'], ds['ss+']['2']['sin'], depths)\n",
    "        }\n",
    "    }\n",
    "\n",
    "def recitify_angle(angle):\n",
    "    \"\"\"Rectify an angle to the interval [-pi, pi)\"\"\"\n",
    "    return angle % (2*np.pi) - np.pi\n",
    "\n",
    "def format_estimates_as_phases(estimates):\n",
    "    phases = {}\n",
    "    for ss in estimates.keys():\n",
    "        phases[ss] = {}\n",
    "        for key in estimates[ss].keys():\n",
    "            lgg = estimates[ss][key][1]\n",
    "            phases[ss][key] = recitify_angle(estimates[ss][key][0][lgg])\n",
    "    return phases\n",
    "\n"
   ]
  },
  {
   "cell_type": "code",
   "execution_count": 1110,
   "metadata": {},
   "outputs": [],
   "source": [
    "ds = make_dataset_cz(phis, depths)\n",
    "estimates_raw = process_dataset_cz(ds, depths)\n",
    "estimated_phases = format_estimates_as_phases(estimates_raw)\n",
    "estimated_phases_vec = np.array([estimated_phases['ss0']['01'], estimated_phases['ss0']['02'], estimated_phases['ss1']['01'], estimated_phases['ss1']['02'], estimated_phases['ss2']['01'], estimated_phases['ss2']['02'], estimated_phases['ss+']['1'], estimated_phases['ss+']['2']])\n"
   ]
  },
  {
   "cell_type": "code",
   "execution_count": 1111,
   "metadata": {},
   "outputs": [
    {
     "data": {
      "text/plain": [
       "{'ss0': {'01': 2.245970455304046, '02': -2.013965565507994},\n",
       " 'ss1': {'01': 2.9626703043075615, '02': -2.4785699997818873},\n",
       " 'ss2': {'01': -0.08665263766407305, '02': -3.064823332046913},\n",
       " 'ss+': {'1': -2.710443632255624, '2': 2.184704183828929}}"
      ]
     },
     "execution_count": 1111,
     "metadata": {},
     "output_type": "execute_result"
    }
   ],
   "source": [
    "estimated_phases"
   ]
  },
  {
   "cell_type": "code",
   "execution_count": 1112,
   "metadata": {},
   "outputs": [
    {
     "name": "stdout",
     "output_type": "stream",
     "text": [
      "[ 2.24597046 -2.01396557  2.9626703  -2.47857    -0.08665264 -3.06482333\n",
      " -2.71044363  2.18470418]\n",
      "[-0.8956222   1.12762709 -0.17892235  0.66302265  3.05494002  0.07676932\n",
      "  0.43114902 -0.95688847]\n"
     ]
    }
   ],
   "source": [
    "estimated_phases_vec\n",
    "estimated_phases_vec_rectified = np.array([recitify_angle(phi) for phi in estimated_phases_vec])\n",
    "print(estimated_phases_vec)\n",
    "print(estimated_phases_vec_rectified)"
   ]
  },
  {
   "cell_type": "code",
   "execution_count": 1113,
   "metadata": {},
   "outputs": [
    {
     "data": {
      "text/plain": [
       "array([ 2.24594305, -2.01394864,  2.85604058,  2.67717577, -2.76425871,\n",
       "       -1.76591641,  1.28898374, -1.6890934 ])"
      ]
     },
     "execution_count": 1113,
     "metadata": {},
     "output_type": "execute_result"
    }
   ],
   "source": [
    "phis_rectified = np.array([recitify_angle(phi) for phi in phis])\n",
    "phis_rectified"
   ]
  },
  {
   "cell_type": "code",
   "execution_count": 1114,
   "metadata": {},
   "outputs": [
    {
     "data": {
      "text/plain": [
       "array([0.        , 0.70710678, 0.        , 0.        , 0.        ,\n",
       "       0.        , 0.        , 0.70710678, 0.        ])"
      ]
     },
     "execution_count": 1114,
     "metadata": {},
     "output_type": "execute_result"
    }
   ],
   "source": [
    "state_dict['+02_1']"
   ]
  },
  {
   "cell_type": "code",
   "execution_count": 1115,
   "metadata": {},
   "outputs": [],
   "source": [
    "phis_to_estimate = np.array([\n",
    "    [1, 0, 0, 0, 0, 0, 0, 0],\n",
    "    [0, 1, 0, 0, 0, 0, 0, 0],\n",
    "    [0, 0, -1, 1, 0, 0, 0, 0],\n",
    "    [0, 0, -1, 0, 1, 0, 0, 0],\n",
    "    [0, 0, 0, 0, 0, -1, 1, 0],\n",
    "    [0, 0, 0, 0, 0, -1, 0, 1],\n",
    "    [-1, 0, 0, 1, 0, 0, 0, 0],\n",
    "    [-1, 0, 0, 0, 0, 0, 1, 0]\n",
    "])\n"
   ]
  },
  {
   "cell_type": "code",
   "execution_count": 1116,
   "metadata": {},
   "outputs": [
    {
     "data": {
      "text/plain": [
       "array([0.        , 0.70710678, 0.        , 0.        , 0.        ,\n",
       "       0.        , 0.        , 0.70710678, 0.        ])"
      ]
     },
     "execution_count": 1116,
     "metadata": {},
     "output_type": "execute_result"
    }
   ],
   "source": [
    "state_dict['+02_1']"
   ]
  },
  {
   "cell_type": "code",
   "execution_count": 1117,
   "metadata": {},
   "outputs": [
    {
     "data": {
      "text/plain": [
       "array([-0.8956496 ,  1.12764401, -0.28555207, -0.46441689,  0.37733395,\n",
       "        1.37567625, -1.85260891,  1.45249925])"
      ]
     },
     "execution_count": 1117,
     "metadata": {},
     "output_type": "execute_result"
    }
   ],
   "source": [
    "phis"
   ]
  },
  {
   "cell_type": "code",
   "execution_count": 1118,
   "metadata": {},
   "outputs": [
    {
     "data": {
      "text/plain": [
       "array([-0.8956496 ,  1.12764401, -0.17886481,  0.66288602, -3.22828515,\n",
       "        0.07682301,  0.43123271, -0.95695931])"
      ]
     },
     "execution_count": 1118,
     "metadata": {},
     "output_type": "execute_result"
    }
   ],
   "source": [
    "raw_estimate = phis_to_estimate @ phis\n",
    "raw_estimate"
   ]
  },
  {
   "cell_type": "code",
   "execution_count": 1119,
   "metadata": {},
   "outputs": [
    {
     "data": {
      "text/plain": [
       "array([-0.8956222 ,  1.12762709, -0.17892235,  0.66302265,  3.05494002,\n",
       "        0.07676932,  0.43114902, -0.95688847])"
      ]
     },
     "execution_count": 1119,
     "metadata": {},
     "output_type": "execute_result"
    }
   ],
   "source": [
    "estimated_phases_vec_rectified"
   ]
  },
  {
   "cell_type": "code",
   "execution_count": 1146,
   "metadata": {},
   "outputs": [
    {
     "data": {
      "text/plain": [
       "3.055185307179586"
      ]
     },
     "execution_count": 1146,
     "metadata": {},
     "output_type": "execute_result"
    }
   ],
   "source": [
    "-3.228+np.pi*2"
   ]
  },
  {
   "cell_type": "code",
   "execution_count": 1120,
   "metadata": {},
   "outputs": [],
   "source": [
    "estimates_to_phi = np.linalg.pinv(phis_to_estimate)"
   ]
  },
  {
   "cell_type": "code",
   "execution_count": 1121,
   "metadata": {},
   "outputs": [],
   "source": [
    "# run it 100 times to verify \n",
    "num_trials = 100\n",
    "estimates = np.zeros((num_trials, 8))\n",
    "trues = np.zeros((num_trials, 8))\n",
    "for i in range(num_trials):\n",
    "    phis = np.random.randn(8)\n",
    "    Ucz = Ucz_diagonal(phis)\n",
    "    ds = make_dataset_cz(phis, depths)\n",
    "    estimates_raw = process_dataset_cz(ds, depths)\n",
    "    estimated_phases = format_estimates_as_phases(estimates_raw)\n",
    "    estimated_phases_vec = np.array([estimated_phases['ss0']['01'], estimated_phases['ss0']['02'], estimated_phases['ss1']['01'], estimated_phases['ss1']['02'], estimated_phases['ss2']['01'], estimated_phases['ss2']['02'], estimated_phases['ss+']['1'], estimated_phases['ss+']['2']])\n",
    "    estimates[i] = estimates_to_phi@estimated_phases_vec\n",
    "    trues[i] = phis"
   ]
  },
  {
   "cell_type": "code",
   "execution_count": 1137,
   "metadata": {},
   "outputs": [],
   "source": [
    "def rectify_angle(angles):\n",
    "    # Rectify angles to the interval [-pi, pi)\n",
    "    return (angles + np.pi) % (2*np.pi) \n",
    "\n",
    "def rectify_angles(angles):\n",
    "    return np.array([recitify_angle(angle) for angle in angles])"
   ]
  },
  {
   "cell_type": "code",
   "execution_count": 1138,
   "metadata": {},
   "outputs": [],
   "source": [
    "def cosine_similarity(x, y):\n",
    "    return np.cos(x - y)"
   ]
  },
  {
   "cell_type": "code",
   "execution_count": 1139,
   "metadata": {},
   "outputs": [],
   "source": [
    "cos_similarities = np.array([cosine_similarity(rectify_angles(estimates[i]), rectify_angles(trues[i])) for i in range(num_trials)])"
   ]
  },
  {
   "cell_type": "code",
   "execution_count": 1140,
   "metadata": {},
   "outputs": [
    {
     "data": {
      "text/plain": [
       "[<matplotlib.lines.Line2D at 0x2a92411c0>,\n",
       " <matplotlib.lines.Line2D at 0x2a9230470>,\n",
       " <matplotlib.lines.Line2D at 0x2a9242480>,\n",
       " <matplotlib.lines.Line2D at 0x2a9242600>,\n",
       " <matplotlib.lines.Line2D at 0x2a92426f0>,\n",
       " <matplotlib.lines.Line2D at 0x2a92427e0>,\n",
       " <matplotlib.lines.Line2D at 0x2a92428d0>,\n",
       " <matplotlib.lines.Line2D at 0x2a92429c0>]"
      ]
     },
     "execution_count": 1140,
     "metadata": {},
     "output_type": "execute_result"
    },
    {
     "data": {
      "image/png": "[encoded data removed]",
      "text/plain": [
       "<Figure size 640x480 with 1 Axes>"
      ]
     },
     "metadata": {},
     "output_type": "display_data"
    }
   ],
   "source": [
    "plt.plot(abs(cos_similarities))"
   ]
  },
  {
   "cell_type": "code",
   "execution_count": 1141,
   "metadata": {},
   "outputs": [],
   "source": [
    "errors = np.abs(rectify_angles(estimates) - rectify_angles(trues))"
   ]
  },
  {
   "cell_type": "code",
   "execution_count": 1142,
   "metadata": {},
   "outputs": [
    {
     "name": "stdout",
     "output_type": "stream",
     "text": [
      "[3.14158970e+00 3.14160285e+00 3.14158782e+00 5.58778093e-05\n",
      " 7.81343073e-05 3.14158163e+00 5.92359883e-05 7.82926956e-05]\n"
     ]
    }
   ],
   "source": [
    "mean_errors = np.mean(errors, axis=0)\n",
    "print(mean_errors)"
   ]
  },
  {
   "cell_type": "code",
   "execution_count": 1143,
   "metadata": {},
   "outputs": [
    {
     "data": {
      "image/png": "[encoded data removed]",
      "text/plain": [
       "<Figure size 2000x1000 with 8 Axes>"
      ]
     },
     "metadata": {},
     "output_type": "display_data"
    }
   ],
   "source": [
    "fig, axs = plt.subplots(2, 4, figsize=(20, 10))\n",
    "for i in range(8):\n",
    "    ax = axs[i//4, i%4]\n",
    "    ax.hist(errors[:, i], bins=20)\n",
    "    ax.set_title(f'Error in estimating phi_{i}')"
   ]
  },
  {
   "cell_type": "code",
   "execution_count": null,
   "metadata": {},
   "outputs": [],
   "source": []
  }
 ],
 "metadata": {
  "kernelspec": {
   "display_name": "qubic",
   "language": "python",
   "name": "python3"
  },
  "language_info": {
   "codemirror_mode": {
    "name": "ipython",
    "version": 3
   },
   "file_extension": ".py",
   "mimetype": "text/x-python",
   "name": "python",
   "nbconvert_exporter": "python",
   "pygments_lexer": "ipython3",
   "version": "3.12.3"
  }
 },
 "nbformat": 4,
 "nbformat_minor": 2
}
