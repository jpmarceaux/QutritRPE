{
 "cells": [
  {
   "cell_type": "code",
   "execution_count": 29,
   "metadata": {},
   "outputs": [],
   "source": [
    "import pygsti\n",
    "import numpy as np\n",
    "from scipy.linalg import expm"
   ]
  },
  {
   "cell_type": "code",
   "execution_count": 30,
   "metadata": {},
   "outputs": [],
   "source": [
    "# Gell-Mann matrices\n",
    "gellmann_matrices = [\n",
    "    np.array([[1, 0, 0], [0, 1, 0], [0, 0, 1]]),\n",
    "    np.array([[0, 1, 0], [1, 0, 0], [0, 0, 0]]),\n",
    "    np.array([[0, -1j, 0], [1j, 0, 0], [0, 0, 0]]),\n",
    "    np.array([[1, 0, 0], [0, -1, 0], [0, 0, 0]]),\n",
    "    np.array([[0, 0, 1], [0, 0, 0], [1, 0, 0]]),\n",
    "    np.array([[0, 0, -1j], [0, 0, 0], [1j, 0, 0]]),\n",
    "    np.array([[0, 0, 0], [0, 0, 1], [0, 1, 0]]),\n",
    "    np.array([[0, 0, 0], [0, 0, -1j], [0, 1j, 0]]),\n",
    "    np.array([[1, 0, 0], [0, 1, 0], [0, 0, -2]])\n",
    "]\n",
    "\n",
    "gellmann_8_12 = np.array([[-2, 0, 0], [0, 1, 0], [0, 0, 1]])"
   ]
  },
  {
   "cell_type": "code",
   "execution_count": 40,
   "metadata": {},
   "outputs": [],
   "source": [
    "# unitary models \n",
    "# we ignore axis error \n",
    "def modelX01(theta, gamma):\n",
    "    return expm(-(1j/2)*((np.pi/2 + theta)*gellmann_matrices[1] + gamma*gellmann_matrices[8]))\n",
    "\n",
    "def modelZ01():\n",
    "    return expm(-(1j*np.pi/4)*gellmann_matrices[3])\n",
    "\n",
    "Z12_gen = np.array([[0, 0, 0], [0, 1, 0], [0, 0, -1]])\n",
    "\n",
    "def modelZ12():\n",
    "    return expm(-(1j*np.pi/4)*Z12_gen)\n",
    "\n",
    "def modelX12(theta, gamma):\n",
    "    return expm(-(1j/2)*((np.pi/2 + theta)*gellmann_matrices[1]  + gamma*gellmann_matrices[8]))\n",
    "\n"
   ]
  },
  {
   "cell_type": "code",
   "execution_count": 51,
   "metadata": {},
   "outputs": [],
   "source": [
    "def parse_error_vector(x):\n",
    "    info = {\n",
    "        'single_qutrit': {\n",
    "            'Q1': {\n",
    "                'X01' : x[0],\n",
    "                'phase01': x[1],\n",
    "                'X12' : x[2], \n",
    "                'phase12': x[3],\n",
    "            },\n",
    "            'Q2': {\n",
    "                'X01' : x[4],\n",
    "                'phase01': x[5],\n",
    "                'X12' : x[6],\n",
    "                'phase12': x[7],\n",
    "            }\n",
    "        },\n",
    "        'two_qutrit': {\n",
    "            'phi1': x[8],\n",
    "            'phi2': x[9],\n",
    "            'phi3': x[10],\n",
    "            'phi4': x[11],\n",
    "            'phi5': x[12],\n",
    "            'phi6': x[13],\n",
    "            'phi7': x[14],\n",
    "            'phi8': x[15]\n",
    "        }  \n",
    "    }\n",
    "    return info\n",
    "\n",
    "def random_error_vector(single_qutrit_rates, two_qutrit_rates):\n",
    "    q1_vec = np.random.multivariate_normal(np.zeros(4), np.eye(4)*single_qutrit_rates)\n",
    "    q2_vec = np.random.multivariate_normal(np.zeros(4), np.eye(4)*single_qutrit_rates)\n",
    "    two_qubit_vec = np.random.multivariate_normal(np.zeros(8), np.eye(8)*two_qutrit_rates)\n",
    "    return np.concatenate((q1_vec, q2_vec, two_qubit_vec))\n"
   ]
  },
  {
   "cell_type": "code",
   "execution_count": 56,
   "metadata": {},
   "outputs": [],
   "source": [
    "from pygsti.tools import unitary_to_std_process_mx\n",
    "from pygsti.modelmembers.operations import EmbeddedOp, FullUnitaryOp"
   ]
  },
  {
   "cell_type": "code",
   "execution_count": 57,
   "metadata": {},
   "outputs": [
    {
     "name": "stdout",
     "output_type": "stream",
     "text": [
      "\u001b[0;31mInit signature:\u001b[0m\n",
      "\u001b[0mEmbeddedOp\u001b[0m\u001b[0;34m(\u001b[0m\u001b[0;34m\u001b[0m\n",
      "\u001b[0;34m\u001b[0m    \u001b[0mstate_space\u001b[0m\u001b[0;34m,\u001b[0m\u001b[0;34m\u001b[0m\n",
      "\u001b[0;34m\u001b[0m    \u001b[0mtarget_labels\u001b[0m\u001b[0;34m,\u001b[0m\u001b[0;34m\u001b[0m\n",
      "\u001b[0;34m\u001b[0m    \u001b[0moperation_to_embed\u001b[0m\u001b[0;34m,\u001b[0m\u001b[0;34m\u001b[0m\n",
      "\u001b[0;34m\u001b[0m    \u001b[0mallocated_to_parent\u001b[0m\u001b[0;34m=\u001b[0m\u001b[0;32mNone\u001b[0m\u001b[0;34m,\u001b[0m\u001b[0;34m\u001b[0m\n",
      "\u001b[0;34m\u001b[0m\u001b[0;34m)\u001b[0m\u001b[0;34m\u001b[0m\u001b[0;34m\u001b[0m\u001b[0m\n",
      "\u001b[0;31mDocstring:\u001b[0m     \n",
      "An operation containing a single lower (or equal) dimensional operation within it.\n",
      "\n",
      "An EmbeddedOp acts as the identity on all of its domain except the\n",
      "subspace of its contained operation, where it acts as the contained operation does.\n",
      "\n",
      "Parameters\n",
      "----------\n",
      "state_space : StateSpace\n",
      "    Specifies the density matrix space upon which this operation acts.\n",
      "\n",
      "target_labels : list of strs\n",
      "    The labels contained in `state_space` which demarcate the\n",
      "    portions of the state space acted on by `operation_to_embed` (the\n",
      "    \"contained\" operation).\n",
      "\n",
      "operation_to_embed : LinearOperator\n",
      "    The operation object that is to be contained within this operation, and\n",
      "    that specifies the only non-trivial action of the EmbeddedOp.\n",
      "\u001b[0;31mInit docstring:\u001b[0m Initialize a new LinearOperator \n",
      "\u001b[0;31mFile:\u001b[0m           /opt/anaconda3/envs/qubic/lib/python3.12/site-packages/pygsti/modelmembers/operations/embeddedop.py\n",
      "\u001b[0;31mType:\u001b[0m           type\n",
      "\u001b[0;31mSubclasses:\u001b[0m     EmbeddedErrorgen"
     ]
    }
   ],
   "source": [
    "EmbeddedOp?"
   ]
  },
  {
   "cell_type": "code",
   "execution_count": 58,
   "metadata": {},
   "outputs": [
    {
     "name": "stdout",
     "output_type": "stream",
     "text": [
      "\u001b[0;31mInit signature:\u001b[0m \u001b[0mFullUnitaryOp\u001b[0m\u001b[0;34m(\u001b[0m\u001b[0mm\u001b[0m\u001b[0;34m,\u001b[0m \u001b[0mbasis\u001b[0m\u001b[0;34m=\u001b[0m\u001b[0;34m'pp'\u001b[0m\u001b[0;34m,\u001b[0m \u001b[0mevotype\u001b[0m\u001b[0;34m=\u001b[0m\u001b[0;34m'default'\u001b[0m\u001b[0;34m,\u001b[0m \u001b[0mstate_space\u001b[0m\u001b[0;34m=\u001b[0m\u001b[0;32mNone\u001b[0m\u001b[0;34m)\u001b[0m\u001b[0;34m\u001b[0m\u001b[0;34m\u001b[0m\u001b[0m\n",
      "\u001b[0;31mDocstring:\u001b[0m     \n",
      "An operation matrix that is fully parameterized.\n",
      "\n",
      "That is, each element of the operation matrix is an independent parameter.\n",
      "\n",
      "Parameters\n",
      "----------\n",
      "m : array_like or LinearOperator\n",
      "    a square 2D array-like or LinearOperator object representing the operation action.\n",
      "    The shape of m sets the dimension of the operation.\n",
      "\n",
      "basis : Basis or {'pp','gm','std'}, optional\n",
      "    The basis used to construct the Hilbert-Schmidt space representation\n",
      "    of this state as a super-operator.\n",
      "\n",
      "evotype : Evotype or str, optional\n",
      "    The evolution type.  The special value `\"default\"` is equivalent\n",
      "    to specifying the value of `pygsti.evotypes.Evotype.default_evotype`.\n",
      "\n",
      "state_space : StateSpace, optional\n",
      "    The state space for this operation.  If `None` a default state space\n",
      "    with the appropriate number of qubits is used.\n",
      "\u001b[0;31mInit docstring:\u001b[0m Initialize a new LinearOperator \n",
      "\u001b[0;31mFile:\u001b[0m           /opt/anaconda3/envs/qubic/lib/python3.12/site-packages/pygsti/modelmembers/operations/fullunitaryop.py\n",
      "\u001b[0;31mType:\u001b[0m           type\n",
      "\u001b[0;31mSubclasses:\u001b[0m     "
     ]
    }
   ],
   "source": [
    "FullUnitaryOp?"
   ]
  },
  {
   "cell_type": "code",
   "execution_count": 65,
   "metadata": {},
   "outputs": [],
   "source": [
    "from pygsti.baseobjs import ExplicitStateSpace\n",
    "from pygsti.models import ExplicitOpModel\n",
    "\n",
    "def make_model(error_vector, single_qutrit_depol, two_qutrit_depol):\n",
    "\n",
    "    joint_state_space = ExplicitStateSpace([('Q1','Q2')], [(3,3)])\n",
    "    ss_q1 = ExplicitStateSpace('Q1', 3)\n",
    "    ss_q2 = ExplicitStateSpace('Q2', 3)\n",
    "\n",
    "    model = ExplicitOpModel(joint_state_space)\n",
    "\n",
    "    errors = parse_error_vector(error_vector)\n",
    "    x01_Q1 = errors['single_qutrit']['Q1']['X01']\n",
    "    x12_Q1 = errors['single_qutrit']['Q1']['X12']\n",
    "    x01_Q2 = errors['single_qutrit']['Q2']['X01']\n",
    "    x12_Q2 = errors['single_qutrit']['Q2']['X12']\n",
    "    \n",
    "    phase01_Q1 = errors['single_qutrit']['Q1']['phase01']\n",
    "    phase12_Q1 = errors['single_qutrit']['Q1']['phase12']\n",
    "    phase01_Q2 = errors['single_qutrit']['Q2']['phase01']\n",
    "    phase12_Q2 = errors['single_qutrit']['Q2']['phase12']\n",
    "\n",
    "    phi1 = errors['two_qutrit']['phi1']\n",
    "    phi2 = errors['two_qutrit']['phi2']\n",
    "    phi3 = errors['two_qutrit']['phi3']\n",
    "    phi4 = errors['two_qutrit']['phi4']\n",
    "    phi5 = errors['two_qutrit']['phi5']\n",
    "    phi6 = errors['two_qutrit']['phi6']\n",
    "    phi7 = errors['two_qutrit']['phi7']\n",
    "    phi8 = errors['two_qutrit']['phi8']\n",
    "\n",
    "\n",
    "    # Define single qutrit gates\n",
    "    X01_Q1_unitary = FullUnitaryOp(unitary_to_std_process_mx(modelX01(x01_Q1, phase01_Q1)), basis='std', state_space=ss_q1)\n",
    "    Z01_Q1_unitary = FullUnitaryOp(unitary_to_std_process_mx(modelZ01()), basis='std', state_space=ss_q1)\n",
    "    X12_Q1_unitary = FullUnitaryOp(unitary_to_std_process_mx(modelX12(x12_Q1, phase12_Q1)), basis='std', state_space=ss_q1)\n",
    "    Z12_Q1_unitary = FullUnitaryOp(unitary_to_std_process_mx(modelZ12()), basis='std', state_space=ss_q1)\n",
    "\n",
    "    X01_Q2_unitary = FullUnitaryOp(unitary_to_std_process_mx(modelX01(x01_Q2, phase01_Q2)), basis='std', state_space=ss_q2)\n",
    "    Z01_Q2_unitary = FullUnitaryOp(unitary_to_std_process_mx(modelZ01()), basis='std', state_space=ss_q2)\n",
    "    X12_Q2_unitary = FullUnitaryOp(unitary_to_std_process_mx(modelX12(x12_Q2, phase12_Q2)), basis='std', state_space=ss_q2)\n",
    "    Z12_Q2_unitary = FullUnitaryOp(unitary_to_std_process_mx(modelZ12()), basis='std', state_space=ss_q2)\n",
    "\n",
    "    model.operations['X01(Q1)'] = EmbeddedOp(joint_state_space, ('Q1',), X01_Q1_unitary).depolarize(single_qutrit_depol)\n",
    "    model.operations['Z01(Q1)'] = EmbeddedOp(joint_state_space, ('Q1',), Z01_Q1_unitary).depolarize(single_qutrit_depol)\n",
    "    model.operations['X12(Q1)'] = EmbeddedOp(joint_state_space, ('Q1',), X12_Q1_unitary).depolarize(single_qutrit_depol)\n",
    "    model.operations['Z12(Q1)'] = EmbeddedOp(joint_state_space, ('Q1',), Z12_Q1_unitary).depolarize(single_qutrit_depol)\n",
    "\n",
    "    model.operations['X01(Q2)'] = EmbeddedOp(joint_state_space, ('Q2',), X01_Q2_unitary).depolarize(single_qutrit_depol)\n",
    "    model.operations['Z01(Q2)'] = EmbeddedOp(joint_state_space, ('Q2',), Z01_Q2_unitary).depolarize(single_qutrit_depol)\n",
    "    model.operations['X12(Q2)'] = EmbeddedOp(joint_state_space, ('Q2',), X12_Q2_unitary).depolarize(single_qutrit_depol)\n",
    "    model.operations['Z12(Q2)'] = EmbeddedOp(joint_state_space, ('Q2',), Z12_Q2_unitary).depolarize(single_qutrit_depol)\n",
    "\n",
    "\n",
    "    return model"
   ]
  },
  {
   "cell_type": "code",
   "execution_count": 66,
   "metadata": {},
   "outputs": [
    {
     "ename": "AssertionError",
     "evalue": "dest-basis dimension mismatch: 9 != 81",
     "output_type": "error",
     "traceback": [
      "\u001b[0;31m---------------------------------------------------------------------------\u001b[0m",
      "\u001b[0;31mAssertionError\u001b[0m                            Traceback (most recent call last)",
      "File \u001b[0;32m/opt/anaconda3/envs/qubic/lib/python3.12/site-packages/pygsti/modelmembers/operations/denseop.py:542\u001b[0m, in \u001b[0;36mDenseUnitaryOperator.__init__\u001b[0;34m(self, mx, basis, evotype, state_space)\u001b[0m\n\u001b[1;32m    541\u001b[0m mx \u001b[38;5;241m=\u001b[39m mx\u001b[38;5;241m.\u001b[39mastype(\u001b[38;5;124m'\u001b[39m\u001b[38;5;124mcomplex\u001b[39m\u001b[38;5;124m'\u001b[39m, casting\u001b[38;5;241m=\u001b[39m\u001b[38;5;124m'\u001b[39m\u001b[38;5;124msafe\u001b[39m\u001b[38;5;124m'\u001b[39m, copy\u001b[38;5;241m=\u001b[39m\u001b[38;5;28;01mFalse\u001b[39;00m)  \u001b[38;5;66;03m# copy only when necessary\u001b[39;00m\n\u001b[0;32m--> 542\u001b[0m rep \u001b[38;5;241m=\u001b[39m \u001b[43mevotype\u001b[49m\u001b[38;5;241;43m.\u001b[39;49m\u001b[43mcreate_dense_unitary_rep\u001b[49m\u001b[43m(\u001b[49m\u001b[43mmx\u001b[49m\u001b[43m,\u001b[49m\u001b[43m \u001b[49m\u001b[43mbasis\u001b[49m\u001b[43m,\u001b[49m\u001b[43m \u001b[49m\u001b[43mstate_space\u001b[49m\u001b[43m)\u001b[49m\n\u001b[1;32m    543\u001b[0m \u001b[38;5;28mself\u001b[39m\u001b[38;5;241m.\u001b[39m_reptype \u001b[38;5;241m=\u001b[39m \u001b[38;5;124m'\u001b[39m\u001b[38;5;124munitary\u001b[39m\u001b[38;5;124m'\u001b[39m\n",
      "File \u001b[0;32m/opt/anaconda3/envs/qubic/lib/python3.12/site-packages/pygsti/evotypes/evotype.py:106\u001b[0m, in \u001b[0;36mEvotype.create_dense_unitary_rep\u001b[0;34m(self, mx, super_basis, state_space)\u001b[0m\n\u001b[1;32m    105\u001b[0m \u001b[38;5;28;01mdef\u001b[39;00m \u001b[38;5;21mcreate_dense_unitary_rep\u001b[39m(\u001b[38;5;28mself\u001b[39m, mx, super_basis, state_space):  \u001b[38;5;66;03m# process_mx=None,\u001b[39;00m\n\u001b[0;32m--> 106\u001b[0m     \u001b[38;5;28;01mreturn\u001b[39;00m \u001b[38;5;28;43mself\u001b[39;49m\u001b[38;5;241;43m.\u001b[39;49m\u001b[43mmodule\u001b[49m\u001b[38;5;241;43m.\u001b[39;49m\u001b[43mOpRepDenseUnitary\u001b[49m\u001b[43m(\u001b[49m\u001b[43mmx\u001b[49m\u001b[43m,\u001b[49m\u001b[43m \u001b[49m\u001b[43msuper_basis\u001b[49m\u001b[43m,\u001b[49m\u001b[43m \u001b[49m\u001b[43mstate_space\u001b[49m\u001b[43m)\u001b[49m\n",
      "File \u001b[0;32m/opt/anaconda3/envs/qubic/lib/python3.12/site-packages/pygsti/evotypes/densitymx/opreps.pyx:145\u001b[0m, in \u001b[0;36mpygsti.evotypes.densitymx.opreps.OpRepDenseUnitary.__init__\u001b[0;34m()\u001b[0m\n",
      "\u001b[0;31mAssertionError\u001b[0m: ",
      "\nDuring handling of the above exception, another exception occurred:\n",
      "\u001b[0;31mAssertionError\u001b[0m                            Traceback (most recent call last)",
      "Cell \u001b[0;32mIn[66], line 2\u001b[0m\n\u001b[1;32m      1\u001b[0m x \u001b[38;5;241m=\u001b[39m random_error_vector(\u001b[38;5;241m0.1\u001b[39m, \u001b[38;5;241m0.1\u001b[39m)\n\u001b[0;32m----> 2\u001b[0m model \u001b[38;5;241m=\u001b[39m \u001b[43mmake_model\u001b[49m\u001b[43m(\u001b[49m\u001b[43mx\u001b[49m\u001b[43m,\u001b[49m\u001b[43m \u001b[49m\u001b[38;5;241;43m0.1\u001b[39;49m\u001b[43m,\u001b[49m\u001b[43m \u001b[49m\u001b[38;5;241;43m0.1\u001b[39;49m\u001b[43m)\u001b[49m\n",
      "Cell \u001b[0;32mIn[65], line 34\u001b[0m, in \u001b[0;36mmake_model\u001b[0;34m(error_vector, single_qutrit_depol, two_qutrit_depol)\u001b[0m\n\u001b[1;32m     30\u001b[0m phi8 \u001b[38;5;241m=\u001b[39m errors[\u001b[38;5;124m'\u001b[39m\u001b[38;5;124mtwo_qutrit\u001b[39m\u001b[38;5;124m'\u001b[39m][\u001b[38;5;124m'\u001b[39m\u001b[38;5;124mphi8\u001b[39m\u001b[38;5;124m'\u001b[39m]\n\u001b[1;32m     33\u001b[0m \u001b[38;5;66;03m# Define single qutrit gates\u001b[39;00m\n\u001b[0;32m---> 34\u001b[0m X01_Q1_unitary \u001b[38;5;241m=\u001b[39m \u001b[43mFullUnitaryOp\u001b[49m\u001b[43m(\u001b[49m\u001b[43munitary_to_std_process_mx\u001b[49m\u001b[43m(\u001b[49m\u001b[43mmodelX01\u001b[49m\u001b[43m(\u001b[49m\u001b[43mx01_Q1\u001b[49m\u001b[43m,\u001b[49m\u001b[43m \u001b[49m\u001b[43mphase01_Q1\u001b[49m\u001b[43m)\u001b[49m\u001b[43m)\u001b[49m\u001b[43m,\u001b[49m\u001b[43m \u001b[49m\u001b[43mbasis\u001b[49m\u001b[38;5;241;43m=\u001b[39;49m\u001b[38;5;124;43m'\u001b[39;49m\u001b[38;5;124;43mstd\u001b[39;49m\u001b[38;5;124;43m'\u001b[39;49m\u001b[43m,\u001b[49m\u001b[43m \u001b[49m\u001b[43mstate_space\u001b[49m\u001b[38;5;241;43m=\u001b[39;49m\u001b[43mss_q1\u001b[49m\u001b[43m)\u001b[49m\n\u001b[1;32m     35\u001b[0m Z01_Q1_unitary \u001b[38;5;241m=\u001b[39m FullUnitaryOp(unitary_to_std_process_mx(modelZ01()), basis\u001b[38;5;241m=\u001b[39m\u001b[38;5;124m'\u001b[39m\u001b[38;5;124mstd\u001b[39m\u001b[38;5;124m'\u001b[39m, state_space\u001b[38;5;241m=\u001b[39mss_q1)\n\u001b[1;32m     36\u001b[0m X12_Q1_unitary \u001b[38;5;241m=\u001b[39m FullUnitaryOp(unitary_to_std_process_mx(modelX12(x12_Q1, phase12_Q1)), basis\u001b[38;5;241m=\u001b[39m\u001b[38;5;124m'\u001b[39m\u001b[38;5;124mstd\u001b[39m\u001b[38;5;124m'\u001b[39m, state_space\u001b[38;5;241m=\u001b[39mss_q1)\n",
      "File \u001b[0;32m/opt/anaconda3/envs/qubic/lib/python3.12/site-packages/pygsti/modelmembers/operations/fullunitaryop.py:48\u001b[0m, in \u001b[0;36mFullUnitaryOp.__init__\u001b[0;34m(self, m, basis, evotype, state_space)\u001b[0m\n\u001b[1;32m     47\u001b[0m \u001b[38;5;28;01mdef\u001b[39;00m \u001b[38;5;21m__init__\u001b[39m(\u001b[38;5;28mself\u001b[39m, m, basis\u001b[38;5;241m=\u001b[39m\u001b[38;5;124m'\u001b[39m\u001b[38;5;124mpp\u001b[39m\u001b[38;5;124m'\u001b[39m, evotype\u001b[38;5;241m=\u001b[39m\u001b[38;5;124m\"\u001b[39m\u001b[38;5;124mdefault\u001b[39m\u001b[38;5;124m\"\u001b[39m, state_space\u001b[38;5;241m=\u001b[39m\u001b[38;5;28;01mNone\u001b[39;00m):\n\u001b[0;32m---> 48\u001b[0m     \u001b[43m_DenseUnitaryOperator\u001b[49m\u001b[38;5;241;43m.\u001b[39;49m\u001b[38;5;21;43m__init__\u001b[39;49m\u001b[43m(\u001b[49m\u001b[38;5;28;43mself\u001b[39;49m\u001b[43m,\u001b[49m\u001b[43m \u001b[49m\u001b[43mm\u001b[49m\u001b[43m,\u001b[49m\u001b[43m \u001b[49m\u001b[43mbasis\u001b[49m\u001b[43m,\u001b[49m\u001b[43m \u001b[49m\u001b[43mevotype\u001b[49m\u001b[43m,\u001b[49m\u001b[43m \u001b[49m\u001b[43mstate_space\u001b[49m\u001b[43m)\u001b[49m\n\u001b[1;32m     49\u001b[0m     udim \u001b[38;5;241m=\u001b[39m \u001b[38;5;28mself\u001b[39m\u001b[38;5;241m.\u001b[39mstate_space\u001b[38;5;241m.\u001b[39mudim  \u001b[38;5;66;03m# or self._ptr.shape[0]\u001b[39;00m\n\u001b[1;32m     50\u001b[0m     \u001b[38;5;28mself\u001b[39m\u001b[38;5;241m.\u001b[39m_paramlbls \u001b[38;5;241m=\u001b[39m _np\u001b[38;5;241m.\u001b[39marray([\u001b[38;5;124m\"\u001b[39m\u001b[38;5;124mMxElement Re(\u001b[39m\u001b[38;5;132;01m%d\u001b[39;00m\u001b[38;5;124m,\u001b[39m\u001b[38;5;132;01m%d\u001b[39;00m\u001b[38;5;124m)\u001b[39m\u001b[38;5;124m\"\u001b[39m \u001b[38;5;241m%\u001b[39m (i, j) \u001b[38;5;28;01mfor\u001b[39;00m i \u001b[38;5;129;01min\u001b[39;00m \u001b[38;5;28mrange\u001b[39m(udim) \u001b[38;5;28;01mfor\u001b[39;00m j \u001b[38;5;129;01min\u001b[39;00m \u001b[38;5;28mrange\u001b[39m(udim)]\n\u001b[1;32m     51\u001b[0m                                 \u001b[38;5;241m+\u001b[39m [\u001b[38;5;124m\"\u001b[39m\u001b[38;5;124mMxElement Im(\u001b[39m\u001b[38;5;132;01m%d\u001b[39;00m\u001b[38;5;124m,\u001b[39m\u001b[38;5;132;01m%d\u001b[39;00m\u001b[38;5;124m)\u001b[39m\u001b[38;5;124m\"\u001b[39m \u001b[38;5;241m%\u001b[39m (i, j) \u001b[38;5;28;01mfor\u001b[39;00m i \u001b[38;5;129;01min\u001b[39;00m \u001b[38;5;28mrange\u001b[39m(udim)\n\u001b[1;32m     52\u001b[0m                                    \u001b[38;5;28;01mfor\u001b[39;00m j \u001b[38;5;129;01min\u001b[39;00m \u001b[38;5;28mrange\u001b[39m(udim)], dtype\u001b[38;5;241m=\u001b[39m\u001b[38;5;28mobject\u001b[39m)\n",
      "File \u001b[0;32m/opt/anaconda3/envs/qubic/lib/python3.12/site-packages/pygsti/modelmembers/operations/denseop.py:550\u001b[0m, in \u001b[0;36mDenseUnitaryOperator.__init__\u001b[0;34m(self, mx, basis, evotype, state_space)\u001b[0m\n\u001b[1;32m    548\u001b[0m     superop_mx \u001b[38;5;241m=\u001b[39m mx\u001b[38;5;241m.\u001b[39mreal  \u001b[38;5;66;03m# used as a convenience case that really shouldn't be used\u001b[39;00m\n\u001b[1;32m    549\u001b[0m \u001b[38;5;28;01melse\u001b[39;00m:\n\u001b[0;32m--> 550\u001b[0m     superop_mx \u001b[38;5;241m=\u001b[39m \u001b[43m_ot\u001b[49m\u001b[38;5;241;43m.\u001b[39;49m\u001b[43munitary_to_superop\u001b[49m\u001b[43m(\u001b[49m\u001b[43mmx\u001b[49m\u001b[43m,\u001b[49m\u001b[43m \u001b[49m\u001b[43mbasis\u001b[49m\u001b[43m)\u001b[49m\n\u001b[1;32m    551\u001b[0m rep \u001b[38;5;241m=\u001b[39m evotype\u001b[38;5;241m.\u001b[39mcreate_dense_superop_rep(superop_mx, basis, state_space)\n\u001b[1;32m    552\u001b[0m \u001b[38;5;28mself\u001b[39m\u001b[38;5;241m.\u001b[39m_reptype \u001b[38;5;241m=\u001b[39m \u001b[38;5;124m'\u001b[39m\u001b[38;5;124msuperop\u001b[39m\u001b[38;5;124m'\u001b[39m\n",
      "File \u001b[0;32m/opt/anaconda3/envs/qubic/lib/python3.12/site-packages/pygsti/tools/optools.py:1164\u001b[0m, in \u001b[0;36munitary_to_superop\u001b[0;34m(u, superop_mx_basis)\u001b[0m\n\u001b[1;32m   1162\u001b[0m \u001b[38;5;28;01mdef\u001b[39;00m \u001b[38;5;21munitary_to_superop\u001b[39m(u, superop_mx_basis\u001b[38;5;241m=\u001b[39m\u001b[38;5;124m'\u001b[39m\u001b[38;5;124mpp\u001b[39m\u001b[38;5;124m'\u001b[39m):\n\u001b[1;32m   1163\u001b[0m \u001b[38;5;250m    \u001b[39m\u001b[38;5;124;03m\"\"\" TODO: docstring \"\"\"\u001b[39;00m\n\u001b[0;32m-> 1164\u001b[0m     \u001b[38;5;28;01mreturn\u001b[39;00m \u001b[43m_bt\u001b[49m\u001b[38;5;241;43m.\u001b[39;49m\u001b[43mchange_basis\u001b[49m\u001b[43m(\u001b[49m\u001b[43munitary_to_std_process_mx\u001b[49m\u001b[43m(\u001b[49m\u001b[43mu\u001b[49m\u001b[43m)\u001b[49m\u001b[43m,\u001b[49m\u001b[43m \u001b[49m\u001b[38;5;124;43m'\u001b[39;49m\u001b[38;5;124;43mstd\u001b[39;49m\u001b[38;5;124;43m'\u001b[39;49m\u001b[43m,\u001b[49m\u001b[43m \u001b[49m\u001b[43msuperop_mx_basis\u001b[49m\u001b[43m)\u001b[49m\n",
      "File \u001b[0;32m/opt/anaconda3/envs/qubic/lib/python3.12/site-packages/pygsti/tools/basistools.py:173\u001b[0m, in \u001b[0;36mchange_basis\u001b[0;34m(mx, from_basis, to_basis)\u001b[0m\n\u001b[1;32m    171\u001b[0m     to_basis \u001b[38;5;241m=\u001b[39m _basis\u001b[38;5;241m.\u001b[39mBuiltinBasis(to_basis, dim, sparse\u001b[38;5;241m=\u001b[39mfrom_basis\u001b[38;5;241m.\u001b[39msparse)\n\u001b[1;32m    172\u001b[0m \u001b[38;5;28;01melse\u001b[39;00m:\n\u001b[0;32m--> 173\u001b[0m     \u001b[38;5;28;01massert\u001b[39;00m(to_basis\u001b[38;5;241m.\u001b[39mdim \u001b[38;5;241m==\u001b[39m dim), \u001b[38;5;124m\"\u001b[39m\u001b[38;5;124mdest-basis dimension mismatch: \u001b[39m\u001b[38;5;132;01m%d\u001b[39;00m\u001b[38;5;124m != \u001b[39m\u001b[38;5;132;01m%d\u001b[39;00m\u001b[38;5;124m\"\u001b[39m \u001b[38;5;241m%\u001b[39m (to_basis\u001b[38;5;241m.\u001b[39mdim, dim)\n\u001b[1;32m    174\u001b[0m     \u001b[38;5;66;03m#from_basis = to_basis.create_equivalent(from_basis)\u001b[39;00m\n\u001b[1;32m    175\u001b[0m     from_basis \u001b[38;5;241m=\u001b[39m _basis\u001b[38;5;241m.\u001b[39mBuiltinBasis(from_basis, dim, sparse\u001b[38;5;241m=\u001b[39mto_basis\u001b[38;5;241m.\u001b[39msparse)\n",
      "\u001b[0;31mAssertionError\u001b[0m: dest-basis dimension mismatch: 9 != 81"
     ]
    }
   ],
   "source": [
    "x = random_error_vector(0.1, 0.1)\n",
    "model = make_model(x, 0.1, 0.1)"
   ]
  },
  {
   "cell_type": "code",
   "execution_count": null,
   "metadata": {},
   "outputs": [],
   "source": []
  }
 ],
 "metadata": {
  "kernelspec": {
   "display_name": "qubic",
   "language": "python",
   "name": "python3"
  },
  "language_info": {
   "codemirror_mode": {
    "name": "ipython",
    "version": 3
   },
   "file_extension": ".py",
   "mimetype": "text/x-python",
   "name": "python",
   "nbconvert_exporter": "python",
   "pygments_lexer": "ipython3",
   "version": "3.12.3"
  }
 },
 "nbformat": 4,
 "nbformat_minor": 2
}
