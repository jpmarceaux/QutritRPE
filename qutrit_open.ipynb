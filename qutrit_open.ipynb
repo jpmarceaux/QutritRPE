{
 "cells": [
  {
   "cell_type": "code",
   "execution_count": 24,
   "metadata": {},
   "outputs": [],
   "source": [
    "import pygsti\n",
    "import numpy as np\n",
    "from scipy.linalg import expm\n",
    "from pygsti.circuits import Circuit\n",
    "from matplotlib import pyplot as plt"
   ]
  },
  {
   "cell_type": "code",
   "execution_count": 25,
   "metadata": {},
   "outputs": [],
   "source": [
    "# Gell-Mann matrices\n",
    "gellmann_matrices = [\n",
    "    np.array([[1, 0, 0], [0, 1, 0], [0, 0, 1]]),\n",
    "    np.array([[0, 1, 0], [1, 0, 0], [0, 0, 0]]),\n",
    "    np.array([[0, -1j, 0], [1j, 0, 0], [0, 0, 0]]),\n",
    "    np.array([[1, 0, 0], [0, -1, 0], [0, 0, 0]]),\n",
    "    np.array([[0, 0, 1], [0, 0, 0], [1, 0, 0]]),\n",
    "    np.array([[0, 0, -1j], [0, 0, 0], [1j, 0, 0]]),\n",
    "    np.array([[0, 0, 0], [0, 0, 1], [0, 1, 0]]),\n",
    "    np.array([[0, 0, 0], [0, 0, -1j], [0, 1j, 0]]),\n",
    "    np.array([[1, 0, 0], [0, 1, 0], [0, 0, -2]])\n",
    "]\n",
    "\n",
    "gellmann_8_12 = np.array([[-2, 0, 0], [0, 1, 0], [0, 0, 1]])"
   ]
  },
  {
   "cell_type": "code",
   "execution_count": 26,
   "metadata": {},
   "outputs": [],
   "source": [
    "# unitary models \n",
    "# we ignore axis error \n",
    "def modelX01(theta, gamma):\n",
    "    return expm(-(1j/2)*((np.pi/2 + theta)*gellmann_matrices[1] + gamma*gellmann_matrices[8]))\n",
    "\n",
    "def modelZ01():\n",
    "    return expm(-(1j*np.pi/4)*gellmann_matrices[3])\n",
    "\n",
    "Z12_gen = np.array([[0, 0, 0], [0, 1, 0], [0, 0, -1]])\n",
    "\n",
    "def modelZ12():\n",
    "    return expm(-(1j*np.pi/4)*Z12_gen)\n",
    "\n",
    "def modelX12(theta, gamma):\n",
    "    return expm(-(1j/2)*((np.pi/2 + theta)*gellmann_matrices[4]  + gamma*gellmann_8_12))\n",
    "\n",
    "def modelCZ(phis):\n",
    "    return np.diag([1]+[np.exp(-1j*phi) for phi in phis])\n",
    "\n"
   ]
  },
  {
   "cell_type": "code",
   "execution_count": 27,
   "metadata": {},
   "outputs": [],
   "source": [
    "def parse_error_vector(x):\n",
    "    info = {\n",
    "        'single_qutrit': {\n",
    "            'Q1': {\n",
    "                'X01' : x[0],\n",
    "                'phase01': x[1],\n",
    "                'X12' : x[2], \n",
    "                'phase12': x[3],\n",
    "            },\n",
    "            'Q2': {\n",
    "                'X01' : x[4],\n",
    "                'phase01': x[5],\n",
    "                'X12' : x[6],\n",
    "                'phase12': x[7],\n",
    "            }\n",
    "        },\n",
    "        'two_qutrit': {\n",
    "            'phi1': x[8],\n",
    "            'phi2': x[9],\n",
    "            'phi3': x[10],\n",
    "            'phi4': x[11],\n",
    "            'phi5': x[12],\n",
    "            'phi6': x[13],\n",
    "            'phi7': x[14],\n",
    "            'phi8': x[15]\n",
    "        }  \n",
    "    }\n",
    "    return info\n",
    "\n",
    "def random_error_vector(single_qutrit_rates, two_qutrit_rates):\n",
    "    q1_vec = np.random.multivariate_normal(np.zeros(4), np.eye(4)*single_qutrit_rates)\n",
    "    q2_vec = np.random.multivariate_normal(np.zeros(4), np.eye(4)*single_qutrit_rates)\n",
    "    two_qubit_vec = np.random.multivariate_normal(np.zeros(8), np.eye(8)*two_qutrit_rates)\n",
    "    return np.concatenate((q1_vec, q2_vec, two_qubit_vec))\n"
   ]
  },
  {
   "cell_type": "code",
   "execution_count": 28,
   "metadata": {},
   "outputs": [],
   "source": [
    "from pygsti.tools import unitary_to_std_process_mx\n",
    "from pygsti.modelmembers.operations import EmbeddedOp, FullArbitraryOp"
   ]
  },
  {
   "cell_type": "code",
   "execution_count": 29,
   "metadata": {},
   "outputs": [],
   "source": [
    "from pygsti.baseobjs import ExplicitStateSpace\n",
    "from pygsti.models import ExplicitOpModel\n",
    "from pygsti.models.modelconstruction import create_spam_vector\n",
    "from pygsti.modelmembers.povms import UnconstrainedPOVM, FullPOVMEffect\n",
    "from pygsti.modelmembers.states import FullState\n",
    "from pygsti.tools import change_basis\n",
    "\n",
    "psi0 = np.array([1, 0, 0])\n",
    "psi1 = np.array([0, 1, 0])\n",
    "psi2 = np.array([0, 0, 1])\n",
    "\n",
    "def label_to_spam_vec(lbl):\n",
    "    if lbl == '00':\n",
    "        rho = np.diag([1, 0, 0, 0, 0, 0, 0, 0, 0])\n",
    "    elif lbl == '01':\n",
    "        rho = np.diag([0, 1, 0, 0, 0, 0, 0, 0, 0])\n",
    "    elif lbl == '02':\n",
    "        rho = np.diag([0, 0, 1, 0, 0, 0, 0, 0, 0])\n",
    "    elif lbl == '10':\n",
    "        rho = np.diag([0, 0, 0, 1, 0, 0, 0, 0, 0])\n",
    "    elif lbl == '11':\n",
    "        rho = np.diag([0, 0, 0, 0, 1, 0, 0, 0, 0])\n",
    "    elif lbl == '12':\n",
    "        rho = np.diag([0, 0, 0, 0, 0, 1, 0, 0, 0])\n",
    "    elif lbl == '20':\n",
    "        rho = np.diag([0, 0, 0, 0, 0, 0, 1, 0, 0])\n",
    "    elif lbl == '21':\n",
    "        rho = np.diag([0, 0, 0, 0, 0, 0, 0, 1, 0])\n",
    "    elif lbl == '22':\n",
    "        rho = np.diag([0, 0, 0, 0, 0, 0, 0, 0, 1])\n",
    "    return change_basis(rho.reshape(-1, 1).astype(float), 'std', 'gm')\n",
    "\n",
    "def make_model(error_vector, single_qutrit_depol, two_qutrit_depol):\n",
    "    joint_state_space = ExplicitStateSpace([('Q1','Q2')], [(3,3)])\n",
    "    ss_q1 = ExplicitStateSpace('Q1', 3)\n",
    "    ss_q2 = ExplicitStateSpace('Q2', 3)\n",
    "\n",
    "    model = ExplicitOpModel(joint_state_space)\n",
    "\n",
    "    # Add state prep and measurement\n",
    "    \n",
    "    model['rho0'] =  change_basis(np.diag([1, 0, 0, 0, 0, 0, 0, 0, 0]).reshape(-1, 1).astype(float), 'std', 'gm')\n",
    "    model['Mdefault'] = UnconstrainedPOVM({ '00' : label_to_spam_vec('00'),\n",
    "                                            '01' : label_to_spam_vec('01'),\n",
    "                                            '02' : label_to_spam_vec('02'),\n",
    "                                            '10' : label_to_spam_vec('10'),\n",
    "                                            '11' : label_to_spam_vec('11'),\n",
    "                                            '12' : label_to_spam_vec('12'),\n",
    "                                            '20' : label_to_spam_vec('20'),\n",
    "                                            '21' : label_to_spam_vec('21'),\n",
    "                                            '22' : label_to_spam_vec('22')}, evotype='densitymx')\n",
    "\n",
    "    # Parse error vector\n",
    "    errors = parse_error_vector(error_vector)\n",
    "    x01_Q1 = errors['single_qutrit']['Q1']['X01']\n",
    "    x12_Q1 = errors['single_qutrit']['Q1']['X12']\n",
    "    x01_Q2 = errors['single_qutrit']['Q2']['X01']\n",
    "    x12_Q2 = errors['single_qutrit']['Q2']['X12']\n",
    "    \n",
    "    phase01_Q1 = errors['single_qutrit']['Q1']['phase01']\n",
    "    phase12_Q1 = errors['single_qutrit']['Q1']['phase12']\n",
    "    phase01_Q2 = errors['single_qutrit']['Q2']['phase01']\n",
    "    phase12_Q2 = errors['single_qutrit']['Q2']['phase12']\n",
    "\n",
    "    phi1 = errors['two_qutrit']['phi1']\n",
    "    phi2 = errors['two_qutrit']['phi2']\n",
    "    phi3 = errors['two_qutrit']['phi3']\n",
    "    phi4 = errors['two_qutrit']['phi4']\n",
    "    phi5 = errors['two_qutrit']['phi5']\n",
    "    phi6 = errors['two_qutrit']['phi6']\n",
    "    phi7 = errors['two_qutrit']['phi7']\n",
    "    phi8 = errors['two_qutrit']['phi8']\n",
    "    phis = [phi1, phi2, phi3, phi4, phi5, phi6, phi7, phi8]\n",
    "\n",
    "\n",
    "    # Define single qutrit gates\n",
    "    X01_Q1_unitary = FullArbitraryOp(change_basis(unitary_to_std_process_mx(modelX01(x01_Q1, phase01_Q1)), 'std', 'gm'), basis='gm', state_space=ss_q1)\n",
    "    Z01_Q1_unitary = FullArbitraryOp(change_basis(unitary_to_std_process_mx(modelZ01()), 'std', 'gm'), basis='std', state_space=ss_q1)\n",
    "    X12_Q1_unitary = FullArbitraryOp(change_basis(unitary_to_std_process_mx(modelX12(x12_Q1, phase12_Q1)), 'std', 'gm'), basis='gm', state_space=ss_q1)\n",
    "    Z12_Q1_unitary = FullArbitraryOp(change_basis(unitary_to_std_process_mx(modelZ12()), 'std', 'gm'), basis='gm', state_space=ss_q1)\n",
    "\n",
    "    X01_Q1_unitary.depolarize(single_qutrit_depol)\n",
    "    Z01_Q1_unitary.depolarize(single_qutrit_depol)\n",
    "    X12_Q1_unitary.depolarize(single_qutrit_depol)\n",
    "    Z12_Q1_unitary.depolarize(single_qutrit_depol)\n",
    "\n",
    "    X01_Q2_unitary = FullArbitraryOp(change_basis(unitary_to_std_process_mx(modelX01(x01_Q2, phase01_Q2)), 'std', 'gm'), basis='gm', state_space=ss_q2)\n",
    "    Z01_Q2_unitary = FullArbitraryOp(change_basis(unitary_to_std_process_mx(modelZ01()), 'std', 'gm'), basis='std', state_space=ss_q2)\n",
    "    X12_Q2_unitary = FullArbitraryOp(change_basis(unitary_to_std_process_mx(modelX12(x12_Q2, phase12_Q2)), 'std', 'gm'), basis='gm', state_space=ss_q2)\n",
    "    Z12_Q2_unitary = FullArbitraryOp(change_basis(unitary_to_std_process_mx(modelZ12()), 'std', 'gm'), basis='gm', state_space=ss_q2)\n",
    "\n",
    "    X01_Q2_unitary.depolarize(single_qutrit_depol)\n",
    "    Z01_Q2_unitary.depolarize(single_qutrit_depol)\n",
    "    X12_Q2_unitary.depolarize(single_qutrit_depol)\n",
    "    Z12_Q2_unitary.depolarize(single_qutrit_depol)\n",
    "\n",
    "    # Define two qutrit gates\n",
    "    CZ = FullArbitraryOp(change_basis(unitary_to_std_process_mx(modelCZ(phis)), 'std', 'gm'), basis='gm', state_space=joint_state_space)\n",
    "    CZ.depolarize(two_qutrit_depol)\n",
    "\n",
    "    # Add gates to model\n",
    "    model.operations[('G_X01', 'Q1')] = EmbeddedOp(joint_state_space, ('Q1',), X01_Q1_unitary)\n",
    "    model.operations[('G_Z01', 'Q1')] = EmbeddedOp(joint_state_space, ('Q1',), Z01_Q1_unitary)\n",
    "    model.operations[('G_X12', 'Q1')] = EmbeddedOp(joint_state_space, ('Q1',), X12_Q1_unitary)\n",
    "    model.operations[('G_Z12', 'Q1')] = EmbeddedOp(joint_state_space, ('Q1',), Z12_Q1_unitary)\n",
    "    model.operations[('G_X01', 'Q2')] = EmbeddedOp(joint_state_space, ('Q2',), X01_Q2_unitary)\n",
    "    model.operations[('G_Z01', 'Q2')] = EmbeddedOp(joint_state_space, ('Q2',), Z01_Q2_unitary)\n",
    "    model.operations[('G_X12', 'Q2')] = EmbeddedOp(joint_state_space, ('Q2',), X12_Q2_unitary)\n",
    "    model.operations[('G_Z12', 'Q2')] = EmbeddedOp(joint_state_space, ('Q2',), Z12_Q2_unitary)\n",
    "\n",
    "    model.operations['G_CZ'] = CZ\n",
    "\n",
    "    return model"
   ]
  },
  {
   "cell_type": "code",
   "execution_count": 61,
   "metadata": {},
   "outputs": [],
   "source": []
  },
  {
   "cell_type": "code",
   "execution_count": 30,
   "metadata": {},
   "outputs": [],
   "source": [
    "prep_dict = {\n",
    "    '00' : ([]), \n",
    "}\n",
    "\n",
    "meas_dict = {\n",
    "    '00' : ([]),\n",
    "}\n",
    "\n",
    "\n",
    "gate_dict = {\n",
    "    'G_CZ' : ([('Gcz', 'Q1', 'Q2')]),\n",
    "    'G_X01' : ([('G_X01(Q1)', 'Q1')]),\n",
    "    'G_Z01' : ([('G_Z01(Q1)', 'Q1')]),\n",
    "    'G_X12' : ([('G_X12(Q1)', 'Q1')]),\n",
    "    'G_Z12' : ([('G_Z12(Q1)', 'Q1')]),\n",
    "    'G_X01' : ([('G_X01(Q2)', 'Q2')]),\n",
    "    'G_Z01' : ([('G_Z01(Q2)', 'Q2')]),\n",
    "    'G_X12' : ([('G_X12(Q2)', 'Q2')]),\n",
    "    'G_Z12' : ([('G_Z12(Q2)', 'Q2')]),\n",
    "}\n",
    "\n",
    "def make_circuit(gate, prep_label, meas_label, depth):\n",
    "    prep_circ = prep_dict[prep_label]\n",
    "    meas_circ = meas_dict[meas_label]\n",
    "    return Circuit(['rho0'] + prep_circ + [gate]*depth + meas_circ + ['Mdefault'], line_labels=['Q1', 'Q2'])"
   ]
  },
  {
   "cell_type": "code",
   "execution_count": 17,
   "metadata": {},
   "outputs": [],
   "source": [
    "x = random_error_vector(0, 0)\n",
    "model = make_model(x, 0.001, 0.01)"
   ]
  },
  {
   "cell_type": "code",
   "execution_count": 18,
   "metadata": {},
   "outputs": [
    {
     "data": {
      "text/plain": [
       "array([0.33333333, 0.        , 0.        , 0.        , 0.        ,\n",
       "       0.        , 0.        , 0.        , 0.        , 0.        ,\n",
       "       0.        , 0.        , 0.        , 0.        , 0.        ,\n",
       "       0.        , 0.        , 0.        , 0.        , 0.        ,\n",
       "       0.        , 0.        , 0.        , 0.        , 0.        ,\n",
       "       0.        , 0.        , 0.        , 0.        , 0.        ,\n",
       "       0.        , 0.        , 0.        , 0.        , 0.        ,\n",
       "       0.        , 0.        , 0.        , 0.        , 0.        ,\n",
       "       0.        , 0.        , 0.        , 0.        , 0.        ,\n",
       "       0.        , 0.        , 0.        , 0.        , 0.        ,\n",
       "       0.        , 0.        , 0.        , 0.        , 0.        ,\n",
       "       0.        , 0.        , 0.        , 0.        , 0.        ,\n",
       "       0.        , 0.        , 0.        , 0.        , 0.        ,\n",
       "       0.        , 0.        , 0.        , 0.        , 0.        ,\n",
       "       0.        , 0.        , 0.        , 0.70710678, 0.40824829,\n",
       "       0.28867513, 0.2236068 , 0.18257419, 0.15430335, 0.13363062,\n",
       "       0.11785113])"
      ]
     },
     "execution_count": 18,
     "metadata": {},
     "output_type": "execute_result"
    }
   ],
   "source": [
    "model['Mdefault']['00'].to_dense()"
   ]
  },
  {
   "cell_type": "code",
   "execution_count": 19,
   "metadata": {},
   "outputs": [],
   "source": [
    "circ = make_circuit(('G_X01', 'Q2'), '00', '00', 1)"
   ]
  },
  {
   "cell_type": "code",
   "execution_count": 20,
   "metadata": {},
   "outputs": [
    {
     "name": "stdout",
     "output_type": "stream",
     "text": [
      "Qubit Q1 ---|rho0|-|     |-|Mdefault|---\n",
      "Qubit Q2 ---|rho0|-|G_X01|-|Mdefault|---\n",
      "\n"
     ]
    }
   ],
   "source": [
    "print(circ)"
   ]
  },
  {
   "cell_type": "code",
   "execution_count": 21,
   "metadata": {},
   "outputs": [
    {
     "data": {
      "text/plain": [
       "OutcomeLabelDict([(('00',), 0.8414517253927576),\n",
       "                  (('01',), -0.15754827460724233),\n",
       "                  (('02',), 0.12224887852533313),\n",
       "                  (('10',), 0.18217301226998187),\n",
       "                  (('11',), 0.39633550798583994),\n",
       "                  (('12',), -0.08773095591996724),\n",
       "                  (('20',), -0.21307127424204034),\n",
       "                  (('21',), -0.08396973051577436),\n",
       "                  (('22',), 0.00011111111111102023)])"
      ]
     },
     "execution_count": 21,
     "metadata": {},
     "output_type": "execute_result"
    }
   ],
   "source": [
    "model.probabilities(circ)"
   ]
  },
  {
   "cell_type": "code",
   "execution_count": 542,
   "metadata": {},
   "outputs": [
    {
     "data": {
      "text/plain": [
       "OrderedMemberDict([(Label(('G_X01', 'Q1')),\n",
       "                    <pygsti.modelmembers.operations.embeddedop.EmbeddedOp at 0x7fbffc19ded0>),\n",
       "                   (Label(('G_Z01', 'Q1')),\n",
       "                    <pygsti.modelmembers.operations.embeddedop.EmbeddedOp at 0x7fbffc19cc10>),\n",
       "                   (Label(('G_X12', 'Q1')),\n",
       "                    <pygsti.modelmembers.operations.embeddedop.EmbeddedOp at 0x7fbffc19c0d0>),\n",
       "                   (Label(('G_Z12', 'Q1')),\n",
       "                    <pygsti.modelmembers.operations.embeddedop.EmbeddedOp at 0x7fbffc19ffa0>),\n",
       "                   (Label(('G_X01', 'Q2')),\n",
       "                    <pygsti.modelmembers.operations.embeddedop.EmbeddedOp at 0x7fbffc19c850>),\n",
       "                   (Label(('G_Z01', 'Q2')),\n",
       "                    <pygsti.modelmembers.operations.embeddedop.EmbeddedOp at 0x7fbffc19c460>),\n",
       "                   (Label(('G_X12', 'Q2')),\n",
       "                    <pygsti.modelmembers.operations.embeddedop.EmbeddedOp at 0x7fbffc19c580>),\n",
       "                   (Label(('G_Z12', 'Q2')),\n",
       "                    <pygsti.modelmembers.operations.embeddedop.EmbeddedOp at 0x7fbffc19e170>),\n",
       "                   (Label('G_CZ'),\n",
       "                    <pygsti.modelmembers.operations.fullarbitraryop.FullArbitraryOp at 0x7fbffc19d240>)])"
      ]
     },
     "execution_count": 542,
     "metadata": {},
     "output_type": "execute_result"
    }
   ],
   "source": [
    "model.operations"
   ]
  },
  {
   "cell_type": "code",
   "execution_count": null,
   "metadata": {},
   "outputs": [],
   "source": []
  },
  {
   "cell_type": "code",
   "execution_count": null,
   "metadata": {},
   "outputs": [],
   "source": []
  }
 ],
 "metadata": {
  "kernelspec": {
   "display_name": "qubic",
   "language": "python",
   "name": "python3"
  },
  "language_info": {
   "codemirror_mode": {
    "name": "ipython",
    "version": 3
   },
   "file_extension": ".py",
   "mimetype": "text/x-python",
   "name": "python",
   "nbconvert_exporter": "python",
   "pygments_lexer": "ipython3",
   "version": "3.10.11"
  }
 },
 "nbformat": 4,
 "nbformat_minor": 2
}
